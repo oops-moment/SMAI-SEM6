{
 "cells": [
  {
   "cell_type": "code",
   "execution_count": 7,
   "metadata": {},
   "outputs": [],
   "source": [
    "import numpy as np\n",
    "from collections import Counter\n",
    "\n",
    "def euclidean_distance(x1, x2):\n",
    "    return np.sqrt(np.sum((x1 - x2) ** 2))\n",
    "\n",
    "class KNN:\n",
    "    def __init__(self, k=3):\n",
    "        self.k = k\n",
    "\n",
    "    def fit(self, X, y):\n",
    "        self.X_train = X\n",
    "        self.y_train = y\n",
    "\n",
    "    def predict(self, X):\n",
    "        predictions = [self._predict(x) for x in X]\n",
    "        return predictions\n",
    "\n",
    "    def _predict(self, x):\n",
    "        # Compute distances and get the indices of the k closest neighbors\n",
    "        distances = [euclidean_distance(x, x_train) for x_train in self.X_train]\n",
    "        indices = np.argsort(distances)[:self.k]\n",
    "        k_nearest_labels = [self.y_train[i] for i in indices]\n",
    "\n",
    "        # Majority vote: Find the most common class label\n",
    "        most_common_label, _ = Counter(k_nearest_labels).most_common(1)[0]\n",
    "\n",
    "        return most_common_label\n",
    "  "
   ]
  },
  {
   "cell_type": "code",
   "execution_count": 8,
   "metadata": {},
   "outputs": [
    {
     "name": "stdout",
     "output_type": "stream",
     "text": [
      "0.985406532314107\n"
     ]
    }
   ],
   "source": [
    "from sklearn.model_selection import train_test_split\n",
    "import numpy as np\n",
    "import pandas as pd \n",
    "from sklearn.preprocessing import LabelEncoder\n",
    "\n",
    "\n",
    "data=pd.read_csv('Q1Data.csv')\n",
    "selected_features = ['MFCCs_ 1', 'MFCCs_ 2', 'MFCCs_ 3', 'MFCCs_ 4', 'MFCCs_ 5', 'MFCCs_ 6','MFCCs_ 7','MFCCs_ 8', 'MFCCs_9', 'MFCCs_10', 'MFCCs_11', 'MFCCs_12', 'MFCCs_13','MFCCs_14', 'MFCCs_15', 'MFCCs_16', 'MFCCs_17', 'MFCCs_18', 'MFCCs_19','MFCCs_20', 'MFCCs_21']\n",
    "X = data[selected_features]\n",
    "Y= data['Genus']\n",
    "le = LabelEncoder()\n",
    "Y = le.fit_transform(Y)\n",
    "X = X.to_numpy()\n",
    "\n",
    "knn= KNN(k=5)\n",
    "\n",
    "\n"
   ]
  },
  {
   "cell_type": "code",
   "execution_count": 9,
   "metadata": {},
   "outputs": [],
   "source": [
    "X_train, X_test, y_train, y_test = train_test_split(X, Y, test_size=0.20, random_state=42)\n",
    "knn.fit(X_train, y_train)\n",
    "\n",
    "k_values=[1,3,5,7,9,11,13,15,17,19,21]\n",
    "accuracies=[]\n",
    "for k in k_values:\n",
    "    knn=KNN(k=k)\n",
    "    knn.fit(X_train,y_train)\n",
    "    predictions=knn.predict(X_test)\n",
    "    accuracy=np.sum(predictions==y_test)/len(y_test)\n",
    "    accuracies.append(accuracy)\n",
    "\n",
    "import matplotlib.pyplot as plt\n",
    "plt.plot(k_values,accuracies)\n",
    "plt.xlabel(\"k\")\n",
    "plt.ylabel(\"Validation Accuracy\")\n",
    "plt.title(\"KNN Classifier Accuracy\")"
   ]
  },
  {
   "cell_type": "code",
   "execution_count": null,
   "metadata": {},
   "outputs": [],
   "source": [
    "# Find the optimal value of k\n",
    "optimal_k = 3\n",
    "for i in range(1, len(accuracies)):\n",
    "    if accuracy[i] < accuracy[i - 1]:\n",
    "        optimal_k = k_values[i - 1]\n",
    "        break"
   ]
  },
  {
   "cell_type": "code",
   "execution_count": null,
   "metadata": {},
   "outputs": [],
   "source": [
    "\n",
    "predions = knn.predict(X_test)\n",
    "\n",
    "def accuracy(y_test, y_pred):\n",
    "    return np.sum(y_test == y_pred) / len(y_test)\n",
    "\n",
    "acc = accuracy(y_test, predions)\n",
    "print(acc)\n"
   ]
  },
  {
   "cell_type": "markdown",
   "metadata": {},
   "source": [
    "## B"
   ]
  },
  {
   "cell_type": "code",
   "execution_count": null,
   "metadata": {},
   "outputs": [],
   "source": [
    "# Split the dataset into training (30%) and test (10%)\n",
    "X_train, X_test, y_train, y_test = train_test_split(X, Y, test_size=0.1, train_size=0.3, random_state=42)\n",
    "\n",
    "# Initialize lists to store accuracy values\n",
    "k_values = list(range(1, 51))\n",
    "accuracy_values = []\n",
    "\n",
    "# Loop through k values\n",
    "for k in k_values:\n",
    "    # Initialize KNN classifier with current k value\n",
    "    knn = KNN(k=k)\n",
    "\n",
    "    # Fit the model on the training data\n",
    "    knn.fit(X_train, y_train)\n",
    "\n",
    "    # Predictions on the test data\n",
    "    predictions = knn.predict(X_test)\n",
    "\n",
    "    # Calculate accuracy and store it\n",
    "    acc = np.sum(y_test == predictions) / len(y_test)\n",
    "    accuracy_values.append(acc)\n",
    "\n",
    "# Plot the test accuracy for different k values\n",
    "plt.plot(k_values, accuracy_values, marker='o')\n",
    "plt.title('Test Accuracy for Different k Values')\n",
    "plt.xlabel('k')\n",
    "plt.ylabel('Test Accuracy')\n",
    "plt.show()\n"
   ]
  }
 ],
 "metadata": {
  "kernelspec": {
   "display_name": "Python 3",
   "language": "python",
   "name": "python3"
  },
  "language_info": {
   "codemirror_mode": {
    "name": "ipython",
    "version": 3
   },
   "file_extension": ".py",
   "mimetype": "text/x-python",
   "name": "python",
   "nbconvert_exporter": "python",
   "pygments_lexer": "ipython3",
   "version": "3.11.0"
  }
 },
 "nbformat": 4,
 "nbformat_minor": 2
}
