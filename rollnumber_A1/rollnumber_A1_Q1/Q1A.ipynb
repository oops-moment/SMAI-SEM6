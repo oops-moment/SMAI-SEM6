{
 "cells": [
  {
   "cell_type": "markdown",
   "metadata": {},
   "source": [
    "Information Gain = E(Parent)-weighted average of E(Children)\n",
    "E = -summation(p*log(p))\n",
    "p = probability of a class\n",
    "\n",
    "Stopping Criteria : Maximum Depth, Minimum number of samples before you divide, minimum impurity decrease\n",
    "\n",
    "TO BE CARED\n"
   ]
  },
  {
   "cell_type": "code",
   "execution_count": 33,
   "metadata": {},
   "outputs": [],
   "source": [
    "import numpy as np"
   ]
  },
  {
   "cell_type": "code",
   "execution_count": 34,
   "metadata": {},
   "outputs": [
    {
     "name": "stdout",
     "output_type": "stream",
     "text": [
      "[0 1 1 0 1 3 0 1 2]\n",
      "5\n"
     ]
    }
   ],
   "source": [
    "# testing bincount and argmax function\n",
    "arrayy = np.array([1, 2, 5, 4, 5, 5, 7, 8, 8])\n",
    "print(np.bincount(arrayy))\n",
    "print(np.argmax(np.bincount(arrayy)))"
   ]
  },
  {
   "cell_type": "code",
   "execution_count": 35,
   "metadata": {},
   "outputs": [],
   "source": [
    "class Node:\n",
    "    def __init__(self, feature=None, threshold=None, left=None, right=None, *, value=None):\n",
    "        # * used for leaf node creation\n",
    "        self.feature = feature  # feature for separation\n",
    "        self.threshold = threshold  # separation threshold\n",
    "        self.left = left\n",
    "        self.right = right  # left and right pointers\n",
    "        self.value = value  # only for leaf nodes\n",
    "\n",
    "    def is_leaf(self):\n",
    "        return self.value is not None\n"
   ]
  },
  {
   "cell_type": "code",
   "execution_count": 36,
   "metadata": {},
   "outputs": [],
   "source": [
    "class DecisionTree:\n",
    "    def __init__(self, min_samples_split=2, max_depth=100, n_features=None):\n",
    "        self.min_samples_split = min_samples_split #minimum number of samples in order to split a node since we dont want data to overfit at any cost\n",
    "        self.max_depth = max_depth # maximum depth tree can take\n",
    "        self.n_features = n_features  # number of features that need to considered\n",
    "        self.root = None\n",
    "    \n",
    "    def about(self):\n",
    "        print(\"Decision Tree Classifier\")\n",
    "        print(\"min_samples_split: \", self.min_samples_split)\n",
    "        print(\"max_depth: \", self.max_depth)\n",
    "        print(\"n_features: \", self.n_features)\n",
    "    \n",
    "    def most_common_label(self, y):\n",
    "        return (np.argmax(np.bincount(y)))\n",
    "        \n",
    "    def fit(self, X, y):\n",
    "        if(self.n_features == None):\n",
    "            self.n_features = X.shape[1]\n",
    "        else:\n",
    "            if(self.n_features > X.shape[1]):\n",
    "                raise ValueError(\"n_features cannot be greater than total number of features\")\n",
    "                    # Make sure the number of features is less than or equal to the available features\n",
    "        self.root = self._grow_tree(X, y)\n",
    "\n",
    "    def _best_split(self, X, y, feat_index):\n",
    "        best_gain = -1\n",
    "        split_index, split_threshold = None, None\n",
    "        for feat_idx in feat_index:\n",
    "            X_column = X[:, feat_idx]\n",
    "            thresholds = np.unique(X_column)\n",
    "            for threshold in thresholds:\n",
    "                gain = self._information_gain(y, X_column, threshold)\n",
    "                if gain > best_gain:\n",
    "                    best_gain = gain\n",
    "                    split_index = feat_idx\n",
    "                    split_threshold = threshold\n",
    "        return split_threshold, split_index\n",
    "    \n",
    "    def _grow_tree(self, X, y, depth=0):\n",
    "        n_samples= X.shape[0]\n",
    "        n_features = X.shape[1]\n",
    "        n_labels = len(np.unique(y))\n",
    "        # Check stopping criteria\n",
    "        if ((depth >= self.max_depth) or (n_labels == 1) or( n_samples < self.min_samples_split)):\n",
    "            # return new node simple\n",
    "            leaf_value = self.most_common_label(y)\n",
    "            return Node(value=leaf_value)\n",
    "\n",
    "        # Find best split\n",
    "        feat_index = np.random.choice(n_features, self.n_features, replace=False)\n",
    "        best_threshold, best_feature = self._best_split(X, y, feat_index)\n",
    "\n",
    "        # Create child nodes\n",
    "        left_idxs,right_idxs = self._split(X[:, best_feature], best_threshold)\n",
    "        left = self._grow_tree(X[left_idxs, :], y[left_idxs], depth+1)\n",
    "        right = self._grow_tree(X[right_idxs , :], y[right_idxs ], depth+1)\n",
    "\n",
    "        return Node(best_feature,best_threshold,left,right)\n",
    "\n",
    "\n",
    "        # Call grow tree on child nodes\n",
    "    \n",
    "    def _information_gain(self, y, X_column, threshold):\n",
    "        parent_entropy = self._entropy(y)\n",
    "        left_idx, right_idx = self._split(X_column, threshold)\n",
    "        if len(left_idx) == 0 or len(right_idx) == 0:\n",
    "            return 0\n",
    "        n = len(y)\n",
    "        n_l, n_r = len(left_idx), len(right_idx)\n",
    "        e_l, e_r = self._entropy(y[left_idx]), self._entropy(y[right_idx])\n",
    "        child_entropy = (n_l/n) * e_l + (n_r/n) * e_r\n",
    "\n",
    "        ig = parent_entropy - child_entropy\n",
    "        return ig\n",
    "            \n",
    "    def _split(self, X_column, threshold):\n",
    "        left_idx = np.argwhere(X_column <= threshold).flatten()\n",
    "        right_idx = np.argwhere(X_column > threshold).flatten()\n",
    "        return left_idx, right_idx\n",
    "\n",
    "    \n",
    "    def _entropy(self, y):\n",
    "        # Calculate and return entropy\n",
    "        # example if array is [1,2,3,1,2] \n",
    "        hist = np.bincount(y)\n",
    "        ps = hist / len(y)\n",
    "        # you got the probabilities\n",
    "        return -np.sum([p * np.log2(p) for p in ps if p > 0])\n",
    "    \n",
    "    def predict(self,X):\n",
    "        return np.array([self._traverse_tree(x, self.root) for x in X])\n",
    "\n",
    "    def _traverse_tree(self, x, node):\n",
    "        if(node.is_leaf()):\n",
    "            return node.value\n",
    "        \n",
    "        if(x[node.feature] <= node.threshold):\n",
    "            return self._traverse_tree(x, node.left)\n",
    "        \n",
    "        return self._traverse_tree(x, node.right)\n",
    "\n",
    "\n",
    "     \n"
   ]
  },
  {
   "cell_type": "code",
   "execution_count": 38,
   "metadata": {},
   "outputs": [
    {
     "name": "stdout",
     "output_type": "stream",
     "text": [
      "0.8860319666435025\n",
      "Decision Tree Classifier\n",
      "min_samples_split:  2\n",
      "max_depth:  8\n",
      "n_features:  6\n",
      "None\n"
     ]
    }
   ],
   "source": [
    "from sklearn import datasets\n",
    "from sklearn.model_selection import train_test_split\n",
    "import numpy as np\n",
    "import pandas as pd \n",
    "from sklearn.preprocessing import LabelEncoder\n",
    "\n",
    "\n",
    "data=pd.read_csv('Q1Data.csv')\n",
    "selected_features = ['MFCCs_ 1', 'MFCCs_ 2', 'MFCCs_ 3', 'MFCCs_ 4', 'MFCCs_ 5', 'MFCCs_ 6']\n",
    "X = data[selected_features]\n",
    "Y= data['Genus']\n",
    "le = LabelEncoder()\n",
    "Y = le.fit_transform(Y)\n",
    "clf = DecisionTree(max_depth=8)\n",
    "X = X.to_numpy()\n",
    "\n",
    "X_train, X_test, y_train, y_test = train_test_split(X, Y, test_size=0.80, random_state=42)\n",
    "clf.fit(X_train, y_train)\n",
    "predictions = clf.predict(X_test)\n",
    "\n",
    "def accuracy(y_test, y_pred):\n",
    "    return np.sum(y_test == y_pred) / len(y_test)\n",
    "\n",
    "acc = accuracy(y_test, predictions)\n",
    "print(acc)\n",
    "print(clf.about())"
   ]
  },
  {
   "cell_type": "code",
   "execution_count": 40,
   "metadata": {},
   "outputs": [],
   "source": [
    "import matplotlib.pyplot as plt\n",
    "max_depths = range(1, 16)\n",
    "test_accuracies = []\n",
    "\n",
    "for depth in max_depths:\n",
    "    clf = DecisionTree(max_depth=depth)\n",
    "    clf.fit(X_train, y_train)\n",
    "    predictions = clf.predict(X_test)\n",
    "    acc = accuracy(y_test, predictions)\n",
    "    test_accuracies.append(acc)\n",
    "\n"
   ]
  },
  {
   "cell_type": "code",
   "execution_count": 41,
   "metadata": {},
   "outputs": [
    {
     "data": {
      "image/png": "[encoded data removed]",
      "text/plain": [
       "<Figure size 640x480 with 1 Axes>"
      ]
     },
     "metadata": {},
     "output_type": "display_data"
    }
   ],
   "source": [
    "# Plot the results\n",
    "plt.plot(max_depths, test_accuracies, marker='o')\n",
    "plt.title('Test Accuracy vs. Tree Depth')\n",
    "plt.xlabel('Tree Depth')\n",
    "plt.ylabel('Test Accuracy')\n",
    "plt.grid(True)\n",
    "plt.show()"
   ]
  },
  {
   "cell_type": "markdown",
   "metadata": {},
   "source": [
    "The graph indicates a positive correlation between the depth of the Decision Tree and its accuracy on the test set. As the depth increases, accuracy improves, reaching a peak around a depth of 10. Beyond this point, accuracy plateaus or slightly declines, suggesting diminishing returns and potential overfitting to the training data.\n",
    "\n",
    "Interpretation:\n",
    "\n",
    "Initial Improvement: Deeper trees capture intricate patterns, enhancing performance on the training set.\n",
    "\n",
    "Diminishing Returns: Accuracy plateaus after a depth of 10, signifying limited gains and a risk of overfitting."
   ]
  }
 ],
 "metadata": {
  "kernelspec": {
   "display_name": "Python 3",
   "language": "python",
   "name": "python3"
  },
  "language_info": {
   "codemirror_mode": {
    "name": "ipython",
    "version": 3
   },
   "file_extension": ".py",
   "mimetype": "text/x-python",
   "name": "python",
   "nbconvert_exporter": "python",
   "pygments_lexer": "ipython3",
   "version": "3.11.0"
  }
 },
 "nbformat": 4,
 "nbformat_minor": 2
}
