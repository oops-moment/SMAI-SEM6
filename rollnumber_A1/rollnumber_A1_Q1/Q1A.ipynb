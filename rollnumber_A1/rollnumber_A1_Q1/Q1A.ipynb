{
 "cells": [
  {
   "cell_type": "markdown",
   "metadata": {},
   "source": [
    "##### Used in the Implementation of Decision Trees\n",
    "Information Gain = E(Parent)-weighted average of E(Children)\n",
    "E= -summation(p*log(p))\n",
    "p = probability of a class\n",
    "\n",
    "Stopping Criteria : Maximum Depth, Minimum number of samples before you divide, minimum impurity decrease\n",
    "Video Reference: https://www.youtube.com/watch?v=NxEHSAfFlK8\n"
   ]
  },
  {
   "cell_type": "code",
   "execution_count": 19,
   "metadata": {},
   "outputs": [],
   "source": [
    "# LIBRARIES HERE\n",
    "import numpy as np\n",
    "from sklearn.model_selection import train_test_split\n",
    "import pandas as pd \n",
    "from sklearn.preprocessing import LabelEncoder\n",
    "import matplotlib.pyplot as plt\n",
    "\n"
   ]
  },
  {
   "cell_type": "code",
   "execution_count": 20,
   "metadata": {},
   "outputs": [
    {
     "name": "stdout",
     "output_type": "stream",
     "text": [
      "[0 1 1 0 1 3 0 1 2]\n",
      "5\n"
     ]
    }
   ],
   "source": [
    "# Testing Function for Numpy Features\n",
    "# testing bincount and argmax function\n",
    "arrayy = np.array([1, 2, 5, 4, 5, 5, 7, 8, 8])\n",
    "print(np.bincount(arrayy))\n",
    "print(np.argmax(np.bincount(arrayy)))"
   ]
  },
  {
   "cell_type": "code",
   "execution_count": 21,
   "metadata": {},
   "outputs": [],
   "source": [
    "class Node:\n",
    "    def __init__(self, feature=None, threshold=None, left=None, right=None, *, value=None):\n",
    "        # * used for leaf node creation\n",
    "        self.feature = feature  # feature for separation\n",
    "        self.threshold = threshold  # separation threshold\n",
    "        self.left = left\n",
    "        self.right = right  # left and right pointers\n",
    "        self.value = value  # only for leaf nodes\n",
    "\n",
    "    def is_leaf(self):\n",
    "        if(self.value is None):\n",
    "            return False\n",
    "        else:\n",
    "            return True\n"
   ]
  },
  {
   "cell_type": "code",
   "execution_count": 22,
   "metadata": {},
   "outputs": [],
   "source": [
    "class DecisionTree:\n",
    "    def __init__(self, min_samples_split=2, max_depth=100, n_features=None):\n",
    "        self.min_samples_split = min_samples_split #minimum number of samples in order to split a node since we dont want data to overfit at any cost\n",
    "        self.max_depth = max_depth # maximum depth tree can take\n",
    "        self.n_features = n_features  # number of features that need to considered\n",
    "        self.max_depth_reached = 0\n",
    "        self.root = None\n",
    "    \n",
    "    # About function tells you aboaut the decision tree\n",
    "    def about(self):\n",
    "        print(\"Decision Tree Classifier\")\n",
    "        print(\"min_samples_split: \", self.min_samples_split)\n",
    "        print(\"max_depth: \", self.max_depth)\n",
    "        print(\"n_features: \", self.n_features)\n",
    "        print(\"max_depth_reached: \", self.max_depth_reached)\n",
    "    \n",
    "    # now that you are on the leaf node and don't want to split further, you need to return the most common label\n",
    "    def most_common_label(self, y):\n",
    "        return (np.argmax(np.bincount(y)))\n",
    "    \n",
    "    # either you define number of feature or you take all the features\n",
    "    def fit(self, X, y):\n",
    "        if(self.n_features == None):\n",
    "            self.n_features = X.shape[1]\n",
    "        else:\n",
    "            if(self.n_features > X.shape[1]):\n",
    "                self.n_features = X.shape[1]\n",
    "        self.root = self._grow_tree(X, y)\n",
    "    \n",
    "    # it returns the feature you need to consider and the threshold value for that feature\n",
    "    def _best_split(self, X, y, index_array):\n",
    "        best_gain = -1\n",
    "        split_index, split_threshold = None, None\n",
    "        for idx in index_array:\n",
    "            X_column = X[:, idx]\n",
    "            thresholds = np.unique(X_column)\n",
    "            # you consider all the values for that feature and find the one with best split\n",
    "            for threshold in thresholds:\n",
    "                gain = self._information_gain(y, X_column, threshold)\n",
    "\n",
    "                if gain > best_gain:\n",
    "                    best_gain = gain\n",
    "                    split_index = idx\n",
    "                    split_threshold = threshold\n",
    "                else :\n",
    "                    best_gain = best_gain\n",
    "                    split_index = split_index\n",
    "                    split_threshold = split_threshold\n",
    "\n",
    "        return split_threshold, split_index\n",
    "    \n",
    "    def _grow_tree(self, X, y, depth=0):\n",
    "        n_samples= X.shape[0]\n",
    "        n_features = X.shape[1]\n",
    "        n_labels = len(np.unique(y))\n",
    "        # Track the maximum depth\n",
    "        if depth > self.max_depth_reached:\n",
    "            self.max_depth_reached = depth\n",
    "        # Check stopping criteria\n",
    "        if ((depth >= self.max_depth) or (n_labels == 1) or( n_samples < self.min_samples_split)):\n",
    "            # return new node simple\n",
    "            leaf_value = self.most_common_label(y)\n",
    "            return Node(value=leaf_value)\n",
    "\n",
    "        # Find best split\n",
    "        feat_index = np.random.choice(n_features, self.n_features, replace=False)\n",
    "        best_threshold, best_feature = self._best_split(X, y, feat_index)\n",
    "\n",
    "        # Create child nodes\n",
    "        left_idxs,right_idxs = self._split(X[:, best_feature], best_threshold)\n",
    "        left = self._grow_tree(X[left_idxs, :], y[left_idxs], depth+1)\n",
    "        right = self._grow_tree(X[right_idxs , :], y[right_idxs ], depth+1)\n",
    "\n",
    "        return Node(best_feature,best_threshold,left,right)\n",
    "\n",
    "    def _entropy(self, y):\n",
    "        hist = np.bincount(y)\n",
    "        n=len(y)\n",
    "        probs=hist/n\n",
    "        return -np.sum([p * np.log2(p) for p in probs if p > 0])\n",
    "\n",
    "    # calculate information gain \n",
    "    def _information_gain(self, y, X_column, threshold):\n",
    "        parent_entropy = self._entropy(y)\n",
    "        left_idx, right_idx = self._split(X_column, threshold)\n",
    "        if len(left_idx) == 0 or len(right_idx) == 0:\n",
    "            return 0\n",
    "        n = len(y)\n",
    "        pnleft= len(left_idx)/n\n",
    "        entropy_left= self._entropy(y[left_idx])\n",
    "        pnright= len(right_idx)/n\n",
    "        entropy_right= self._entropy(y[right_idx])\n",
    "        child_entropy = pnleft * entropy_left + pnright * entropy_right\n",
    "        ig = parent_entropy - child_entropy\n",
    "        return ig\n",
    "            \n",
    "    def _split(self, X_column, threshold):\n",
    "        left_idx = np.argwhere(X_column <= threshold).flatten()\n",
    "        right_idx = np.argwhere(X_column > threshold).flatten()\n",
    "        return left_idx, right_idx\n",
    "    \n",
    "    def _traverse_tree(self, x, node):\n",
    "        # recursion stops at leaf node\n",
    "        if(node.is_leaf()):\n",
    "            return node.value\n",
    "        \n",
    "        if(x[node.feature] <= node.threshold):\n",
    "            return self._traverse_tree(x, node.left)\n",
    "        else:\n",
    "            return self._traverse_tree(x, node.right)\n",
    "                \n",
    "    def predict(self,X):\n",
    "        return np.array([self._traverse_tree(x, self.root) for x in X])\n",
    "\n",
    "    def accuracy(self,y_test, y_pred):\n",
    "        return np.sum(y_test == y_pred) / len(y_test)\n",
    "     \n"
   ]
  },
  {
   "cell_type": "markdown",
   "metadata": {},
   "source": [
    "#### Write a code from scratch to train a Decision Tree Classifier to  predict  the  Genus  using  the  first  6  features  (MFCC_1  ,....,  MFCC_6) of given dataset by splitting the dataset into train and  test in the ratio of 20:80. "
   ]
  },
  {
   "cell_type": "code",
   "execution_count": 26,
   "metadata": {},
   "outputs": [
    {
     "name": "stdout",
     "output_type": "stream",
     "text": [
      "(7195, 6)\n",
      "(7195,)\n",
      "0.8855107713690062\n",
      "Decision Tree Classifier\n",
      "min_samples_split:  2\n",
      "max_depth:  10\n",
      "n_features:  6\n",
      "max_depth_reached:  10\n",
      "None\n"
     ]
    }
   ],
   "source": [
    "# take the data and preprocess it\n",
    "data=pd.read_csv('Q1Data.csv')\n",
    "selected_features = ['MFCCs_ 1', 'MFCCs_ 2', 'MFCCs_ 3', 'MFCCs_ 4', 'MFCCs_ 5', 'MFCCs_ 6']\n",
    "X = data[selected_features]\n",
    "print(X.shape)\n",
    "Y= data['Genus']\n",
    "print(Y.shape)\n",
    "le = LabelEncoder()\n",
    "Y = le.fit_transform(Y)\n",
    "clf = DecisionTree(max_depth=10)\n",
    "X = X.to_numpy()\n",
    "\n",
    "X_train, X_test, y_train, y_test = train_test_split(X, Y, test_size=0.8, random_state=42)\n",
    "clf.fit(X_train, y_train)\n",
    "predictions = clf.predict(X_test)\n",
    "accuracy_metric= clf.accuracy(y_test, predictions)\n",
    "\n",
    "print(accuracy_metric)\n",
    "print(clf.about())"
   ]
  },
  {
   "cell_type": "markdown",
   "metadata": {},
   "source": [
    "#### Plot  the  test  accuracy  by  pruning  the  tree  to  a  depth  ranging  from 1,2,.....15."
   ]
  },
  {
   "cell_type": "code",
   "execution_count": 27,
   "metadata": {},
   "outputs": [],
   "source": [
    "max_depths = range(1, 16)\n",
    "test_accuracies = []\n",
    "\n",
    "for depth in max_depths:\n",
    "    clf = DecisionTree(max_depth=depth)\n",
    "    clf.fit(X_train, y_train)\n",
    "    predictions = clf.predict(X_test)\n",
    "    acc = clf.accuracy(y_test, predictions)\n",
    "    test_accuracies.append(acc)\n"
   ]
  },
  {
   "cell_type": "code",
   "execution_count": 28,
   "metadata": {},
   "outputs": [
    {
     "name": "stdout",
     "output_type": "stream",
     "text": [
      "[0.6926685198054204, 0.7564280750521195, 0.8021195274496178, 0.8288742182070883, 0.857539958304378, 0.873870743571925, 0.8835997220291869, 0.8886379430159833, 0.891591382904795, 0.8886379430159833, 0.8823835997220292, 0.885858234885337, 0.8844683808200139, 0.8860319666435025, 0.8896803335649757]\n"
     ]
    },
    {
     "data": {
      "image/png": "[encoded data removed]",
      "text/plain": [
       "<Figure size 640x480 with 1 Axes>"
      ]
     },
     "metadata": {},
     "output_type": "display_data"
    }
   ],
   "source": [
    "# Plot the results\n",
    "print(test_accuracies)\n",
    "plt.plot(max_depths, test_accuracies, marker='o')\n",
    "plt.title('Test Accuracy vs. Tree Depth')\n",
    "plt.xlabel('Tree Depth')\n",
    "plt.ylabel('Test Accuracy')\n",
    "plt.grid(True)\n",
    "plt.show()"
   ]
  },
  {
   "cell_type": "markdown",
   "metadata": {},
   "source": [
    "#### What are your observations from the graph plotted above."
   ]
  },
  {
   "cell_type": "markdown",
   "metadata": {},
   "source": [
    "The graph shows that when the tree is not very deep, the accuracy is only around 60 percent, meaning the model is quite basic. As the tree gets deeper, accuracy improves and reaches its best point at a depth of 9. After that, making the tree even deeper doesn't help much and might even make things worse. \n",
    "\n",
    "Two main reasons for this: \n",
    "\n",
    "1. **Model Has Explored Enough:** The model has already learned a lot about the data by the time it reaches a depth of 9. Going deeper doesn't add much useful information because it has already figured out the important patterns.\n",
    "\n",
    "2. **Overfitting:** When the tree becomes too deep, it starts memorizing the training data too much, like trying to remember a book instead of understanding the story. This makes the model perform worse on new, unseen data because it's too tailored to the training set.\n",
    "\n",
    "So, there's a sweet spot where the tree is deep enough to capture important stuff but not so deep that it starts messing things up."
   ]
  }
 ],
 "metadata": {
  "kernelspec": {
   "display_name": "Python 3",
   "language": "python",
   "name": "python3"
  },
  "language_info": {
   "codemirror_mode": {
    "name": "ipython",
    "version": 3
   },
   "file_extension": ".py",
   "mimetype": "text/x-python",
   "name": "python",
   "nbconvert_exporter": "python",
   "pygments_lexer": "ipython3",
   "version": "3.11.0"
  }
 },
 "nbformat": 4,
 "nbformat_minor": 2
}
