{
 "cells": [
  {
   "cell_type": "markdown",
   "metadata": {},
   "source": [
    "<!-- to note stuff i needed -->\n",
    "Information Gain = E(Parent)-weighted average of E(Children)\n",
    "E= -summation(p*log(p))\n",
    "p = probability of a class\n",
    "\n",
    "Stopping Criteria : Maximum Depth, Minimum number of samples before you divide, minimum impurity decrease\n",
    "\n",
    "TO BE CARED\n"
   ]
  },
  {
   "cell_type": "code",
   "execution_count": 11,
   "metadata": {},
   "outputs": [],
   "source": [
    "# LIBRARIES HERE\n",
    "import numpy as np\n",
    "from sklearn.model_selection import train_test_split\n",
    "import pandas as pd \n",
    "from sklearn.preprocessing import LabelEncoder\n",
    "import matplotlib.pyplot as plt\n",
    "\n"
   ]
  },
  {
   "cell_type": "code",
   "execution_count": 7,
   "metadata": {},
   "outputs": [
    {
     "name": "stdout",
     "output_type": "stream",
     "text": [
      "[0 1 1 0 1 3 0 1 2]\n",
      "5\n"
     ]
    }
   ],
   "source": [
    "# Testing Function for Numpy Features\n",
    "# testing bincount and argmax function\n",
    "arrayy = np.array([1, 2, 5, 4, 5, 5, 7, 8, 8])\n",
    "print(np.bincount(arrayy))\n",
    "print(np.argmax(np.bincount(arrayy)))"
   ]
  },
  {
   "cell_type": "code",
   "execution_count": 8,
   "metadata": {},
   "outputs": [],
   "source": [
    "class Node:\n",
    "    def __init__(self, feature=None, threshold=None, left=None, right=None, *, value=None):\n",
    "        # * used for leaf node creation\n",
    "        self.feature = feature  # feature for separation\n",
    "        self.threshold = threshold  # separation threshold\n",
    "        self.left = left\n",
    "        self.right = right  # left and right pointers\n",
    "        self.value = value  # only for leaf nodes\n",
    "\n",
    "    def is_leaf(self):\n",
    "        if(self.value is None):\n",
    "            return False\n",
    "        else:\n",
    "            return True\n"
   ]
  },
  {
   "cell_type": "code",
   "execution_count": 9,
   "metadata": {},
   "outputs": [],
   "source": [
    "class DecisionTree:\n",
    "    def __init__(self, min_samples_split=2, max_depth=100, n_features=None):\n",
    "        self.min_samples_split = min_samples_split #minimum number of samples in order to split a node since we dont want data to overfit at any cost\n",
    "        self.max_depth = max_depth # maximum depth tree can take\n",
    "        self.n_features = n_features  # number of features that need to considered\n",
    "        self.root = None\n",
    "    \n",
    "    # About function tells you aboaut the decision tree\n",
    "    def about(self):\n",
    "        print(\"Decision Tree Classifier\")\n",
    "        print(\"min_samples_split: \", self.min_samples_split)\n",
    "        print(\"max_depth: \", self.max_depth)\n",
    "        print(\"n_features: \", self.n_features)\n",
    "    \n",
    "    # now that you are on the leaf node and don't want to split further, you need to return the most common label\n",
    "    def most_common_label(self, y):\n",
    "        return (np.argmax(np.bincount(y)))\n",
    "    \n",
    "    # either you define number of feature or you take all the features\n",
    "    def fit(self, X, y):\n",
    "        if(self.n_features == None):\n",
    "            self.n_features = X.shape[1]\n",
    "        else:\n",
    "            if(self.n_features > X.shape[1]):\n",
    "                raise ValueError(\"n_features cannot be greater than total number of features\")\n",
    "                    # Make sure the number of features is less than or equal to the available features\n",
    "        self.root = self._grow_tree(X, y)\n",
    "    \n",
    "    # it returns the feature you need to consider and the threshold value for that feature\n",
    "    def _best_split(self, X, y, feat_index):\n",
    "        best_gain = -1\n",
    "        split_index, split_threshold = None, None\n",
    "        for feat_idx in feat_index:\n",
    "            X_column = X[:, feat_idx]\n",
    "            thresholds = np.unique(X_column)\n",
    "            # you consider all the values for that feature and find the one with best split\n",
    "            for threshold in thresholds:\n",
    "                gain = self._information_gain(y, X_column, threshold)\n",
    "                if gain > best_gain:\n",
    "                    best_gain = gain\n",
    "                    split_index = feat_idx\n",
    "                    split_threshold = threshold\n",
    "        return split_threshold, split_index\n",
    "    \n",
    "    def _grow_tree(self, X, y, depth=0):\n",
    "        n_samples= X.shape[0]\n",
    "        n_features = X.shape[1]\n",
    "        n_labels = len(np.unique(y))\n",
    "        # Check stopping criteria\n",
    "        if ((depth >= self.max_depth) or (n_labels == 1) or( n_samples < self.min_samples_split)):\n",
    "            # return new node simple\n",
    "            leaf_value = self.most_common_label(y)\n",
    "            return Node(value=leaf_value)\n",
    "\n",
    "        # Find best split\n",
    "        feat_index = np.random.choice(n_features, self.n_features, replace=False)\n",
    "        best_threshold, best_feature = self._best_split(X, y, feat_index)\n",
    "\n",
    "        # Create child nodes\n",
    "        left_idxs,right_idxs = self._split(X[:, best_feature], best_threshold)\n",
    "        left = self._grow_tree(X[left_idxs, :], y[left_idxs], depth+1)\n",
    "        right = self._grow_tree(X[right_idxs , :], y[right_idxs ], depth+1)\n",
    "\n",
    "        return Node(best_feature,best_threshold,left,right)\n",
    "\n",
    "\n",
    "    # calculate information gain \n",
    "    def _information_gain(self, y, X_column, threshold):\n",
    "        parent_entropy = self._entropy(y)\n",
    "        left_idx, right_idx = self._split(X_column, threshold)\n",
    "        if len(left_idx) == 0 or len(right_idx) == 0:\n",
    "            return 0\n",
    "        n = len(y)\n",
    "        n_l, n_r = len(left_idx), len(right_idx)\n",
    "        e_l, e_r = self._entropy(y[left_idx]), self._entropy(y[right_idx])\n",
    "        child_entropy = (n_l/n) * e_l + (n_r/n) * e_r\n",
    "\n",
    "        ig = parent_entropy - child_entropy\n",
    "        return ig\n",
    "            \n",
    "    def _split(self, X_column, threshold):\n",
    "        left_idx = np.argwhere(X_column <= threshold).flatten()\n",
    "        right_idx = np.argwhere(X_column > threshold).flatten()\n",
    "        return left_idx, right_idx\n",
    "\n",
    "    \n",
    "    def _entropy(self, y):\n",
    "        hist = np.bincount(y)\n",
    "        ps = hist / len(y)\n",
    "        # you got the probabilities\n",
    "        return -np.sum([p * np.log2(p) for p in ps if p > 0])\n",
    "    \n",
    "    def predict(self,X):\n",
    "        return np.array([self._traverse_tree(x, self.root) for x in X])\n",
    "\n",
    "    def _traverse_tree(self, x, node):\n",
    "        # recursion stops at leaf node\n",
    "        if(node.is_leaf()):\n",
    "            return node.value\n",
    "        \n",
    "        if(x[node.feature] <= node.threshold):\n",
    "            return self._traverse_tree(x, node.left)\n",
    "        \n",
    "        return self._traverse_tree(x, node.right)\n",
    "\n",
    "\n",
    "     \n"
   ]
  },
  {
   "cell_type": "markdown",
   "metadata": {},
   "source": [
    "#### Write a code from scratch to train a Decision Tree Classifier to  predict  the  Genus  using  the  first  6  features  (MFCC_1  ,....,  MFCC_6) of given dataset by splitting the dataset into train and  test in the ratio of 20:80. "
   ]
  },
  {
   "cell_type": "code",
   "execution_count": 10,
   "metadata": {},
   "outputs": [
    {
     "name": "stdout",
     "output_type": "stream",
     "text": [
      "(7195, 6)\n",
      "(7195,)\n",
      "0.8848158443363446\n",
      "Decision Tree Classifier\n",
      "min_samples_split:  2\n",
      "max_depth:  8\n",
      "n_features:  6\n",
      "None\n"
     ]
    }
   ],
   "source": [
    "data=pd.read_csv('Q1Data.csv')\n",
    "selected_features = ['MFCCs_ 1', 'MFCCs_ 2', 'MFCCs_ 3', 'MFCCs_ 4', 'MFCCs_ 5', 'MFCCs_ 6']\n",
    "X = data[selected_features]\n",
    "print(X.shape)\n",
    "Y= data['Genus']\n",
    "print(Y.shape)\n",
    "le = LabelEncoder()\n",
    "Y = le.fit_transform(Y)\n",
    "clf = DecisionTree(max_depth=8)\n",
    "X = X.to_numpy()\n",
    "\n",
    "X_train, X_test, y_train, y_test = train_test_split(X, Y, test_size=0.8, random_state=42)\n",
    "clf.fit(X_train, y_train)\n",
    "predictions = clf.predict(X_test)\n",
    "\n",
    "def accuracy(y_test, y_pred):\n",
    "    return np.sum(y_test == y_pred) / len(y_test)\n",
    "\n",
    "acc = accuracy(y_test, predictions)\n",
    "print(acc)\n",
    "print(clf.about())"
   ]
  },
  {
   "cell_type": "markdown",
   "metadata": {},
   "source": [
    "#### Plot  the  test  accuracy  by  pruning  the  tree  to  a  depth  ranging  from 1,2,.....15."
   ]
  },
  {
   "cell_type": "code",
   "execution_count": 12,
   "metadata": {},
   "outputs": [],
   "source": [
    "max_depths = range(1, 16)\n",
    "test_accuracies = []\n",
    "\n",
    "for depth in max_depths:\n",
    "    clf = DecisionTree(max_depth=depth)\n",
    "    clf.fit(X_train, y_train)\n",
    "    predictions = clf.predict(X_test)\n",
    "    acc = accuracy(y_test, predictions)\n",
    "    test_accuracies.append(acc)\n",
    "\n"
   ]
  },
  {
   "cell_type": "code",
   "execution_count": 13,
   "metadata": {},
   "outputs": [
    {
     "name": "stdout",
     "output_type": "stream",
     "text": [
      "[0.6926685198054204, 0.7564280750521195, 0.8021195274496178, 0.8288742182070883, 0.8568450312717165, 0.8747394023627519, 0.8872480889506602, 0.8863794301598332, 0.8856845031271716, 0.8919388464211258, 0.8902015288394719, 0.8869006254343293, 0.8872480889506602, 0.8846421125781793, 0.8870743571924948]\n"
     ]
    },
    {
     "data": {
      "image/png": "[encoded data removed]",
      "text/plain": [
       "<Figure size 640x480 with 1 Axes>"
      ]
     },
     "metadata": {},
     "output_type": "display_data"
    }
   ],
   "source": [
    "# Plot the results\n",
    "print(test_accuracies)\n",
    "plt.plot(max_depths, test_accuracies, marker='o')\n",
    "plt.title('Test Accuracy vs. Tree Depth')\n",
    "plt.xlabel('Tree Depth')\n",
    "plt.ylabel('Test Accuracy')\n",
    "plt.grid(True)\n",
    "plt.show()"
   ]
  },
  {
   "cell_type": "markdown",
   "metadata": {},
   "source": [
    "#### What are your observations from the graph plotted above."
   ]
  },
  {
   "cell_type": "markdown",
   "metadata": {},
   "source": [
    "The graph shows that initially, with a shallow tree depth, accuracy is around 60 percent due to simple modeling. As the tree depth increases, accuracy improves, peaking at a depth of 9. This indicates better capturing of underlying patterns. However, beyond depth 9, accuracy plateaus or slightly declines, suggesting potential overfitting to the training data.\n",
    "\n",
    "The model becomes too tailored to the training set, losing its ability to generalize to new data. While accuracy initially benefits from more intricate data splitting, it eventually reaches a point of diminishing returns where extra complexity doesn't bring much improvement"
   ]
  }
 ],
 "metadata": {
  "kernelspec": {
   "display_name": "Python 3",
   "language": "python",
   "name": "python3"
  },
  "language_info": {
   "codemirror_mode": {
    "name": "ipython",
    "version": 3
   },
   "file_extension": ".py",
   "mimetype": "text/x-python",
   "name": "python",
   "nbconvert_exporter": "python",
   "pygments_lexer": "ipython3",
   "version": "3.11.0"
  }
 },
 "nbformat": 4,
 "nbformat_minor": 2
}
