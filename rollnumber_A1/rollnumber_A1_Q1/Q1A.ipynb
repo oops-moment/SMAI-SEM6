{
 "cells": [
  {
   "cell_type": "markdown",
   "metadata": {},
   "source": [
    "Information Gain = E(Parent)-weighted average of E(Children)\n",
    "E = -summation(p*log(p))\n",
    "p = probability of a class\n",
    "\n",
    "Stopping Criteria : Maximum Depth, Minimum number of samples before you divide, minimum impurity decrease\n",
    "\n",
    "TO BE CARED"
   ]
  },
  {
   "cell_type": "code",
   "execution_count": 1,
   "metadata": {},
   "outputs": [],
   "source": [
    "import numpy as np\n",
    "from collections import counter"
   ]
  },
  {
   "cell_type": "code",
   "execution_count": 2,
   "metadata": {},
   "outputs": [],
   "source": [
    "class Node:\n",
    "    def __init__(self, feature=None, threshold=None, left=None, right=None, *, value=None):\n",
    "        # * used for leaf node creation\n",
    "        self.feature = feature  # feature for separation\n",
    "        self.threshold = threshold  # separation threshold\n",
    "        self.left = left\n",
    "        self.right = right  # left and right pointers\n",
    "        self.value = value  # only for leaf nodes\n",
    "\n",
    "    def is_leaf(self):\n",
    "        return self.value is not None\n"
   ]
  },
  {
   "cell_type": "code",
   "execution_count": null,
   "metadata": {},
   "outputs": [],
   "source": [
    "class DecisionTree:\n",
    "    def __init__(self, min_samples_split=2, max_depth=100, n_features=None):\n",
    "        self.min_samples_split = min_samples_split\n",
    "        self.max_depth = max_depth\n",
    "        self.n_features = n_features\n",
    "        self.root = None\n",
    "    \n",
    "    def fit(self, X, y):\n",
    "        self.n_features = X.shape[1] if self.n_features is None else min(self.n_features, X.shape[1])\n",
    "        # Make sure the number of features is less than or equal to the available features\n",
    "        self.root = self._grow_tree(X, y)\n",
    "\n",
    "    def _grow_tree(self, X, y, depth=0):\n",
    "        n_samples, n_features = X.shape\n",
    "        n_labels = len(np.unique(y))\n",
    "        # Check stopping criteria\n",
    "        if depth >= self.max_depth or n_labels == 1 or n_samples < self.min_samples_split:\n",
    "            # return new node simple\n",
    "            leaf_value = self.most_common_label(y)\n",
    "            return Node(value=leaf_value)\n",
    "\n",
    "        # Find best split\n",
    "        feat_index = np.random.choice(n_features, self.n_features, replace=False)\n",
    "        # select random feature and two unique ones\n",
    "        best_threshold, best_feature = self._best_split(X, y, feat_index)\n",
    "\n",
    "        # Create child nodes\n",
    "\n",
    "        # Call grow tree on child nodes\n",
    "    \n",
    "    def _best_split(self, X, y, feat_index):\n",
    "        best_gain = -1\n",
    "        split_index, split_threshold = None, None\n",
    "        for feat_idx in feat_index:\n",
    "            X_column = X[:, feat_idx]\n",
    "            thresholds = np.unique(X_column)\n",
    "            for threshold in thresholds:\n",
    "                gain = self._information_gain(y, X_column, threshold)\n",
    "                if gain > best_gain:\n",
    "                    best_gain = gain\n",
    "                    split_index = feat_idx\n",
    "                    split_threshold = threshold\n",
    "    \n",
    "    def _information_gain(self, y, X_column, threshold):\n",
    "        parent_entropy = self._entropy(y)\n",
    "    \n",
    "    def _entropy(self, y):\n",
    "        # Calculate and return entropy\n",
    "        pass\n",
    "\n",
    "    def most_common_label(self, y):\n",
    "        counter = counter(y)\n",
    "        most_common = counter.most_common(1)[0][0]\n",
    "        return most_common\n"
   ]
  }
 ],
 "metadata": {
  "kernelspec": {
   "display_name": "Python 3",
   "language": "python",
   "name": "python3"
  },
  "language_info": {
   "codemirror_mode": {
    "name": "ipython",
    "version": 3
   },
   "file_extension": ".py",
   "mimetype": "text/x-python",
   "name": "python",
   "nbconvert_exporter": "python",
   "pygments_lexer": "ipython3",
   "version": "3.11.0"
  }
 },
 "nbformat": 4,
 "nbformat_minor": 2
}
