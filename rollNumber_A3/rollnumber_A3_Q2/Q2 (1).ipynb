{
  "nbformat": 4,
  "nbformat_minor": 0,
  "metadata": {
    "colab": {
      "provenance": [],
      "gpuType": "T4"
    },
    "kernelspec": {
      "name": "python3",
      "display_name": "Python 3"
    },
    "language_info": {
      "name": "python"
    },
    "accelerator": "GPU"
  },
  "cells": [
    {
      "cell_type": "code",
      "execution_count": 4,
      "metadata": {
        "id": "ShozDRf2Dj7s"
      },
      "outputs": [],
      "source": [
        "\n",
        "import torch\n",
        "from torchvision import datasets\n",
        "from torchvision import transforms\n",
        "import matplotlib.pyplot as plt"
      ]
    },
    {
      "cell_type": "code",
      "source": [
        "tensor_transform = transforms.ToTensor()\n",
        "# Download the MNIST Dataset\n",
        "dataset = datasets.MNIST(root = \"./data\",\n",
        "                         train = True,\n",
        "                         download = True,\n",
        "                         transform = tensor_transform)\n",
        "\n",
        "train_loader = torch.utils.data.DataLoader(dataset = dataset,\n",
        "                                     batch_size = 32,\n",
        "                                     shuffle = True)\n"
      ],
      "metadata": {
        "colab": {
          "base_uri": "https://localhost:8080/"
        },
        "id": "RmWfCGayF2GU",
        "outputId": "b598e9fe-2d64-49fc-bb7b-12318a6709ab"
      },
      "execution_count": 5,
      "outputs": [
        {
          "output_type": "stream",
          "name": "stdout",
          "text": [
            "Downloading http://yann.lecun.com/exdb/mnist/train-images-idx3-ubyte.gz\n",
            "Downloading http://yann.lecun.com/exdb/mnist/train-images-idx3-ubyte.gz to ./data/MNIST/raw/train-images-idx3-ubyte.gz\n"
          ]
        },
        {
          "output_type": "stream",
          "name": "stderr",
          "text": [
            "100%|██████████| 9912422/9912422 [00:00<00:00, 185639003.59it/s]"
          ]
        },
        {
          "output_type": "stream",
          "name": "stdout",
          "text": [
            "Extracting ./data/MNIST/raw/train-images-idx3-ubyte.gz to ./data/MNIST/raw\n"
          ]
        },
        {
          "output_type": "stream",
          "name": "stderr",
          "text": [
            "\n"
          ]
        },
        {
          "output_type": "stream",
          "name": "stdout",
          "text": [
            "\n",
            "Downloading http://yann.lecun.com/exdb/mnist/train-labels-idx1-ubyte.gz\n",
            "Downloading http://yann.lecun.com/exdb/mnist/train-labels-idx1-ubyte.gz to ./data/MNIST/raw/train-labels-idx1-ubyte.gz\n"
          ]
        },
        {
          "output_type": "stream",
          "name": "stderr",
          "text": [
            "100%|██████████| 28881/28881 [00:00<00:00, 54762971.89it/s]\n"
          ]
        },
        {
          "output_type": "stream",
          "name": "stdout",
          "text": [
            "Extracting ./data/MNIST/raw/train-labels-idx1-ubyte.gz to ./data/MNIST/raw\n",
            "\n",
            "Downloading http://yann.lecun.com/exdb/mnist/t10k-images-idx3-ubyte.gz\n",
            "Downloading http://yann.lecun.com/exdb/mnist/t10k-images-idx3-ubyte.gz to ./data/MNIST/raw/t10k-images-idx3-ubyte.gz\n"
          ]
        },
        {
          "output_type": "stream",
          "name": "stderr",
          "text": [
            "100%|██████████| 1648877/1648877 [00:00<00:00, 43073832.03it/s]"
          ]
        },
        {
          "output_type": "stream",
          "name": "stdout",
          "text": [
            "Extracting ./data/MNIST/raw/t10k-images-idx3-ubyte.gz to ./data/MNIST/raw\n"
          ]
        },
        {
          "output_type": "stream",
          "name": "stderr",
          "text": [
            "\n"
          ]
        },
        {
          "output_type": "stream",
          "name": "stdout",
          "text": [
            "\n",
            "Downloading http://yann.lecun.com/exdb/mnist/t10k-labels-idx1-ubyte.gz\n",
            "Downloading http://yann.lecun.com/exdb/mnist/t10k-labels-idx1-ubyte.gz to ./data/MNIST/raw/t10k-labels-idx1-ubyte.gz\n"
          ]
        },
        {
          "output_type": "stream",
          "name": "stderr",
          "text": [
            "100%|██████████| 4542/4542 [00:00<00:00, 17178114.31it/s]\n"
          ]
        },
        {
          "output_type": "stream",
          "name": "stdout",
          "text": [
            "Extracting ./data/MNIST/raw/t10k-labels-idx1-ubyte.gz to ./data/MNIST/raw\n",
            "\n"
          ]
        }
      ]
    },
    {
      "cell_type": "code",
      "source": [
        "test_dataset = datasets.MNIST(root = \"./data\",\n",
        "                         train = False,\n",
        "                         download = True,\n",
        "                         transform = tensor_transform)\n",
        "\n",
        "test_loader = torch.utils.data.DataLoader(dataset = dataset,\n",
        "                                     batch_size = 32,\n",
        "                                     shuffle = True)\n",
        "\n",
        "print(len(test_dataset))\n",
        "print(len(dataset))"
      ],
      "metadata": {
        "colab": {
          "base_uri": "https://localhost:8080/"
        },
        "id": "gnrljqcLfH9i",
        "outputId": "20011bab-8539-41ce-8e18-7d15ab4a4f75"
      },
      "execution_count": 6,
      "outputs": [
        {
          "output_type": "stream",
          "name": "stdout",
          "text": [
            "10000\n",
            "60000\n"
          ]
        }
      ]
    },
    {
      "cell_type": "markdown",
      "source": [
        "28*28=784 -> 128 -> 64 -> 36 ->18 -> 9 -> 18 -> 36 -> 64 ->128 ->784"
      ],
      "metadata": {
        "id": "KiSwRWQlGbH1"
      }
    },
    {
      "cell_type": "code",
      "source": [
        "import torch\n",
        "\n",
        "class AutoEncoder(torch.nn.Module):\n",
        "    def __init__(self) -> None:\n",
        "        super().__init__()\n",
        "        # part 1 to build an encoder\n",
        "\n",
        "        self.encoder = torch.nn.Sequential(\n",
        "            torch.nn.Linear(28*28, 128),\n",
        "            torch.nn.ReLU(),\n",
        "            torch.nn.Linear(128, 64),\n",
        "            torch.nn.ReLU(),\n",
        "            torch.nn.Linear(64, 36),\n",
        "            torch.nn.ReLU(),\n",
        "            torch.nn.Linear(36, 18),\n",
        "            torch.nn.ReLU(),\n",
        "            torch.nn.Linear(18, 9)\n",
        "        )\n",
        "\n",
        "        # part 2: build a decoder\n",
        "\n",
        "        self.decoder = torch.nn.Sequential(\n",
        "            torch.nn.Linear(9, 18),\n",
        "            torch.nn.ReLU(),\n",
        "            torch.nn.Linear(18, 36),\n",
        "            torch.nn.ReLU(),\n",
        "            torch.nn.Linear(36, 64),\n",
        "            torch.nn.ReLU(),\n",
        "            torch.nn.Linear(64, 128),\n",
        "            torch.nn.ReLU(),\n",
        "            torch.nn.Linear(128, 28 * 28),\n",
        "            torch.nn.Sigmoid()\n",
        "        )\n",
        "    def forward(self, x):\n",
        "        encoded = self.encoder(x)\n",
        "        decoded = self.decoder(encoded)\n",
        "        return decoded\n",
        "\n",
        "\n"
      ],
      "metadata": {
        "id": "TqPXooVfGmWS"
      },
      "execution_count": 7,
      "outputs": []
    },
    {
      "cell_type": "code",
      "source": [
        "# Model Initialization\n",
        "model = AutoEncoder()\n",
        "device = torch.device(\"cuda:0\" if torch.cuda.is_available() else \"cpu\")\n",
        "model=model.to(device)\n",
        "# Validation using MSE Loss function\n",
        "# Define loss function and optimizer\n",
        "criterion = torch.nn.MSELoss()\n",
        "optimizer = torch.optim.Adam(model.parameters(), lr=0.001)"
      ],
      "metadata": {
        "id": "8Nf6zFb5Vo4y"
      },
      "execution_count": 8,
      "outputs": []
    },
    {
      "cell_type": "code",
      "source": [
        "# Train the autoencoder model\n",
        "def train_model(model,num_epochs,train_loader,optimizer):\n",
        "  for epoch in range(num_epochs):\n",
        "      for batch in train_loader:\n",
        "          images, _ = batch[0].to(device),batch[1].to(device)\n",
        "          images = images.view(images.size(0), -1)\n",
        "\n",
        "          # Forward pass\n",
        "          outputs = model(images)\n",
        "          loss = criterion(outputs, images)\n",
        "\n",
        "          # Backward pass and optimization\n",
        "          optimizer.zero_grad()\n",
        "          loss.backward()\n",
        "          optimizer.step()\n",
        "\n",
        "      print(f'Epoch [{epoch+1}/{num_epochs}], Loss: {loss.item()}')"
      ],
      "metadata": {
        "id": "ORbFVX71Xu5K"
      },
      "execution_count": 9,
      "outputs": []
    },
    {
      "cell_type": "code",
      "source": [
        "train_model(model,10,train_loader,optimizer)"
      ],
      "metadata": {
        "colab": {
          "base_uri": "https://localhost:8080/"
        },
        "id": "3iKAOgi4l5eD",
        "outputId": "1db401e1-5e20-4e1e-9065-2271f11b46e0"
      },
      "execution_count": 10,
      "outputs": [
        {
          "output_type": "stream",
          "name": "stdout",
          "text": [
            "Epoch [1/10], Loss: 0.04124981909990311\n",
            "Epoch [2/10], Loss: 0.034090425819158554\n",
            "Epoch [3/10], Loss: 0.03168840333819389\n",
            "Epoch [4/10], Loss: 0.025692204013466835\n",
            "Epoch [5/10], Loss: 0.027036335319280624\n",
            "Epoch [6/10], Loss: 0.024680983275175095\n",
            "Epoch [7/10], Loss: 0.02815299853682518\n",
            "Epoch [8/10], Loss: 0.02452193759381771\n",
            "Epoch [9/10], Loss: 0.023847199976444244\n",
            "Epoch [10/10], Loss: 0.027460560202598572\n"
          ]
        }
      ]
    },
    {
      "cell_type": "code",
      "source": [
        "import torch\n",
        "from skimage.metrics import structural_similarity as ssim\n",
        "import numpy as np\n",
        "import matplotlib.pyplot as plt\n",
        "\n",
        "def evaluate_autoencoder(model, test_loader):\n",
        "    model.eval()  # Set model to evaluation mode\n",
        "    device = next(model.parameters()).device  # Get the device where the model is located\n",
        "\n",
        "    ssim_scores = []\n",
        "    original_images = []\n",
        "    reconstructed_images = []\n",
        "\n",
        "    with torch.no_grad():\n",
        "        for batch in test_loader:\n",
        "            images, _ = batch\n",
        "            images = images.to(device)  # Move images to the same device as the model\n",
        "            images = images.view(images.size(0), -1)\n",
        "            reconstructed = model(images)\n",
        "            for i in range(len(images)):\n",
        "                original_image_np = images[i].view(28, 28).cpu().numpy()  # Move to CPU and convert to NumPy array\n",
        "                reconstructed_image_np = reconstructed[i].view(28, 28).cpu().numpy()  # Move to CPU and convert to NumPy array\n",
        "                original_images.append(original_image_np)\n",
        "                reconstructed_images.append(reconstructed_image_np)\n",
        "                ssim_score = ssim(original_image_np, reconstructed_image_np)\n",
        "                ssim_scores.append(ssim_score)\n",
        "\n",
        "    # Calculate average SSIM\n",
        "    average_ssim = np.mean(ssim_scores)\n",
        "\n",
        "    # Randomly select an index\n",
        "    idx = np.random.randint(len(original_images))\n",
        "\n",
        "    # Plot original and reconstructed images\n",
        "    fig, axes = plt.subplots(1, 2, figsize=(10, 5))\n",
        "    axes[0].imshow(original_images[idx], cmap='gray')\n",
        "    axes[0].set_title('Original')\n",
        "    axes[0].axis('off')\n",
        "\n",
        "    axes[1].imshow(reconstructed_images[idx], cmap='gray')\n",
        "    axes[1].set_title('Reconstructed')\n",
        "    axes[1].axis('off')\n",
        "\n",
        "    plt.show()\n",
        "\n",
        "    return average_ssim\n",
        "\n",
        "average_ssim = evaluate_autoencoder(model, test_loader)\n",
        "print(f'Average SSIM: {average_ssim}')\n"
      ],
      "metadata": {
        "colab": {
          "base_uri": "https://localhost:8080/",
          "height": 429
        },
        "id": "ivIUJxfEYA7m",
        "outputId": "f82221a4-76f1-4d8b-94b4-3d21e44401c9"
      },
      "execution_count": 11,
      "outputs": [
        {
          "output_type": "display_data",
          "data": {
            "text/plain": [
              "<Figure size 1000x500 with 2 Axes>"
            ],
            "image/png": "[encoded data removed]"
          },
          "metadata": {}
        },
        {
          "output_type": "stream",
          "name": "stdout",
          "text": [
            "Average SSIM: 0.7569865334389001\n"
          ]
        }
      ]
    },
    {
      "cell_type": "code",
      "source": [
        "# Function to add Gaussian noise to images\n",
        "def add_noise(images, sigma):\n",
        "    noise = torch.randn_like(images) * sigma\n",
        "    noisy_images = images + noise\n",
        "    return torch.clamp(noisy_images, 0, 1)  # Ensure pixel values are between 0 and 1\n"
      ],
      "metadata": {
        "id": "KFke9h5Coek4"
      },
      "execution_count": 2,
      "outputs": []
    },
    {
      "cell_type": "code",
      "source": [
        "# Train the autoencoder model with noisy images\n",
        "def train_model_noisy(model, num_epochs, train_loader, optimizer, criterion, sigma):\n",
        "    print(f'Sigma: {sigma}')\n",
        "    for epoch in range(num_epochs):\n",
        "        for batch in train_loader:\n",
        "            images, _ = batch[0].to(device), batch[1].to(device)\n",
        "            images = images.view(images.size(0), -1)\n",
        "            # Add noise to images\n",
        "            noisy_images = add_noise(images, sigma)\n",
        "            # Forward pass\n",
        "            outputs = model(noisy_images)\n",
        "            loss = criterion(outputs, images)\n",
        "            # Backward pass and optimization\n",
        "            optimizer.zero_grad()\n",
        "            loss.backward()\n",
        "            optimizer.step()\n",
        "        print(f'Epoch [{epoch+1}/{num_epochs}], Loss: {loss.item()}')\n",
        "\n",
        "# Define sigma values to test\n",
        "sigma_values = [0.1, 0.5, 1.0]\n",
        "avg_ssim_scores = []\n",
        "\n",
        "# Train and evaluate the model for each sigma value\n",
        "for sigma in sigma_values:\n",
        "    train_model_noisy(model, num_epochs=10, train_loader=train_loader, optimizer=optimizer, criterion=criterion, sigma=sigma)\n",
        "    avg_ssim = evaluate_autoencoder(model, test_loader)  # Pass sigma value for evaluation\n",
        "    avg_ssim_scores.append(avg_ssim)\n",
        "\n",
        "# Plot the average SSIM test score for each sigma value\n",
        "plt.plot(sigma_values, avg_ssim_scores, marker='o')\n",
        "plt.xlabel('Sigma Values')\n",
        "plt.ylabel('Average SSIM Score')\n",
        "plt.title('Average SSIM Score vs Sigma Values')\n",
        "plt.grid(True)\n",
        "plt.show()\n"
      ],
      "metadata": {
        "colab": {
          "base_uri": "https://localhost:8080/",
          "height": 1000
        },
        "id": "ZgCI3Cchgwic",
        "outputId": "ab1e5e70-89a5-4216-d71b-ff7db232bad1"
      },
      "execution_count": 13,
      "outputs": [
        {
          "output_type": "stream",
          "name": "stdout",
          "text": [
            "Sigma: 0.1\n",
            "Epoch [1/10], Loss: 0.01888195611536503\n",
            "Epoch [2/10], Loss: 0.01933649554848671\n",
            "Epoch [3/10], Loss: 0.022875158116221428\n",
            "Epoch [4/10], Loss: 0.015294929035007954\n",
            "Epoch [5/10], Loss: 0.01659906655550003\n",
            "Epoch [6/10], Loss: 0.017561253160238266\n",
            "Epoch [7/10], Loss: 0.017130207270383835\n",
            "Epoch [8/10], Loss: 0.01927335187792778\n",
            "Epoch [9/10], Loss: 0.016470082104206085\n",
            "Epoch [10/10], Loss: 0.018664564937353134\n"
          ]
        },
        {
          "output_type": "display_data",
          "data": {
            "text/plain": [
              "<Figure size 1000x500 with 2 Axes>"
            ],
            "image/png": "[encoded data removed]"
          },
          "metadata": {}
        },
        {
          "output_type": "stream",
          "name": "stdout",
          "text": [
            "Sigma: 0.5\n",
            "Epoch [1/10], Loss: 0.02363346703350544\n",
            "Epoch [2/10], Loss: 0.024020960554480553\n",
            "Epoch [3/10], Loss: 0.021461982280015945\n",
            "Epoch [4/10], Loss: 0.024437636137008667\n",
            "Epoch [5/10], Loss: 0.02393343858420849\n",
            "Epoch [6/10], Loss: 0.022480498999357224\n",
            "Epoch [7/10], Loss: 0.025030504912137985\n",
            "Epoch [8/10], Loss: 0.02369036339223385\n",
            "Epoch [9/10], Loss: 0.025002868846058846\n",
            "Epoch [10/10], Loss: 0.021112997084856033\n"
          ]
        },
        {
          "output_type": "display_data",
          "data": {
            "text/plain": [
              "<Figure size 1000x500 with 2 Axes>"
            ],
            "image/png": "[encoded data removed]"
          },
          "metadata": {}
        },
        {
          "output_type": "stream",
          "name": "stdout",
          "text": [
            "Sigma: 1.0\n",
            "Epoch [1/10], Loss: 0.035290636122226715\n",
            "Epoch [2/10], Loss: 0.03741827607154846\n",
            "Epoch [3/10], Loss: 0.034943532198667526\n",
            "Epoch [4/10], Loss: 0.03821893781423569\n",
            "Epoch [5/10], Loss: 0.03201305493712425\n",
            "Epoch [6/10], Loss: 0.03311406075954437\n",
            "Epoch [7/10], Loss: 0.027611322700977325\n",
            "Epoch [8/10], Loss: 0.03276802971959114\n",
            "Epoch [9/10], Loss: 0.03614812344312668\n",
            "Epoch [10/10], Loss: 0.03227502480149269\n"
          ]
        },
        {
          "output_type": "display_data",
          "data": {
            "text/plain": [
              "<Figure size 1000x500 with 2 Axes>"
            ],
            "image/png": "[encoded data removed]"
          },
          "metadata": {}
        },
        {
          "output_type": "display_data",
          "data": {
            "text/plain": [
              "<Figure size 640x480 with 1 Axes>"
            ],
            "image/png": "[encoded data removed]"
          },
          "metadata": {}
        }
      ]
    },
    {
      "cell_type": "code",
      "source": [],
      "metadata": {
        "id": "LagEP9FAphUb"
      },
      "execution_count": null,
      "outputs": []
    }
  ]
}