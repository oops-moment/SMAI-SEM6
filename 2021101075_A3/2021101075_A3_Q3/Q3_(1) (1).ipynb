{
  "nbformat": 4,
  "nbformat_minor": 0,
  "metadata": {
    "colab": {
      "provenance": [],
      "gpuType": "T4"
    },
    "kernelspec": {
      "name": "python3",
      "display_name": "Python 3"
    },
    "language_info": {
      "name": "python"
    },
    "accelerator": "GPU",
    "widgets": {
      "application/vnd.jupyter.widget-state+json": {
        "cbf9336ce2af421fa1ecd19751b8f260": {
          "model_module": "@jupyter-widgets/controls",
          "model_name": "VBoxModel",
          "model_module_version": "1.5.0",
          "state": {
            "_dom_classes": [],
            "_model_module": "@jupyter-widgets/controls",
            "_model_module_version": "1.5.0",
            "_model_name": "VBoxModel",
            "_view_count": null,
            "_view_module": "@jupyter-widgets/controls",
            "_view_module_version": "1.5.0",
            "_view_name": "VBoxView",
            "box_style": "",
            "children": [
              "IPY_MODEL_af9b2813b3e743168dc221eeb218aebb",
              "IPY_MODEL_d4646222a9d94cd48a1bddbccc992616"
            ],
            "layout": "IPY_MODEL_d812fc2773ae4a9397507b1e03aa8125"
          }
        },
        "af9b2813b3e743168dc221eeb218aebb": {
          "model_module": "@jupyter-widgets/controls",
          "model_name": "LabelModel",
          "model_module_version": "1.5.0",
          "state": {
            "_dom_classes": [],
            "_model_module": "@jupyter-widgets/controls",
            "_model_module_version": "1.5.0",
            "_model_name": "LabelModel",
            "_view_count": null,
            "_view_module": "@jupyter-widgets/controls",
            "_view_module_version": "1.5.0",
            "_view_name": "LabelView",
            "description": "",
            "description_tooltip": null,
            "layout": "IPY_MODEL_1bd118bcbbc24498b678f0656e5df7f1",
            "placeholder": "​",
            "style": "IPY_MODEL_8c3bc7e16b42407c83fba27a75b33217",
            "value": "0.010 MB of 0.010 MB uploaded\r"
          }
        },
        "d4646222a9d94cd48a1bddbccc992616": {
          "model_module": "@jupyter-widgets/controls",
          "model_name": "FloatProgressModel",
          "model_module_version": "1.5.0",
          "state": {
            "_dom_classes": [],
            "_model_module": "@jupyter-widgets/controls",
            "_model_module_version": "1.5.0",
            "_model_name": "FloatProgressModel",
            "_view_count": null,
            "_view_module": "@jupyter-widgets/controls",
            "_view_module_version": "1.5.0",
            "_view_name": "ProgressView",
            "bar_style": "",
            "description": "",
            "description_tooltip": null,
            "layout": "IPY_MODEL_2ca6b241707f4923ba61580391710d1d",
            "max": 1,
            "min": 0,
            "orientation": "horizontal",
            "style": "IPY_MODEL_cab7680085a24ac8b7ec78311e6d1ac6",
            "value": 1
          }
        },
        "d812fc2773ae4a9397507b1e03aa8125": {
          "model_module": "@jupyter-widgets/base",
          "model_name": "LayoutModel",
          "model_module_version": "1.2.0",
          "state": {
            "_model_module": "@jupyter-widgets/base",
            "_model_module_version": "1.2.0",
            "_model_name": "LayoutModel",
            "_view_count": null,
            "_view_module": "@jupyter-widgets/base",
            "_view_module_version": "1.2.0",
            "_view_name": "LayoutView",
            "align_content": null,
            "align_items": null,
            "align_self": null,
            "border": null,
            "bottom": null,
            "display": null,
            "flex": null,
            "flex_flow": null,
            "grid_area": null,
            "grid_auto_columns": null,
            "grid_auto_flow": null,
            "grid_auto_rows": null,
            "grid_column": null,
            "grid_gap": null,
            "grid_row": null,
            "grid_template_areas": null,
            "grid_template_columns": null,
            "grid_template_rows": null,
            "height": null,
            "justify_content": null,
            "justify_items": null,
            "left": null,
            "margin": null,
            "max_height": null,
            "max_width": null,
            "min_height": null,
            "min_width": null,
            "object_fit": null,
            "object_position": null,
            "order": null,
            "overflow": null,
            "overflow_x": null,
            "overflow_y": null,
            "padding": null,
            "right": null,
            "top": null,
            "visibility": null,
            "width": null
          }
        },
        "1bd118bcbbc24498b678f0656e5df7f1": {
          "model_module": "@jupyter-widgets/base",
          "model_name": "LayoutModel",
          "model_module_version": "1.2.0",
          "state": {
            "_model_module": "@jupyter-widgets/base",
            "_model_module_version": "1.2.0",
            "_model_name": "LayoutModel",
            "_view_count": null,
            "_view_module": "@jupyter-widgets/base",
            "_view_module_version": "1.2.0",
            "_view_name": "LayoutView",
            "align_content": null,
            "align_items": null,
            "align_self": null,
            "border": null,
            "bottom": null,
            "display": null,
            "flex": null,
            "flex_flow": null,
            "grid_area": null,
            "grid_auto_columns": null,
            "grid_auto_flow": null,
            "grid_auto_rows": null,
            "grid_column": null,
            "grid_gap": null,
            "grid_row": null,
            "grid_template_areas": null,
            "grid_template_columns": null,
            "grid_template_rows": null,
            "height": null,
            "justify_content": null,
            "justify_items": null,
            "left": null,
            "margin": null,
            "max_height": null,
            "max_width": null,
            "min_height": null,
            "min_width": null,
            "object_fit": null,
            "object_position": null,
            "order": null,
            "overflow": null,
            "overflow_x": null,
            "overflow_y": null,
            "padding": null,
            "right": null,
            "top": null,
            "visibility": null,
            "width": null
          }
        },
        "8c3bc7e16b42407c83fba27a75b33217": {
          "model_module": "@jupyter-widgets/controls",
          "model_name": "DescriptionStyleModel",
          "model_module_version": "1.5.0",
          "state": {
            "_model_module": "@jupyter-widgets/controls",
            "_model_module_version": "1.5.0",
            "_model_name": "DescriptionStyleModel",
            "_view_count": null,
            "_view_module": "@jupyter-widgets/base",
            "_view_module_version": "1.2.0",
            "_view_name": "StyleView",
            "description_width": ""
          }
        },
        "2ca6b241707f4923ba61580391710d1d": {
          "model_module": "@jupyter-widgets/base",
          "model_name": "LayoutModel",
          "model_module_version": "1.2.0",
          "state": {
            "_model_module": "@jupyter-widgets/base",
            "_model_module_version": "1.2.0",
            "_model_name": "LayoutModel",
            "_view_count": null,
            "_view_module": "@jupyter-widgets/base",
            "_view_module_version": "1.2.0",
            "_view_name": "LayoutView",
            "align_content": null,
            "align_items": null,
            "align_self": null,
            "border": null,
            "bottom": null,
            "display": null,
            "flex": null,
            "flex_flow": null,
            "grid_area": null,
            "grid_auto_columns": null,
            "grid_auto_flow": null,
            "grid_auto_rows": null,
            "grid_column": null,
            "grid_gap": null,
            "grid_row": null,
            "grid_template_areas": null,
            "grid_template_columns": null,
            "grid_template_rows": null,
            "height": null,
            "justify_content": null,
            "justify_items": null,
            "left": null,
            "margin": null,
            "max_height": null,
            "max_width": null,
            "min_height": null,
            "min_width": null,
            "object_fit": null,
            "object_position": null,
            "order": null,
            "overflow": null,
            "overflow_x": null,
            "overflow_y": null,
            "padding": null,
            "right": null,
            "top": null,
            "visibility": null,
            "width": null
          }
        },
        "cab7680085a24ac8b7ec78311e6d1ac6": {
          "model_module": "@jupyter-widgets/controls",
          "model_name": "ProgressStyleModel",
          "model_module_version": "1.5.0",
          "state": {
            "_model_module": "@jupyter-widgets/controls",
            "_model_module_version": "1.5.0",
            "_model_name": "ProgressStyleModel",
            "_view_count": null,
            "_view_module": "@jupyter-widgets/base",
            "_view_module_version": "1.2.0",
            "_view_name": "StyleView",
            "bar_color": null,
            "description_width": ""
          }
        },
        "1e5d7857be374def9e72cd8b79df9a10": {
          "model_module": "@jupyter-widgets/controls",
          "model_name": "VBoxModel",
          "model_module_version": "1.5.0",
          "state": {
            "_dom_classes": [],
            "_model_module": "@jupyter-widgets/controls",
            "_model_module_version": "1.5.0",
            "_model_name": "VBoxModel",
            "_view_count": null,
            "_view_module": "@jupyter-widgets/controls",
            "_view_module_version": "1.5.0",
            "_view_name": "VBoxView",
            "box_style": "",
            "children": [
              "IPY_MODEL_254d172b6e8849d1b62082a43ebb2558",
              "IPY_MODEL_f9ab57dd0555493cbcf27f01ed7f60e8"
            ],
            "layout": "IPY_MODEL_aba357f49d8e48ea852be427943fbb86"
          }
        },
        "254d172b6e8849d1b62082a43ebb2558": {
          "model_module": "@jupyter-widgets/controls",
          "model_name": "LabelModel",
          "model_module_version": "1.5.0",
          "state": {
            "_dom_classes": [],
            "_model_module": "@jupyter-widgets/controls",
            "_model_module_version": "1.5.0",
            "_model_name": "LabelModel",
            "_view_count": null,
            "_view_module": "@jupyter-widgets/controls",
            "_view_module_version": "1.5.0",
            "_view_name": "LabelView",
            "description": "",
            "description_tooltip": null,
            "layout": "IPY_MODEL_5de874ac0e70480eb3235d3a46bb1d46",
            "placeholder": "​",
            "style": "IPY_MODEL_9ad14834cc914662a64662c475b583f1",
            "value": "0.012 MB of 0.012 MB uploaded\r"
          }
        },
        "f9ab57dd0555493cbcf27f01ed7f60e8": {
          "model_module": "@jupyter-widgets/controls",
          "model_name": "FloatProgressModel",
          "model_module_version": "1.5.0",
          "state": {
            "_dom_classes": [],
            "_model_module": "@jupyter-widgets/controls",
            "_model_module_version": "1.5.0",
            "_model_name": "FloatProgressModel",
            "_view_count": null,
            "_view_module": "@jupyter-widgets/controls",
            "_view_module_version": "1.5.0",
            "_view_name": "ProgressView",
            "bar_style": "",
            "description": "",
            "description_tooltip": null,
            "layout": "IPY_MODEL_735a743eb2654a8ea84b483a6ce50995",
            "max": 1,
            "min": 0,
            "orientation": "horizontal",
            "style": "IPY_MODEL_1482a4612225472e8b2c17bce2557156",
            "value": 1
          }
        },
        "aba357f49d8e48ea852be427943fbb86": {
          "model_module": "@jupyter-widgets/base",
          "model_name": "LayoutModel",
          "model_module_version": "1.2.0",
          "state": {
            "_model_module": "@jupyter-widgets/base",
            "_model_module_version": "1.2.0",
            "_model_name": "LayoutModel",
            "_view_count": null,
            "_view_module": "@jupyter-widgets/base",
            "_view_module_version": "1.2.0",
            "_view_name": "LayoutView",
            "align_content": null,
            "align_items": null,
            "align_self": null,
            "border": null,
            "bottom": null,
            "display": null,
            "flex": null,
            "flex_flow": null,
            "grid_area": null,
            "grid_auto_columns": null,
            "grid_auto_flow": null,
            "grid_auto_rows": null,
            "grid_column": null,
            "grid_gap": null,
            "grid_row": null,
            "grid_template_areas": null,
            "grid_template_columns": null,
            "grid_template_rows": null,
            "height": null,
            "justify_content": null,
            "justify_items": null,
            "left": null,
            "margin": null,
            "max_height": null,
            "max_width": null,
            "min_height": null,
            "min_width": null,
            "object_fit": null,
            "object_position": null,
            "order": null,
            "overflow": null,
            "overflow_x": null,
            "overflow_y": null,
            "padding": null,
            "right": null,
            "top": null,
            "visibility": null,
            "width": null
          }
        },
        "5de874ac0e70480eb3235d3a46bb1d46": {
          "model_module": "@jupyter-widgets/base",
          "model_name": "LayoutModel",
          "model_module_version": "1.2.0",
          "state": {
            "_model_module": "@jupyter-widgets/base",
            "_model_module_version": "1.2.0",
            "_model_name": "LayoutModel",
            "_view_count": null,
            "_view_module": "@jupyter-widgets/base",
            "_view_module_version": "1.2.0",
            "_view_name": "LayoutView",
            "align_content": null,
            "align_items": null,
            "align_self": null,
            "border": null,
            "bottom": null,
            "display": null,
            "flex": null,
            "flex_flow": null,
            "grid_area": null,
            "grid_auto_columns": null,
            "grid_auto_flow": null,
            "grid_auto_rows": null,
            "grid_column": null,
            "grid_gap": null,
            "grid_row": null,
            "grid_template_areas": null,
            "grid_template_columns": null,
            "grid_template_rows": null,
            "height": null,
            "justify_content": null,
            "justify_items": null,
            "left": null,
            "margin": null,
            "max_height": null,
            "max_width": null,
            "min_height": null,
            "min_width": null,
            "object_fit": null,
            "object_position": null,
            "order": null,
            "overflow": null,
            "overflow_x": null,
            "overflow_y": null,
            "padding": null,
            "right": null,
            "top": null,
            "visibility": null,
            "width": null
          }
        },
        "9ad14834cc914662a64662c475b583f1": {
          "model_module": "@jupyter-widgets/controls",
          "model_name": "DescriptionStyleModel",
          "model_module_version": "1.5.0",
          "state": {
            "_model_module": "@jupyter-widgets/controls",
            "_model_module_version": "1.5.0",
            "_model_name": "DescriptionStyleModel",
            "_view_count": null,
            "_view_module": "@jupyter-widgets/base",
            "_view_module_version": "1.2.0",
            "_view_name": "StyleView",
            "description_width": ""
          }
        },
        "735a743eb2654a8ea84b483a6ce50995": {
          "model_module": "@jupyter-widgets/base",
          "model_name": "LayoutModel",
          "model_module_version": "1.2.0",
          "state": {
            "_model_module": "@jupyter-widgets/base",
            "_model_module_version": "1.2.0",
            "_model_name": "LayoutModel",
            "_view_count": null,
            "_view_module": "@jupyter-widgets/base",
            "_view_module_version": "1.2.0",
            "_view_name": "LayoutView",
            "align_content": null,
            "align_items": null,
            "align_self": null,
            "border": null,
            "bottom": null,
            "display": null,
            "flex": null,
            "flex_flow": null,
            "grid_area": null,
            "grid_auto_columns": null,
            "grid_auto_flow": null,
            "grid_auto_rows": null,
            "grid_column": null,
            "grid_gap": null,
            "grid_row": null,
            "grid_template_areas": null,
            "grid_template_columns": null,
            "grid_template_rows": null,
            "height": null,
            "justify_content": null,
            "justify_items": null,
            "left": null,
            "margin": null,
            "max_height": null,
            "max_width": null,
            "min_height": null,
            "min_width": null,
            "object_fit": null,
            "object_position": null,
            "order": null,
            "overflow": null,
            "overflow_x": null,
            "overflow_y": null,
            "padding": null,
            "right": null,
            "top": null,
            "visibility": null,
            "width": null
          }
        },
        "1482a4612225472e8b2c17bce2557156": {
          "model_module": "@jupyter-widgets/controls",
          "model_name": "ProgressStyleModel",
          "model_module_version": "1.5.0",
          "state": {
            "_model_module": "@jupyter-widgets/controls",
            "_model_module_version": "1.5.0",
            "_model_name": "ProgressStyleModel",
            "_view_count": null,
            "_view_module": "@jupyter-widgets/base",
            "_view_module_version": "1.2.0",
            "_view_name": "StyleView",
            "bar_color": null,
            "description_width": ""
          }
        },
        "af413e13199b47deb72c5e68f76e3dc9": {
          "model_module": "@jupyter-widgets/controls",
          "model_name": "VBoxModel",
          "model_module_version": "1.5.0",
          "state": {
            "_dom_classes": [],
            "_model_module": "@jupyter-widgets/controls",
            "_model_module_version": "1.5.0",
            "_model_name": "VBoxModel",
            "_view_count": null,
            "_view_module": "@jupyter-widgets/controls",
            "_view_module_version": "1.5.0",
            "_view_name": "VBoxView",
            "box_style": "",
            "children": [
              "IPY_MODEL_5b0220d7bca64caa8be37198e57c522c",
              "IPY_MODEL_bd16f31dd3cf4dcb901159e08fc4f8a0"
            ],
            "layout": "IPY_MODEL_a0a41d0296a848548b96ead98c07be1c"
          }
        },
        "5b0220d7bca64caa8be37198e57c522c": {
          "model_module": "@jupyter-widgets/controls",
          "model_name": "LabelModel",
          "model_module_version": "1.5.0",
          "state": {
            "_dom_classes": [],
            "_model_module": "@jupyter-widgets/controls",
            "_model_module_version": "1.5.0",
            "_model_name": "LabelModel",
            "_view_count": null,
            "_view_module": "@jupyter-widgets/controls",
            "_view_module_version": "1.5.0",
            "_view_name": "LabelView",
            "description": "",
            "description_tooltip": null,
            "layout": "IPY_MODEL_e7fce639b2224f19aa7447dc5c709b89",
            "placeholder": "​",
            "style": "IPY_MODEL_5f1452fd35d3489eb3586a41434fe45e",
            "value": "0.012 MB of 0.012 MB uploaded\r"
          }
        },
        "bd16f31dd3cf4dcb901159e08fc4f8a0": {
          "model_module": "@jupyter-widgets/controls",
          "model_name": "FloatProgressModel",
          "model_module_version": "1.5.0",
          "state": {
            "_dom_classes": [],
            "_model_module": "@jupyter-widgets/controls",
            "_model_module_version": "1.5.0",
            "_model_name": "FloatProgressModel",
            "_view_count": null,
            "_view_module": "@jupyter-widgets/controls",
            "_view_module_version": "1.5.0",
            "_view_name": "ProgressView",
            "bar_style": "",
            "description": "",
            "description_tooltip": null,
            "layout": "IPY_MODEL_4a4c6e0f0079493ea56b228c7fa77232",
            "max": 1,
            "min": 0,
            "orientation": "horizontal",
            "style": "IPY_MODEL_2ce93df942004c0fbee9c213f595097b",
            "value": 1
          }
        },
        "a0a41d0296a848548b96ead98c07be1c": {
          "model_module": "@jupyter-widgets/base",
          "model_name": "LayoutModel",
          "model_module_version": "1.2.0",
          "state": {
            "_model_module": "@jupyter-widgets/base",
            "_model_module_version": "1.2.0",
            "_model_name": "LayoutModel",
            "_view_count": null,
            "_view_module": "@jupyter-widgets/base",
            "_view_module_version": "1.2.0",
            "_view_name": "LayoutView",
            "align_content": null,
            "align_items": null,
            "align_self": null,
            "border": null,
            "bottom": null,
            "display": null,
            "flex": null,
            "flex_flow": null,
            "grid_area": null,
            "grid_auto_columns": null,
            "grid_auto_flow": null,
            "grid_auto_rows": null,
            "grid_column": null,
            "grid_gap": null,
            "grid_row": null,
            "grid_template_areas": null,
            "grid_template_columns": null,
            "grid_template_rows": null,
            "height": null,
            "justify_content": null,
            "justify_items": null,
            "left": null,
            "margin": null,
            "max_height": null,
            "max_width": null,
            "min_height": null,
            "min_width": null,
            "object_fit": null,
            "object_position": null,
            "order": null,
            "overflow": null,
            "overflow_x": null,
            "overflow_y": null,
            "padding": null,
            "right": null,
            "top": null,
            "visibility": null,
            "width": null
          }
        },
        "e7fce639b2224f19aa7447dc5c709b89": {
          "model_module": "@jupyter-widgets/base",
          "model_name": "LayoutModel",
          "model_module_version": "1.2.0",
          "state": {
            "_model_module": "@jupyter-widgets/base",
            "_model_module_version": "1.2.0",
            "_model_name": "LayoutModel",
            "_view_count": null,
            "_view_module": "@jupyter-widgets/base",
            "_view_module_version": "1.2.0",
            "_view_name": "LayoutView",
            "align_content": null,
            "align_items": null,
            "align_self": null,
            "border": null,
            "bottom": null,
            "display": null,
            "flex": null,
            "flex_flow": null,
            "grid_area": null,
            "grid_auto_columns": null,
            "grid_auto_flow": null,
            "grid_auto_rows": null,
            "grid_column": null,
            "grid_gap": null,
            "grid_row": null,
            "grid_template_areas": null,
            "grid_template_columns": null,
            "grid_template_rows": null,
            "height": null,
            "justify_content": null,
            "justify_items": null,
            "left": null,
            "margin": null,
            "max_height": null,
            "max_width": null,
            "min_height": null,
            "min_width": null,
            "object_fit": null,
            "object_position": null,
            "order": null,
            "overflow": null,
            "overflow_x": null,
            "overflow_y": null,
            "padding": null,
            "right": null,
            "top": null,
            "visibility": null,
            "width": null
          }
        },
        "5f1452fd35d3489eb3586a41434fe45e": {
          "model_module": "@jupyter-widgets/controls",
          "model_name": "DescriptionStyleModel",
          "model_module_version": "1.5.0",
          "state": {
            "_model_module": "@jupyter-widgets/controls",
            "_model_module_version": "1.5.0",
            "_model_name": "DescriptionStyleModel",
            "_view_count": null,
            "_view_module": "@jupyter-widgets/base",
            "_view_module_version": "1.2.0",
            "_view_name": "StyleView",
            "description_width": ""
          }
        },
        "4a4c6e0f0079493ea56b228c7fa77232": {
          "model_module": "@jupyter-widgets/base",
          "model_name": "LayoutModel",
          "model_module_version": "1.2.0",
          "state": {
            "_model_module": "@jupyter-widgets/base",
            "_model_module_version": "1.2.0",
            "_model_name": "LayoutModel",
            "_view_count": null,
            "_view_module": "@jupyter-widgets/base",
            "_view_module_version": "1.2.0",
            "_view_name": "LayoutView",
            "align_content": null,
            "align_items": null,
            "align_self": null,
            "border": null,
            "bottom": null,
            "display": null,
            "flex": null,
            "flex_flow": null,
            "grid_area": null,
            "grid_auto_columns": null,
            "grid_auto_flow": null,
            "grid_auto_rows": null,
            "grid_column": null,
            "grid_gap": null,
            "grid_row": null,
            "grid_template_areas": null,
            "grid_template_columns": null,
            "grid_template_rows": null,
            "height": null,
            "justify_content": null,
            "justify_items": null,
            "left": null,
            "margin": null,
            "max_height": null,
            "max_width": null,
            "min_height": null,
            "min_width": null,
            "object_fit": null,
            "object_position": null,
            "order": null,
            "overflow": null,
            "overflow_x": null,
            "overflow_y": null,
            "padding": null,
            "right": null,
            "top": null,
            "visibility": null,
            "width": null
          }
        },
        "2ce93df942004c0fbee9c213f595097b": {
          "model_module": "@jupyter-widgets/controls",
          "model_name": "ProgressStyleModel",
          "model_module_version": "1.5.0",
          "state": {
            "_model_module": "@jupyter-widgets/controls",
            "_model_module_version": "1.5.0",
            "_model_name": "ProgressStyleModel",
            "_view_count": null,
            "_view_module": "@jupyter-widgets/base",
            "_view_module_version": "1.2.0",
            "_view_name": "StyleView",
            "bar_color": null,
            "description_width": ""
          }
        },
        "52b883dc14004affa29d47ea61666774": {
          "model_module": "@jupyter-widgets/controls",
          "model_name": "VBoxModel",
          "model_module_version": "1.5.0",
          "state": {
            "_dom_classes": [],
            "_model_module": "@jupyter-widgets/controls",
            "_model_module_version": "1.5.0",
            "_model_name": "VBoxModel",
            "_view_count": null,
            "_view_module": "@jupyter-widgets/controls",
            "_view_module_version": "1.5.0",
            "_view_name": "VBoxView",
            "box_style": "",
            "children": [
              "IPY_MODEL_d393327d734b4f0b9ff377bd0d1d66c6",
              "IPY_MODEL_6f0a985e9a35407fad41d1fd474b2df1"
            ],
            "layout": "IPY_MODEL_70a50c9e6aee48d5b07c70fd71ad9377"
          }
        },
        "d393327d734b4f0b9ff377bd0d1d66c6": {
          "model_module": "@jupyter-widgets/controls",
          "model_name": "LabelModel",
          "model_module_version": "1.5.0",
          "state": {
            "_dom_classes": [],
            "_model_module": "@jupyter-widgets/controls",
            "_model_module_version": "1.5.0",
            "_model_name": "LabelModel",
            "_view_count": null,
            "_view_module": "@jupyter-widgets/controls",
            "_view_module_version": "1.5.0",
            "_view_name": "LabelView",
            "description": "",
            "description_tooltip": null,
            "layout": "IPY_MODEL_a781b9d3c76340c2ae669c0f99022569",
            "placeholder": "​",
            "style": "IPY_MODEL_1974c6f3bd804f8b831a1594849c9f8f",
            "value": "0.012 MB of 0.012 MB uploaded\r"
          }
        },
        "6f0a985e9a35407fad41d1fd474b2df1": {
          "model_module": "@jupyter-widgets/controls",
          "model_name": "FloatProgressModel",
          "model_module_version": "1.5.0",
          "state": {
            "_dom_classes": [],
            "_model_module": "@jupyter-widgets/controls",
            "_model_module_version": "1.5.0",
            "_model_name": "FloatProgressModel",
            "_view_count": null,
            "_view_module": "@jupyter-widgets/controls",
            "_view_module_version": "1.5.0",
            "_view_name": "ProgressView",
            "bar_style": "",
            "description": "",
            "description_tooltip": null,
            "layout": "IPY_MODEL_496c952080654f2bbe0b990388890220",
            "max": 1,
            "min": 0,
            "orientation": "horizontal",
            "style": "IPY_MODEL_f7cb2007019749ec9e7e635b1591c197",
            "value": 1
          }
        },
        "70a50c9e6aee48d5b07c70fd71ad9377": {
          "model_module": "@jupyter-widgets/base",
          "model_name": "LayoutModel",
          "model_module_version": "1.2.0",
          "state": {
            "_model_module": "@jupyter-widgets/base",
            "_model_module_version": "1.2.0",
            "_model_name": "LayoutModel",
            "_view_count": null,
            "_view_module": "@jupyter-widgets/base",
            "_view_module_version": "1.2.0",
            "_view_name": "LayoutView",
            "align_content": null,
            "align_items": null,
            "align_self": null,
            "border": null,
            "bottom": null,
            "display": null,
            "flex": null,
            "flex_flow": null,
            "grid_area": null,
            "grid_auto_columns": null,
            "grid_auto_flow": null,
            "grid_auto_rows": null,
            "grid_column": null,
            "grid_gap": null,
            "grid_row": null,
            "grid_template_areas": null,
            "grid_template_columns": null,
            "grid_template_rows": null,
            "height": null,
            "justify_content": null,
            "justify_items": null,
            "left": null,
            "margin": null,
            "max_height": null,
            "max_width": null,
            "min_height": null,
            "min_width": null,
            "object_fit": null,
            "object_position": null,
            "order": null,
            "overflow": null,
            "overflow_x": null,
            "overflow_y": null,
            "padding": null,
            "right": null,
            "top": null,
            "visibility": null,
            "width": null
          }
        },
        "a781b9d3c76340c2ae669c0f99022569": {
          "model_module": "@jupyter-widgets/base",
          "model_name": "LayoutModel",
          "model_module_version": "1.2.0",
          "state": {
            "_model_module": "@jupyter-widgets/base",
            "_model_module_version": "1.2.0",
            "_model_name": "LayoutModel",
            "_view_count": null,
            "_view_module": "@jupyter-widgets/base",
            "_view_module_version": "1.2.0",
            "_view_name": "LayoutView",
            "align_content": null,
            "align_items": null,
            "align_self": null,
            "border": null,
            "bottom": null,
            "display": null,
            "flex": null,
            "flex_flow": null,
            "grid_area": null,
            "grid_auto_columns": null,
            "grid_auto_flow": null,
            "grid_auto_rows": null,
            "grid_column": null,
            "grid_gap": null,
            "grid_row": null,
            "grid_template_areas": null,
            "grid_template_columns": null,
            "grid_template_rows": null,
            "height": null,
            "justify_content": null,
            "justify_items": null,
            "left": null,
            "margin": null,
            "max_height": null,
            "max_width": null,
            "min_height": null,
            "min_width": null,
            "object_fit": null,
            "object_position": null,
            "order": null,
            "overflow": null,
            "overflow_x": null,
            "overflow_y": null,
            "padding": null,
            "right": null,
            "top": null,
            "visibility": null,
            "width": null
          }
        },
        "1974c6f3bd804f8b831a1594849c9f8f": {
          "model_module": "@jupyter-widgets/controls",
          "model_name": "DescriptionStyleModel",
          "model_module_version": "1.5.0",
          "state": {
            "_model_module": "@jupyter-widgets/controls",
            "_model_module_version": "1.5.0",
            "_model_name": "DescriptionStyleModel",
            "_view_count": null,
            "_view_module": "@jupyter-widgets/base",
            "_view_module_version": "1.2.0",
            "_view_name": "StyleView",
            "description_width": ""
          }
        },
        "496c952080654f2bbe0b990388890220": {
          "model_module": "@jupyter-widgets/base",
          "model_name": "LayoutModel",
          "model_module_version": "1.2.0",
          "state": {
            "_model_module": "@jupyter-widgets/base",
            "_model_module_version": "1.2.0",
            "_model_name": "LayoutModel",
            "_view_count": null,
            "_view_module": "@jupyter-widgets/base",
            "_view_module_version": "1.2.0",
            "_view_name": "LayoutView",
            "align_content": null,
            "align_items": null,
            "align_self": null,
            "border": null,
            "bottom": null,
            "display": null,
            "flex": null,
            "flex_flow": null,
            "grid_area": null,
            "grid_auto_columns": null,
            "grid_auto_flow": null,
            "grid_auto_rows": null,
            "grid_column": null,
            "grid_gap": null,
            "grid_row": null,
            "grid_template_areas": null,
            "grid_template_columns": null,
            "grid_template_rows": null,
            "height": null,
            "justify_content": null,
            "justify_items": null,
            "left": null,
            "margin": null,
            "max_height": null,
            "max_width": null,
            "min_height": null,
            "min_width": null,
            "object_fit": null,
            "object_position": null,
            "order": null,
            "overflow": null,
            "overflow_x": null,
            "overflow_y": null,
            "padding": null,
            "right": null,
            "top": null,
            "visibility": null,
            "width": null
          }
        },
        "f7cb2007019749ec9e7e635b1591c197": {
          "model_module": "@jupyter-widgets/controls",
          "model_name": "ProgressStyleModel",
          "model_module_version": "1.5.0",
          "state": {
            "_model_module": "@jupyter-widgets/controls",
            "_model_module_version": "1.5.0",
            "_model_name": "ProgressStyleModel",
            "_view_count": null,
            "_view_module": "@jupyter-widgets/base",
            "_view_module_version": "1.2.0",
            "_view_name": "StyleView",
            "bar_color": null,
            "description_width": ""
          }
        },
        "c0b5e68adce74b5d97c0da3adc8e669d": {
          "model_module": "@jupyter-widgets/controls",
          "model_name": "VBoxModel",
          "model_module_version": "1.5.0",
          "state": {
            "_dom_classes": [],
            "_model_module": "@jupyter-widgets/controls",
            "_model_module_version": "1.5.0",
            "_model_name": "VBoxModel",
            "_view_count": null,
            "_view_module": "@jupyter-widgets/controls",
            "_view_module_version": "1.5.0",
            "_view_name": "VBoxView",
            "box_style": "",
            "children": [
              "IPY_MODEL_0edccb45182a4585b11a63651c3aab37",
              "IPY_MODEL_83988687d6954be2a60a0a0c41bfc5d3"
            ],
            "layout": "IPY_MODEL_9f4f0fe5a0224c61bafcc07f71778435"
          }
        },
        "0edccb45182a4585b11a63651c3aab37": {
          "model_module": "@jupyter-widgets/controls",
          "model_name": "LabelModel",
          "model_module_version": "1.5.0",
          "state": {
            "_dom_classes": [],
            "_model_module": "@jupyter-widgets/controls",
            "_model_module_version": "1.5.0",
            "_model_name": "LabelModel",
            "_view_count": null,
            "_view_module": "@jupyter-widgets/controls",
            "_view_module_version": "1.5.0",
            "_view_name": "LabelView",
            "description": "",
            "description_tooltip": null,
            "layout": "IPY_MODEL_ddc3fa90d6ad4784afaefaf4dc535323",
            "placeholder": "​",
            "style": "IPY_MODEL_fce3db4e27d24b318040e24593afbacb",
            "value": "0.012 MB of 0.012 MB uploaded\r"
          }
        },
        "83988687d6954be2a60a0a0c41bfc5d3": {
          "model_module": "@jupyter-widgets/controls",
          "model_name": "FloatProgressModel",
          "model_module_version": "1.5.0",
          "state": {
            "_dom_classes": [],
            "_model_module": "@jupyter-widgets/controls",
            "_model_module_version": "1.5.0",
            "_model_name": "FloatProgressModel",
            "_view_count": null,
            "_view_module": "@jupyter-widgets/controls",
            "_view_module_version": "1.5.0",
            "_view_name": "ProgressView",
            "bar_style": "",
            "description": "",
            "description_tooltip": null,
            "layout": "IPY_MODEL_6e358ec722584d769928c20b1389e7d1",
            "max": 1,
            "min": 0,
            "orientation": "horizontal",
            "style": "IPY_MODEL_65bd66c4cb1d40a3b160c9e0e3d7fcae",
            "value": 1
          }
        },
        "9f4f0fe5a0224c61bafcc07f71778435": {
          "model_module": "@jupyter-widgets/base",
          "model_name": "LayoutModel",
          "model_module_version": "1.2.0",
          "state": {
            "_model_module": "@jupyter-widgets/base",
            "_model_module_version": "1.2.0",
            "_model_name": "LayoutModel",
            "_view_count": null,
            "_view_module": "@jupyter-widgets/base",
            "_view_module_version": "1.2.0",
            "_view_name": "LayoutView",
            "align_content": null,
            "align_items": null,
            "align_self": null,
            "border": null,
            "bottom": null,
            "display": null,
            "flex": null,
            "flex_flow": null,
            "grid_area": null,
            "grid_auto_columns": null,
            "grid_auto_flow": null,
            "grid_auto_rows": null,
            "grid_column": null,
            "grid_gap": null,
            "grid_row": null,
            "grid_template_areas": null,
            "grid_template_columns": null,
            "grid_template_rows": null,
            "height": null,
            "justify_content": null,
            "justify_items": null,
            "left": null,
            "margin": null,
            "max_height": null,
            "max_width": null,
            "min_height": null,
            "min_width": null,
            "object_fit": null,
            "object_position": null,
            "order": null,
            "overflow": null,
            "overflow_x": null,
            "overflow_y": null,
            "padding": null,
            "right": null,
            "top": null,
            "visibility": null,
            "width": null
          }
        },
        "ddc3fa90d6ad4784afaefaf4dc535323": {
          "model_module": "@jupyter-widgets/base",
          "model_name": "LayoutModel",
          "model_module_version": "1.2.0",
          "state": {
            "_model_module": "@jupyter-widgets/base",
            "_model_module_version": "1.2.0",
            "_model_name": "LayoutModel",
            "_view_count": null,
            "_view_module": "@jupyter-widgets/base",
            "_view_module_version": "1.2.0",
            "_view_name": "LayoutView",
            "align_content": null,
            "align_items": null,
            "align_self": null,
            "border": null,
            "bottom": null,
            "display": null,
            "flex": null,
            "flex_flow": null,
            "grid_area": null,
            "grid_auto_columns": null,
            "grid_auto_flow": null,
            "grid_auto_rows": null,
            "grid_column": null,
            "grid_gap": null,
            "grid_row": null,
            "grid_template_areas": null,
            "grid_template_columns": null,
            "grid_template_rows": null,
            "height": null,
            "justify_content": null,
            "justify_items": null,
            "left": null,
            "margin": null,
            "max_height": null,
            "max_width": null,
            "min_height": null,
            "min_width": null,
            "object_fit": null,
            "object_position": null,
            "order": null,
            "overflow": null,
            "overflow_x": null,
            "overflow_y": null,
            "padding": null,
            "right": null,
            "top": null,
            "visibility": null,
            "width": null
          }
        },
        "fce3db4e27d24b318040e24593afbacb": {
          "model_module": "@jupyter-widgets/controls",
          "model_name": "DescriptionStyleModel",
          "model_module_version": "1.5.0",
          "state": {
            "_model_module": "@jupyter-widgets/controls",
            "_model_module_version": "1.5.0",
            "_model_name": "DescriptionStyleModel",
            "_view_count": null,
            "_view_module": "@jupyter-widgets/base",
            "_view_module_version": "1.2.0",
            "_view_name": "StyleView",
            "description_width": ""
          }
        },
        "6e358ec722584d769928c20b1389e7d1": {
          "model_module": "@jupyter-widgets/base",
          "model_name": "LayoutModel",
          "model_module_version": "1.2.0",
          "state": {
            "_model_module": "@jupyter-widgets/base",
            "_model_module_version": "1.2.0",
            "_model_name": "LayoutModel",
            "_view_count": null,
            "_view_module": "@jupyter-widgets/base",
            "_view_module_version": "1.2.0",
            "_view_name": "LayoutView",
            "align_content": null,
            "align_items": null,
            "align_self": null,
            "border": null,
            "bottom": null,
            "display": null,
            "flex": null,
            "flex_flow": null,
            "grid_area": null,
            "grid_auto_columns": null,
            "grid_auto_flow": null,
            "grid_auto_rows": null,
            "grid_column": null,
            "grid_gap": null,
            "grid_row": null,
            "grid_template_areas": null,
            "grid_template_columns": null,
            "grid_template_rows": null,
            "height": null,
            "justify_content": null,
            "justify_items": null,
            "left": null,
            "margin": null,
            "max_height": null,
            "max_width": null,
            "min_height": null,
            "min_width": null,
            "object_fit": null,
            "object_position": null,
            "order": null,
            "overflow": null,
            "overflow_x": null,
            "overflow_y": null,
            "padding": null,
            "right": null,
            "top": null,
            "visibility": null,
            "width": null
          }
        },
        "65bd66c4cb1d40a3b160c9e0e3d7fcae": {
          "model_module": "@jupyter-widgets/controls",
          "model_name": "ProgressStyleModel",
          "model_module_version": "1.5.0",
          "state": {
            "_model_module": "@jupyter-widgets/controls",
            "_model_module_version": "1.5.0",
            "_model_name": "ProgressStyleModel",
            "_view_count": null,
            "_view_module": "@jupyter-widgets/base",
            "_view_module_version": "1.2.0",
            "_view_name": "StyleView",
            "bar_color": null,
            "description_width": ""
          }
        },
        "09c2cbb12eac44519f899026f32c7ebe": {
          "model_module": "@jupyter-widgets/controls",
          "model_name": "VBoxModel",
          "model_module_version": "1.5.0",
          "state": {
            "_dom_classes": [],
            "_model_module": "@jupyter-widgets/controls",
            "_model_module_version": "1.5.0",
            "_model_name": "VBoxModel",
            "_view_count": null,
            "_view_module": "@jupyter-widgets/controls",
            "_view_module_version": "1.5.0",
            "_view_name": "VBoxView",
            "box_style": "",
            "children": [
              "IPY_MODEL_b967a3109fb8490cb387f9bc7a20bf44",
              "IPY_MODEL_7d4d803d97a84db8aca1ec5d4394e170"
            ],
            "layout": "IPY_MODEL_716005442c234241803d3f708ba297c8"
          }
        },
        "b967a3109fb8490cb387f9bc7a20bf44": {
          "model_module": "@jupyter-widgets/controls",
          "model_name": "LabelModel",
          "model_module_version": "1.5.0",
          "state": {
            "_dom_classes": [],
            "_model_module": "@jupyter-widgets/controls",
            "_model_module_version": "1.5.0",
            "_model_name": "LabelModel",
            "_view_count": null,
            "_view_module": "@jupyter-widgets/controls",
            "_view_module_version": "1.5.0",
            "_view_name": "LabelView",
            "description": "",
            "description_tooltip": null,
            "layout": "IPY_MODEL_740e3ee1b6104eae89411593237fcdfd",
            "placeholder": "​",
            "style": "IPY_MODEL_06f89142942b4f52b3c93ffb2823d8d0",
            "value": "0.012 MB of 0.012 MB uploaded\r"
          }
        },
        "7d4d803d97a84db8aca1ec5d4394e170": {
          "model_module": "@jupyter-widgets/controls",
          "model_name": "FloatProgressModel",
          "model_module_version": "1.5.0",
          "state": {
            "_dom_classes": [],
            "_model_module": "@jupyter-widgets/controls",
            "_model_module_version": "1.5.0",
            "_model_name": "FloatProgressModel",
            "_view_count": null,
            "_view_module": "@jupyter-widgets/controls",
            "_view_module_version": "1.5.0",
            "_view_name": "ProgressView",
            "bar_style": "",
            "description": "",
            "description_tooltip": null,
            "layout": "IPY_MODEL_66ea8cda56fc4a76a75fb2fb93a0b308",
            "max": 1,
            "min": 0,
            "orientation": "horizontal",
            "style": "IPY_MODEL_b070e8b461194424bb2c447194444df0",
            "value": 1
          }
        },
        "716005442c234241803d3f708ba297c8": {
          "model_module": "@jupyter-widgets/base",
          "model_name": "LayoutModel",
          "model_module_version": "1.2.0",
          "state": {
            "_model_module": "@jupyter-widgets/base",
            "_model_module_version": "1.2.0",
            "_model_name": "LayoutModel",
            "_view_count": null,
            "_view_module": "@jupyter-widgets/base",
            "_view_module_version": "1.2.0",
            "_view_name": "LayoutView",
            "align_content": null,
            "align_items": null,
            "align_self": null,
            "border": null,
            "bottom": null,
            "display": null,
            "flex": null,
            "flex_flow": null,
            "grid_area": null,
            "grid_auto_columns": null,
            "grid_auto_flow": null,
            "grid_auto_rows": null,
            "grid_column": null,
            "grid_gap": null,
            "grid_row": null,
            "grid_template_areas": null,
            "grid_template_columns": null,
            "grid_template_rows": null,
            "height": null,
            "justify_content": null,
            "justify_items": null,
            "left": null,
            "margin": null,
            "max_height": null,
            "max_width": null,
            "min_height": null,
            "min_width": null,
            "object_fit": null,
            "object_position": null,
            "order": null,
            "overflow": null,
            "overflow_x": null,
            "overflow_y": null,
            "padding": null,
            "right": null,
            "top": null,
            "visibility": null,
            "width": null
          }
        },
        "740e3ee1b6104eae89411593237fcdfd": {
          "model_module": "@jupyter-widgets/base",
          "model_name": "LayoutModel",
          "model_module_version": "1.2.0",
          "state": {
            "_model_module": "@jupyter-widgets/base",
            "_model_module_version": "1.2.0",
            "_model_name": "LayoutModel",
            "_view_count": null,
            "_view_module": "@jupyter-widgets/base",
            "_view_module_version": "1.2.0",
            "_view_name": "LayoutView",
            "align_content": null,
            "align_items": null,
            "align_self": null,
            "border": null,
            "bottom": null,
            "display": null,
            "flex": null,
            "flex_flow": null,
            "grid_area": null,
            "grid_auto_columns": null,
            "grid_auto_flow": null,
            "grid_auto_rows": null,
            "grid_column": null,
            "grid_gap": null,
            "grid_row": null,
            "grid_template_areas": null,
            "grid_template_columns": null,
            "grid_template_rows": null,
            "height": null,
            "justify_content": null,
            "justify_items": null,
            "left": null,
            "margin": null,
            "max_height": null,
            "max_width": null,
            "min_height": null,
            "min_width": null,
            "object_fit": null,
            "object_position": null,
            "order": null,
            "overflow": null,
            "overflow_x": null,
            "overflow_y": null,
            "padding": null,
            "right": null,
            "top": null,
            "visibility": null,
            "width": null
          }
        },
        "06f89142942b4f52b3c93ffb2823d8d0": {
          "model_module": "@jupyter-widgets/controls",
          "model_name": "DescriptionStyleModel",
          "model_module_version": "1.5.0",
          "state": {
            "_model_module": "@jupyter-widgets/controls",
            "_model_module_version": "1.5.0",
            "_model_name": "DescriptionStyleModel",
            "_view_count": null,
            "_view_module": "@jupyter-widgets/base",
            "_view_module_version": "1.2.0",
            "_view_name": "StyleView",
            "description_width": ""
          }
        },
        "66ea8cda56fc4a76a75fb2fb93a0b308": {
          "model_module": "@jupyter-widgets/base",
          "model_name": "LayoutModel",
          "model_module_version": "1.2.0",
          "state": {
            "_model_module": "@jupyter-widgets/base",
            "_model_module_version": "1.2.0",
            "_model_name": "LayoutModel",
            "_view_count": null,
            "_view_module": "@jupyter-widgets/base",
            "_view_module_version": "1.2.0",
            "_view_name": "LayoutView",
            "align_content": null,
            "align_items": null,
            "align_self": null,
            "border": null,
            "bottom": null,
            "display": null,
            "flex": null,
            "flex_flow": null,
            "grid_area": null,
            "grid_auto_columns": null,
            "grid_auto_flow": null,
            "grid_auto_rows": null,
            "grid_column": null,
            "grid_gap": null,
            "grid_row": null,
            "grid_template_areas": null,
            "grid_template_columns": null,
            "grid_template_rows": null,
            "height": null,
            "justify_content": null,
            "justify_items": null,
            "left": null,
            "margin": null,
            "max_height": null,
            "max_width": null,
            "min_height": null,
            "min_width": null,
            "object_fit": null,
            "object_position": null,
            "order": null,
            "overflow": null,
            "overflow_x": null,
            "overflow_y": null,
            "padding": null,
            "right": null,
            "top": null,
            "visibility": null,
            "width": null
          }
        },
        "b070e8b461194424bb2c447194444df0": {
          "model_module": "@jupyter-widgets/controls",
          "model_name": "ProgressStyleModel",
          "model_module_version": "1.5.0",
          "state": {
            "_model_module": "@jupyter-widgets/controls",
            "_model_module_version": "1.5.0",
            "_model_name": "ProgressStyleModel",
            "_view_count": null,
            "_view_module": "@jupyter-widgets/base",
            "_view_module_version": "1.2.0",
            "_view_name": "StyleView",
            "bar_color": null,
            "description_width": ""
          }
        },
        "65acf93413f7442c932b701763cc0179": {
          "model_module": "@jupyter-widgets/controls",
          "model_name": "VBoxModel",
          "model_module_version": "1.5.0",
          "state": {
            "_dom_classes": [],
            "_model_module": "@jupyter-widgets/controls",
            "_model_module_version": "1.5.0",
            "_model_name": "VBoxModel",
            "_view_count": null,
            "_view_module": "@jupyter-widgets/controls",
            "_view_module_version": "1.5.0",
            "_view_name": "VBoxView",
            "box_style": "",
            "children": [
              "IPY_MODEL_145ab2d5f26f4f43834d9d35d87c9647",
              "IPY_MODEL_7a5658e8548c4dcca42f342ceccb0105"
            ],
            "layout": "IPY_MODEL_2284827804d94561a96c1e87021ebe7c"
          }
        },
        "145ab2d5f26f4f43834d9d35d87c9647": {
          "model_module": "@jupyter-widgets/controls",
          "model_name": "LabelModel",
          "model_module_version": "1.5.0",
          "state": {
            "_dom_classes": [],
            "_model_module": "@jupyter-widgets/controls",
            "_model_module_version": "1.5.0",
            "_model_name": "LabelModel",
            "_view_count": null,
            "_view_module": "@jupyter-widgets/controls",
            "_view_module_version": "1.5.0",
            "_view_name": "LabelView",
            "description": "",
            "description_tooltip": null,
            "layout": "IPY_MODEL_115c2cd74c2f48b7a8c645eae6daf627",
            "placeholder": "​",
            "style": "IPY_MODEL_54388d0e62b144458abc381972fdff3b",
            "value": "0.012 MB of 0.012 MB uploaded\r"
          }
        },
        "7a5658e8548c4dcca42f342ceccb0105": {
          "model_module": "@jupyter-widgets/controls",
          "model_name": "FloatProgressModel",
          "model_module_version": "1.5.0",
          "state": {
            "_dom_classes": [],
            "_model_module": "@jupyter-widgets/controls",
            "_model_module_version": "1.5.0",
            "_model_name": "FloatProgressModel",
            "_view_count": null,
            "_view_module": "@jupyter-widgets/controls",
            "_view_module_version": "1.5.0",
            "_view_name": "ProgressView",
            "bar_style": "",
            "description": "",
            "description_tooltip": null,
            "layout": "IPY_MODEL_094f01369b1444f0bef062a4a5583f25",
            "max": 1,
            "min": 0,
            "orientation": "horizontal",
            "style": "IPY_MODEL_b1ece976179c4ad0801e212589060dbc",
            "value": 1
          }
        },
        "2284827804d94561a96c1e87021ebe7c": {
          "model_module": "@jupyter-widgets/base",
          "model_name": "LayoutModel",
          "model_module_version": "1.2.0",
          "state": {
            "_model_module": "@jupyter-widgets/base",
            "_model_module_version": "1.2.0",
            "_model_name": "LayoutModel",
            "_view_count": null,
            "_view_module": "@jupyter-widgets/base",
            "_view_module_version": "1.2.0",
            "_view_name": "LayoutView",
            "align_content": null,
            "align_items": null,
            "align_self": null,
            "border": null,
            "bottom": null,
            "display": null,
            "flex": null,
            "flex_flow": null,
            "grid_area": null,
            "grid_auto_columns": null,
            "grid_auto_flow": null,
            "grid_auto_rows": null,
            "grid_column": null,
            "grid_gap": null,
            "grid_row": null,
            "grid_template_areas": null,
            "grid_template_columns": null,
            "grid_template_rows": null,
            "height": null,
            "justify_content": null,
            "justify_items": null,
            "left": null,
            "margin": null,
            "max_height": null,
            "max_width": null,
            "min_height": null,
            "min_width": null,
            "object_fit": null,
            "object_position": null,
            "order": null,
            "overflow": null,
            "overflow_x": null,
            "overflow_y": null,
            "padding": null,
            "right": null,
            "top": null,
            "visibility": null,
            "width": null
          }
        },
        "115c2cd74c2f48b7a8c645eae6daf627": {
          "model_module": "@jupyter-widgets/base",
          "model_name": "LayoutModel",
          "model_module_version": "1.2.0",
          "state": {
            "_model_module": "@jupyter-widgets/base",
            "_model_module_version": "1.2.0",
            "_model_name": "LayoutModel",
            "_view_count": null,
            "_view_module": "@jupyter-widgets/base",
            "_view_module_version": "1.2.0",
            "_view_name": "LayoutView",
            "align_content": null,
            "align_items": null,
            "align_self": null,
            "border": null,
            "bottom": null,
            "display": null,
            "flex": null,
            "flex_flow": null,
            "grid_area": null,
            "grid_auto_columns": null,
            "grid_auto_flow": null,
            "grid_auto_rows": null,
            "grid_column": null,
            "grid_gap": null,
            "grid_row": null,
            "grid_template_areas": null,
            "grid_template_columns": null,
            "grid_template_rows": null,
            "height": null,
            "justify_content": null,
            "justify_items": null,
            "left": null,
            "margin": null,
            "max_height": null,
            "max_width": null,
            "min_height": null,
            "min_width": null,
            "object_fit": null,
            "object_position": null,
            "order": null,
            "overflow": null,
            "overflow_x": null,
            "overflow_y": null,
            "padding": null,
            "right": null,
            "top": null,
            "visibility": null,
            "width": null
          }
        },
        "54388d0e62b144458abc381972fdff3b": {
          "model_module": "@jupyter-widgets/controls",
          "model_name": "DescriptionStyleModel",
          "model_module_version": "1.5.0",
          "state": {
            "_model_module": "@jupyter-widgets/controls",
            "_model_module_version": "1.5.0",
            "_model_name": "DescriptionStyleModel",
            "_view_count": null,
            "_view_module": "@jupyter-widgets/base",
            "_view_module_version": "1.2.0",
            "_view_name": "StyleView",
            "description_width": ""
          }
        },
        "094f01369b1444f0bef062a4a5583f25": {
          "model_module": "@jupyter-widgets/base",
          "model_name": "LayoutModel",
          "model_module_version": "1.2.0",
          "state": {
            "_model_module": "@jupyter-widgets/base",
            "_model_module_version": "1.2.0",
            "_model_name": "LayoutModel",
            "_view_count": null,
            "_view_module": "@jupyter-widgets/base",
            "_view_module_version": "1.2.0",
            "_view_name": "LayoutView",
            "align_content": null,
            "align_items": null,
            "align_self": null,
            "border": null,
            "bottom": null,
            "display": null,
            "flex": null,
            "flex_flow": null,
            "grid_area": null,
            "grid_auto_columns": null,
            "grid_auto_flow": null,
            "grid_auto_rows": null,
            "grid_column": null,
            "grid_gap": null,
            "grid_row": null,
            "grid_template_areas": null,
            "grid_template_columns": null,
            "grid_template_rows": null,
            "height": null,
            "justify_content": null,
            "justify_items": null,
            "left": null,
            "margin": null,
            "max_height": null,
            "max_width": null,
            "min_height": null,
            "min_width": null,
            "object_fit": null,
            "object_position": null,
            "order": null,
            "overflow": null,
            "overflow_x": null,
            "overflow_y": null,
            "padding": null,
            "right": null,
            "top": null,
            "visibility": null,
            "width": null
          }
        },
        "b1ece976179c4ad0801e212589060dbc": {
          "model_module": "@jupyter-widgets/controls",
          "model_name": "ProgressStyleModel",
          "model_module_version": "1.5.0",
          "state": {
            "_model_module": "@jupyter-widgets/controls",
            "_model_module_version": "1.5.0",
            "_model_name": "ProgressStyleModel",
            "_view_count": null,
            "_view_module": "@jupyter-widgets/base",
            "_view_module_version": "1.2.0",
            "_view_name": "StyleView",
            "bar_color": null,
            "description_width": ""
          }
        }
      }
    }
  },
  "cells": [
    {
      "cell_type": "code",
      "source": [
        "!pip install wandb\n"
      ],
      "metadata": {
        "colab": {
          "base_uri": "https://localhost:8080/"
        },
        "id": "14cyWQYKbpU8",
        "outputId": "2c013efe-dfb2-4b27-ae81-2f0ea070ced6"
      },
      "execution_count": 1,
      "outputs": [
        {
          "output_type": "stream",
          "name": "stdout",
          "text": [
            "Collecting wandb\n",
            "  Downloading wandb-0.16.4-py3-none-any.whl (2.2 MB)\n",
            "\u001b[2K     \u001b[90m━━━━━━━━━━━━━━━━━━━━━━━━━━━━━━━━━━━━━━━━\u001b[0m \u001b[32m2.2/2.2 MB\u001b[0m \u001b[31m8.2 MB/s\u001b[0m eta \u001b[36m0:00:00\u001b[0m\n",
            "\u001b[?25hRequirement already satisfied: Click!=8.0.0,>=7.1 in /usr/local/lib/python3.10/dist-packages (from wandb) (8.1.7)\n",
            "Collecting GitPython!=3.1.29,>=1.0.0 (from wandb)\n",
            "  Downloading GitPython-3.1.42-py3-none-any.whl (195 kB)\n",
            "\u001b[2K     \u001b[90m━━━━━━━━━━━━━━━━━━━━━━━━━━━━━━━━━━━━━━━━\u001b[0m \u001b[32m195.4/195.4 kB\u001b[0m \u001b[31m17.4 MB/s\u001b[0m eta \u001b[36m0:00:00\u001b[0m\n",
            "\u001b[?25hRequirement already satisfied: requests<3,>=2.0.0 in /usr/local/lib/python3.10/dist-packages (from wandb) (2.31.0)\n",
            "Requirement already satisfied: psutil>=5.0.0 in /usr/local/lib/python3.10/dist-packages (from wandb) (5.9.5)\n",
            "Collecting sentry-sdk>=1.0.0 (from wandb)\n",
            "  Downloading sentry_sdk-1.43.0-py2.py3-none-any.whl (264 kB)\n",
            "\u001b[2K     \u001b[90m━━━━━━━━━━━━━━━━━━━━━━━━━━━━━━━━━━━━━━━━\u001b[0m \u001b[32m264.6/264.6 kB\u001b[0m \u001b[31m17.4 MB/s\u001b[0m eta \u001b[36m0:00:00\u001b[0m\n",
            "\u001b[?25hCollecting docker-pycreds>=0.4.0 (from wandb)\n",
            "  Downloading docker_pycreds-0.4.0-py2.py3-none-any.whl (9.0 kB)\n",
            "Requirement already satisfied: PyYAML in /usr/local/lib/python3.10/dist-packages (from wandb) (6.0.1)\n",
            "Collecting setproctitle (from wandb)\n",
            "  Downloading setproctitle-1.3.3-cp310-cp310-manylinux_2_5_x86_64.manylinux1_x86_64.manylinux_2_17_x86_64.manylinux2014_x86_64.whl (30 kB)\n",
            "Requirement already satisfied: setuptools in /usr/local/lib/python3.10/dist-packages (from wandb) (67.7.2)\n",
            "Requirement already satisfied: appdirs>=1.4.3 in /usr/local/lib/python3.10/dist-packages (from wandb) (1.4.4)\n",
            "Requirement already satisfied: protobuf!=4.21.0,<5,>=3.19.0 in /usr/local/lib/python3.10/dist-packages (from wandb) (3.20.3)\n",
            "Requirement already satisfied: six>=1.4.0 in /usr/local/lib/python3.10/dist-packages (from docker-pycreds>=0.4.0->wandb) (1.16.0)\n",
            "Collecting gitdb<5,>=4.0.1 (from GitPython!=3.1.29,>=1.0.0->wandb)\n",
            "  Downloading gitdb-4.0.11-py3-none-any.whl (62 kB)\n",
            "\u001b[2K     \u001b[90m━━━━━━━━━━━━━━━━━━━━━━━━━━━━━━━━━━━━━━━━\u001b[0m \u001b[32m62.7/62.7 kB\u001b[0m \u001b[31m7.0 MB/s\u001b[0m eta \u001b[36m0:00:00\u001b[0m\n",
            "\u001b[?25hRequirement already satisfied: charset-normalizer<4,>=2 in /usr/local/lib/python3.10/dist-packages (from requests<3,>=2.0.0->wandb) (3.3.2)\n",
            "Requirement already satisfied: idna<4,>=2.5 in /usr/local/lib/python3.10/dist-packages (from requests<3,>=2.0.0->wandb) (3.6)\n",
            "Requirement already satisfied: urllib3<3,>=1.21.1 in /usr/local/lib/python3.10/dist-packages (from requests<3,>=2.0.0->wandb) (2.0.7)\n",
            "Requirement already satisfied: certifi>=2017.4.17 in /usr/local/lib/python3.10/dist-packages (from requests<3,>=2.0.0->wandb) (2024.2.2)\n",
            "Collecting smmap<6,>=3.0.1 (from gitdb<5,>=4.0.1->GitPython!=3.1.29,>=1.0.0->wandb)\n",
            "  Downloading smmap-5.0.1-py3-none-any.whl (24 kB)\n",
            "Installing collected packages: smmap, setproctitle, sentry-sdk, docker-pycreds, gitdb, GitPython, wandb\n",
            "Successfully installed GitPython-3.1.42 docker-pycreds-0.4.0 gitdb-4.0.11 sentry-sdk-1.43.0 setproctitle-1.3.3 smmap-5.0.1 wandb-0.16.4\n"
          ]
        }
      ]
    },
    {
      "cell_type": "code",
      "execution_count": 2,
      "metadata": {
        "colab": {
          "base_uri": "https://localhost:8080/"
        },
        "id": "ltEQ-sUobK7N",
        "outputId": "655754a7-8840-4d9b-c62d-869addbb4300"
      },
      "outputs": [
        {
          "output_type": "stream",
          "name": "stdout",
          "text": [
            "--2024-03-23 07:51:00--  http://ai.stanford.edu/~amaas/data/sentiment/aclImdb_v1.tar.gz\n",
            "Resolving ai.stanford.edu (ai.stanford.edu)... 171.64.68.10\n",
            "Connecting to ai.stanford.edu (ai.stanford.edu)|171.64.68.10|:80... connected.\n",
            "HTTP request sent, awaiting response... 200 OK\n",
            "Length: 84125825 (80M) [application/x-gzip]\n",
            "Saving to: ‘../data/aclImdb_v1.tar.gz’\n",
            "\n",
            "../data/aclImdb_v1. 100%[===================>]  80.23M  22.5MB/s    in 5.1s    \n",
            "\n",
            "2024-03-23 07:51:05 (15.7 MB/s) - ‘../data/aclImdb_v1.tar.gz’ saved [84125825/84125825]\n",
            "\n"
          ]
        }
      ],
      "source": [
        "%mkdir ../data\n",
        "!wget -O ../data/aclImdb_v1.tar.gz http://ai.stanford.edu/~amaas/data/sentiment/aclImdb_v1.tar.gz\n",
        "!tar -zxf ../data/aclImdb_v1.tar.gz -C ../data"
      ]
    },
    {
      "cell_type": "code",
      "source": [
        "import os\n",
        "import glob\n",
        "\n",
        "def read_imdb_data(data_dir='../data/aclImdb'):\n",
        "    data = {}\n",
        "    labels = {}\n",
        "\n",
        "    for data_type in ['train', 'test']:\n",
        "        data[data_type] = {}\n",
        "        labels[data_type] = {}\n",
        "\n",
        "        for sentiment in ['pos', 'neg']:\n",
        "            data[data_type][sentiment] = []\n",
        "            labels[data_type][sentiment] = []\n",
        "\n",
        "            path = os.path.join(data_dir, data_type, sentiment, '*.txt')\n",
        "            files = glob.glob(path)\n",
        "\n",
        "            for f in files:\n",
        "                with open(f) as review:\n",
        "                    data[data_type][sentiment].append(review.read())\n",
        "                    # Here we represent a positive review by '1' and a negative review by '0'\n",
        "                    labels[data_type][sentiment].append(1 if sentiment == 'pos' else 0)\n",
        "\n",
        "            assert len(data[data_type][sentiment]) == len(labels[data_type][sentiment]), \\\n",
        "                    \"{}/{} data size does not match labels size\".format(data_type, sentiment)\n",
        "\n",
        "    return data, labels"
      ],
      "metadata": {
        "id": "Vi3llbw0b9uo"
      },
      "execution_count": 3,
      "outputs": []
    },
    {
      "cell_type": "code",
      "source": [
        "data, labels = read_imdb_data()\n",
        "print(\"IMDB reviews: train = {} pos / {} neg, test = {} pos / {} neg\".format(\n",
        "            len(data['train']['pos']), len(data['train']['neg']),\n",
        "            len(data['test']['pos']), len(data['test']['neg'])))\n"
      ],
      "metadata": {
        "colab": {
          "base_uri": "https://localhost:8080/"
        },
        "id": "5MdvyAZ1cZXb",
        "outputId": "d0322258-730b-4a74-8a2a-d9842820736b"
      },
      "execution_count": 4,
      "outputs": [
        {
          "output_type": "stream",
          "name": "stdout",
          "text": [
            "IMDB reviews: train = 12500 pos / 12500 neg, test = 12500 pos / 12500 neg\n"
          ]
        }
      ]
    },
    {
      "cell_type": "code",
      "source": [
        "from sklearn.utils import shuffle\n",
        "\n",
        "def prepare_imdb_data(data, labels):\n",
        "    #Combine positive and negative reviews and labels\n",
        "    data_train = data['train']['pos'] + data['train']['neg']\n",
        "    data_test = data['test']['pos'] + data['test']['neg']\n",
        "    labels_train = labels['train']['pos'] + labels['train']['neg']\n",
        "    labels_test = labels['test']['pos'] + labels['test']['neg']\n",
        "\n",
        "    #Shuffle reviews and corresponding labels within training and test sets\n",
        "    data_train, labels_train = shuffle(data_train, labels_train)\n",
        "    data_test, labels_test = shuffle(data_test, labels_test)\n",
        "\n",
        "    # Return a unified training data, test data, training labels, test labels\n",
        "    return data_train, data_test, labels_train, labels_test"
      ],
      "metadata": {
        "id": "WP91n_jbcblo"
      },
      "execution_count": 5,
      "outputs": []
    },
    {
      "cell_type": "code",
      "source": [
        "train_X, test_X, train_y, test_y = prepare_imdb_data(data, labels)\n",
        "print(len(train_X))\n",
        "print(len(train_y))"
      ],
      "metadata": {
        "colab": {
          "base_uri": "https://localhost:8080/"
        },
        "id": "5B-3MZJsdBXV",
        "outputId": "fc5482aa-0650-49e3-9d0c-569d9ef45c09"
      },
      "execution_count": 6,
      "outputs": [
        {
          "output_type": "stream",
          "name": "stdout",
          "text": [
            "25000\n",
            "25000\n"
          ]
        }
      ]
    },
    {
      "cell_type": "markdown",
      "source": [
        "The first step in processing the reviews is to make sure that any html tags that appear should be removed. In addition we wish to tokenize our input, that way words such as entertained and entertaining are considered the same with regard to sentiment analysis."
      ],
      "metadata": {
        "id": "XdEj0NmNd0xM"
      }
    },
    {
      "cell_type": "code",
      "source": [
        "# Import the necessary cleaning Libraries\n",
        "import nltk\n",
        "from nltk.corpus import stopwords\n",
        "from nltk.stem.porter import *\n",
        "import re\n",
        "from bs4 import BeautifulSoup\n"
      ],
      "metadata": {
        "id": "ZVpEp1E-KTaS"
      },
      "execution_count": 7,
      "outputs": []
    },
    {
      "cell_type": "code",
      "source": [
        "\n",
        "def review_to_words(review):\n",
        "    nltk.download(\"stopwords\", quiet=True)\n",
        "    stemmer = PorterStemmer()\n",
        "\n",
        "    text = BeautifulSoup(review, \"html.parser\").get_text() # Remove HTML tags\n",
        "    text = re.sub(r\"[^a-zA-Z0-9]\", \" \", text.lower()) # Convert to lower case\n",
        "    words = text.split() # Split string into words\n",
        "    words = [w for w in words if w not in stopwords.words(\"english\")] # Remove stopwords\n",
        "    words = [PorterStemmer().stem(w) for w in words] # stem\n",
        "\n",
        "    return words"
      ],
      "metadata": {
        "id": "ZGE14NCJdE9c"
      },
      "execution_count": 8,
      "outputs": []
    },
    {
      "cell_type": "code",
      "source": [
        "print(train_X[100])\n",
        "review_to_words(train_X[100])\n"
      ],
      "metadata": {
        "colab": {
          "base_uri": "https://localhost:8080/"
        },
        "id": "qkh7ihayerPG",
        "outputId": "079bc95d-1f33-4707-f477-22280c2429ad"
      },
      "execution_count": 9,
      "outputs": [
        {
          "output_type": "stream",
          "name": "stdout",
          "text": [
            "I enjoyed this movie, granted it is mainly because I enjoy seeing Sean Connery act and this one has the added bonus of having Ed Harris and Lawrence Fishburne in it too. The story has a grandma seeking out Connery's assistance because her grandson is in prison and she says he was wrongly convicted. At first it seems there may have been some racist aspects of the case, however it later turns out the main officer on the case was black himself and it seems he did some rather bad things to coerce a confession out of the boy. Well the boy tries to point to another killer locked up in the same prison, one who is about to be put to death. He is a particularly nasty person too, as he takes a lot of joy in what he did, writing the relatives of his victims and trying to get people to mail them. A lot of twists and turns in this one with some of it being somewhat unexpected. Me I just enjoyed Sean Connery's character trying to make sense of the whole ordeal. The movie also made me mad in areas, especially when you find out what ultimately happened. You get very good interplay between Connery and Harris and Connery and Fishburne as they all shine rather well in this one. In the end this one makes for a rather good suspense/thriller.\n"
          ]
        },
        {
          "output_type": "execute_result",
          "data": {
            "text/plain": [
              "['enjoy',\n",
              " 'movi',\n",
              " 'grant',\n",
              " 'mainli',\n",
              " 'enjoy',\n",
              " 'see',\n",
              " 'sean',\n",
              " 'conneri',\n",
              " 'act',\n",
              " 'one',\n",
              " 'ad',\n",
              " 'bonu',\n",
              " 'ed',\n",
              " 'harri',\n",
              " 'lawrenc',\n",
              " 'fishburn',\n",
              " 'stori',\n",
              " 'grandma',\n",
              " 'seek',\n",
              " 'conneri',\n",
              " 'assist',\n",
              " 'grandson',\n",
              " 'prison',\n",
              " 'say',\n",
              " 'wrongli',\n",
              " 'convict',\n",
              " 'first',\n",
              " 'seem',\n",
              " 'may',\n",
              " 'racist',\n",
              " 'aspect',\n",
              " 'case',\n",
              " 'howev',\n",
              " 'later',\n",
              " 'turn',\n",
              " 'main',\n",
              " 'offic',\n",
              " 'case',\n",
              " 'black',\n",
              " 'seem',\n",
              " 'rather',\n",
              " 'bad',\n",
              " 'thing',\n",
              " 'coerc',\n",
              " 'confess',\n",
              " 'boy',\n",
              " 'well',\n",
              " 'boy',\n",
              " 'tri',\n",
              " 'point',\n",
              " 'anoth',\n",
              " 'killer',\n",
              " 'lock',\n",
              " 'prison',\n",
              " 'one',\n",
              " 'put',\n",
              " 'death',\n",
              " 'particularli',\n",
              " 'nasti',\n",
              " 'person',\n",
              " 'take',\n",
              " 'lot',\n",
              " 'joy',\n",
              " 'write',\n",
              " 'rel',\n",
              " 'victim',\n",
              " 'tri',\n",
              " 'get',\n",
              " 'peopl',\n",
              " 'mail',\n",
              " 'lot',\n",
              " 'twist',\n",
              " 'turn',\n",
              " 'one',\n",
              " 'somewhat',\n",
              " 'unexpect',\n",
              " 'enjoy',\n",
              " 'sean',\n",
              " 'conneri',\n",
              " 'charact',\n",
              " 'tri',\n",
              " 'make',\n",
              " 'sens',\n",
              " 'whole',\n",
              " 'ordeal',\n",
              " 'movi',\n",
              " 'also',\n",
              " 'made',\n",
              " 'mad',\n",
              " 'area',\n",
              " 'especi',\n",
              " 'find',\n",
              " 'ultim',\n",
              " 'happen',\n",
              " 'get',\n",
              " 'good',\n",
              " 'interplay',\n",
              " 'conneri',\n",
              " 'harri',\n",
              " 'conneri',\n",
              " 'fishburn',\n",
              " 'shine',\n",
              " 'rather',\n",
              " 'well',\n",
              " 'one',\n",
              " 'end',\n",
              " 'one',\n",
              " 'make',\n",
              " 'rather',\n",
              " 'good',\n",
              " 'suspens',\n",
              " 'thriller']"
            ]
          },
          "metadata": {},
          "execution_count": 9
        }
      ]
    },
    {
      "cell_type": "code",
      "source": [
        "import os\n",
        "import pickle\n",
        "\n",
        "cache_dir = \"../data\"  # where to store cache files\n",
        "os.makedirs(cache_dir, exist_ok=True)  # ensure cache directory exists\n",
        "\n",
        "def preprocess_data(data_train, data_test, labels_train, labels_test,\n",
        "                    cache_dir=cache_dir, cache_file=\"preprocessed_data.pkl\"):\n",
        "    \"\"\"Convert each review to words; read from cache if available.\"\"\"\n",
        "\n",
        "    # If cache_file is not None, try to read from it first\n",
        "    cache_data = None\n",
        "    if cache_file is not None:\n",
        "        try:\n",
        "            with open(os.path.join(cache_dir, cache_file), \"rb\") as f:\n",
        "                cache_data = pickle.load(f)\n",
        "            print(\"Read preprocessed data from cache file:\", cache_file)\n",
        "        except:\n",
        "            pass  # unable to read from cache, but that's okay\n",
        "\n",
        "    # If cache is missing, then do the heavy lifting\n",
        "    if cache_data is None:\n",
        "        # Preprocess training and test data to obtain words for each review\n",
        "        #words_train = list(map(review_to_words, data_train))\n",
        "        #words_test = list(map(review_to_words, data_test))\n",
        "        words_train = [review_to_words(review) for review in data_train]\n",
        "        words_test = [review_to_words(review) for review in data_test]\n",
        "\n",
        "        # Write to cache file for future runs\n",
        "        if cache_file is not None:\n",
        "            cache_data = dict(words_train=words_train, words_test=words_test,\n",
        "                              labels_train=labels_train, labels_test=labels_test)\n",
        "            with open(os.path.join(cache_dir, cache_file), \"wb\") as f:\n",
        "                pickle.dump(cache_data, f)\n",
        "            print(\"Wrote preprocessed data to cache file:\", cache_file)\n",
        "    else:\n",
        "        # Unpack data loaded from cache file\n",
        "        words_train, words_test, labels_train, labels_test = (cache_data['words_train'],\n",
        "                cache_data['words_test'], cache_data['labels_train'], cache_data['labels_test'])\n",
        "\n",
        "    return words_train, words_test, labels_train, labels_test\n"
      ],
      "metadata": {
        "id": "luRLaCMgeyyP"
      },
      "execution_count": 10,
      "outputs": []
    },
    {
      "cell_type": "code",
      "source": [
        "train_X, test_X, train_y, test_y = preprocess_data(train_X, test_X, train_y, test_y)\n"
      ],
      "metadata": {
        "colab": {
          "base_uri": "https://localhost:8080/"
        },
        "id": "3MaPkbAxwXJR",
        "outputId": "7e9ca4fc-a6a3-4896-9afa-b2280f83a857"
      },
      "execution_count": 11,
      "outputs": [
        {
          "output_type": "stream",
          "name": "stderr",
          "text": [
            "<ipython-input-8-3545aefb4b3a>:5: MarkupResemblesLocatorWarning: The input looks more like a filename than markup. You may want to open this file and pass the filehandle into Beautiful Soup.\n",
            "  text = BeautifulSoup(review, \"html.parser\").get_text() # Remove HTML tags\n"
          ]
        },
        {
          "output_type": "stream",
          "name": "stdout",
          "text": [
            "Wrote preprocessed data to cache file: preprocessed_data.pkl\n"
          ]
        }
      ]
    },
    {
      "cell_type": "code",
      "source": [
        "# Determine the size of the validation set (20% of the training data)\n",
        "val_size = int(0.2 * len(train_X))\n",
        "\n",
        "# Split the data into training and validation sets\n",
        "val_X = train_X[:val_size]\n",
        "val_y = train_y[:val_size]\n",
        "\n",
        "# Update the training data to exclude the validation set\n",
        "train_X = train_X[val_size:]\n",
        "train_y = train_y[val_size:]\n"
      ],
      "metadata": {
        "id": "Nm-EqWn4fLc0"
      },
      "execution_count": 12,
      "outputs": []
    },
    {
      "cell_type": "code",
      "source": [
        "print(len(train_X))"
      ],
      "metadata": {
        "colab": {
          "base_uri": "https://localhost:8080/"
        },
        "id": "QySzRBWATrRB",
        "outputId": "71183da4-720f-43b2-c716-40e2ff8a2f38"
      },
      "execution_count": 13,
      "outputs": [
        {
          "output_type": "stream",
          "name": "stdout",
          "text": [
            "20000\n"
          ]
        }
      ]
    },
    {
      "cell_type": "markdown",
      "source": [
        "Since we will be using a recurrent neural network, it will be convenient if the length of each review is the same. To do this, we will fix a size for our reviews and then pad short reviews with the category 'no word' (which we will label 0) and truncate long reviews. Basically in the dictionary the one with the most higher rank is the one that occurs most frequently. You dont care for the first two these are no words"
      ],
      "metadata": {
        "id": "__DN0F4syJkU"
      }
    },
    {
      "cell_type": "markdown",
      "source": [],
      "metadata": {
        "id": "7bgt70phy7sn"
      }
    },
    {
      "cell_type": "code",
      "source": [
        "import numpy as np\n",
        "\n",
        "def build_dict(data, vocab_size = 5000):\n",
        "    \"\"\"Construct and return a dictionary mapping each of the most frequently appearing words to a unique integer.\"\"\"\n",
        "    word_count = {}\n",
        "\n",
        "    for sentence in data:\n",
        "        for word in sentence:\n",
        "            if word in word_count:\n",
        "                word_count[word] += 1\n",
        "            else:\n",
        "                word_count[word] = 1\n",
        "\n",
        "    # DONE: Sort the words found in `data` so that sorted_words[0] is the most frequently appearing word and\n",
        "    #       sorted_words[-1] is the least frequently appearing word.\n",
        "\n",
        "    sorted_words = sorted(word_count, key=word_count.get, reverse=True)\n",
        "    print(\"this is the first word having most frequency\",sorted_words[0])\n",
        "    print(\"this is the word having least frequency\",sorted_words[-1])\n",
        "\n",
        "    word_dict = {} # This is what we are building, a dictionary that translates words into integers\n",
        "    for idx, word in enumerate(sorted_words[:vocab_size - 2]): # The -2 is so that we save room for the 'no word'\n",
        "        word_dict[word] = idx + 2                              # 'infrequent' labels\n",
        "\n",
        "    return word_dict"
      ],
      "metadata": {
        "id": "MPbg30bJwa_U"
      },
      "execution_count": 14,
      "outputs": []
    },
    {
      "cell_type": "code",
      "source": [
        "import os\n",
        "import pickle\n",
        "\n",
        "data_dir = '../data'  # The folder we will use for storing data\n",
        "word_dict_file = os.path.join(data_dir, 'word_dict.pkl')\n",
        "\n",
        "if os.path.exists(word_dict_file):\n",
        "    # If the word dictionary file exists, load it\n",
        "    with open(word_dict_file, \"rb\") as f:\n",
        "        word_dict = pickle.load(f)\n",
        "    print(\"Loaded word dictionary from:\", word_dict_file)\n",
        "else:\n",
        "    # If the word dictionary file doesn't exist, build it\n",
        "    word_dict = build_dict(train_X)\n",
        "    with open(word_dict_file, \"wb\") as f:\n",
        "        pickle.dump(word_dict, f)\n",
        "    print(\"Built and saved word dictionary to:\", word_dict_file)\n",
        "\n",
        "print(list(word_dict.keys())[0:5])\n"
      ],
      "metadata": {
        "colab": {
          "base_uri": "https://localhost:8080/"
        },
        "id": "q4vliUPYy6g5",
        "outputId": "044f1ea8-6da8-43c7-af36-afff0b6756cd"
      },
      "execution_count": 15,
      "outputs": [
        {
          "output_type": "stream",
          "name": "stdout",
          "text": [
            "this is the first word having most frequency movi\n",
            "this is the word having least frequency lauper\n",
            "Built and saved word dictionary to: ../data/word_dict.pkl\n",
            "['movi', 'film', 'one', 'like', 'time']\n"
          ]
        }
      ]
    },
    {
      "cell_type": "markdown",
      "source": [
        "Now that we have our word dictionary which allows us to transform the words appearing in the reviews into integers, it is time to make use of it and convert our reviews to their integer sequence representation, making sure to pad or truncate to a fixed length, which in our case is 500."
      ],
      "metadata": {
        "id": "5FbCg7lP0kM5"
      }
    },
    {
      "cell_type": "code",
      "source": [
        "def convert_and_pad(word_dict, sentence, pad=500):\n",
        "    NOWORD = 0 # We will use 0 to represent the 'no word' category\n",
        "    INFREQ = 1 # and we use 1 to represent the infrequent words, i.e., words not appearing in word_dict\n",
        "\n",
        "    working_sentence = [NOWORD] * pad\n",
        "\n",
        "    for word_index, word in enumerate(sentence[:pad]):\n",
        "        if word in word_dict:\n",
        "            working_sentence[word_index] = word_dict[word]\n",
        "        else:\n",
        "            working_sentence[word_index] = INFREQ\n",
        "\n",
        "    return working_sentence, min(len(sentence), pad)"
      ],
      "metadata": {
        "id": "FRMKuC5R1SGU"
      },
      "execution_count": 16,
      "outputs": []
    },
    {
      "cell_type": "code",
      "source": [
        "def convert_and_pad_data(word_dict, data, pad=500):\n",
        "    result = []\n",
        "    lengths = []\n",
        "\n",
        "    for sentence in data:\n",
        "        converted, leng = convert_and_pad(word_dict, sentence, pad)\n",
        "        result.append(converted)\n",
        "        lengths.append(leng)\n",
        "\n",
        "    return np.array(result), np.array(lengths)"
      ],
      "metadata": {
        "id": "6Ze7Qf851PzD"
      },
      "execution_count": 17,
      "outputs": []
    },
    {
      "cell_type": "code",
      "source": [
        "train_X, train_X_len = convert_and_pad_data(word_dict, train_X)\n",
        "test_X, test_X_len = convert_and_pad_data(word_dict, test_X)\n",
        "val_X,val_X_len=convert_and_pad_data(word_dict,val_X)\n"
      ],
      "metadata": {
        "id": "-76tjVYQ0rgd"
      },
      "execution_count": 18,
      "outputs": []
    },
    {
      "cell_type": "code",
      "source": [
        "import os\n",
        "import pandas as pd\n",
        "\n",
        "data_dir = '../data'  # The folder we will use for storing data\n",
        "train_csv_file = os.path.join(data_dir, 'train.csv')\n",
        "\n",
        "if not os.path.exists(train_csv_file):\n",
        "    # If the train.csv file doesn't exist, create it\n",
        "    pd.concat([pd.DataFrame(train_y), pd.DataFrame(train_X_len), pd.DataFrame(train_X)], axis=1) \\\n",
        "        .to_csv(train_csv_file, header=False, index=False)\n",
        "    print(\"Created train.csv file:\", train_csv_file)\n",
        "else:\n",
        "    print(\"train.csv file already exists, skipping creation.\")"
      ],
      "metadata": {
        "id": "ymhimb1v1bK9",
        "colab": {
          "base_uri": "https://localhost:8080/"
        },
        "outputId": "328e16b7-4720-46bb-9544-33bb7bf38803"
      },
      "execution_count": 19,
      "outputs": [
        {
          "output_type": "stream",
          "name": "stdout",
          "text": [
            "Created train.csv file: ../data/train.csv\n"
          ]
        }
      ]
    },
    {
      "cell_type": "code",
      "source": [
        "data_dir = '../data'  # The folder we will use for storing data\n",
        "val_csv_file = os.path.join(data_dir, 'val.csv')\n",
        "\n",
        "if not os.path.exists(val_csv_file):\n",
        "    # If the train.csv file doesn't exist, create it\n",
        "    pd.concat([pd.DataFrame(val_y), pd.DataFrame(val_X_len), pd.DataFrame(val_X)], axis=1) \\\n",
        "        .to_csv(val_csv_file, header=False, index=False)\n",
        "    print(\"Created val.csv file:\", val_csv_file)\n",
        "else:\n",
        "    print(\"val.csv file already exists, skipping creation.\")"
      ],
      "metadata": {
        "colab": {
          "base_uri": "https://localhost:8080/"
        },
        "id": "FeOjSyVDfl4g",
        "outputId": "8fdbfc18-aa11-4918-84cb-dc1628bc4a02"
      },
      "execution_count": 20,
      "outputs": [
        {
          "output_type": "stream",
          "name": "stdout",
          "text": [
            "Created val.csv file: ../data/val.csv\n"
          ]
        }
      ]
    },
    {
      "cell_type": "code",
      "source": [
        "pd.concat([pd.DataFrame(test_y), pd.DataFrame(test_X_len), pd.DataFrame(test_X)], axis=1) \\\n",
        "        .to_csv(os.path.join(data_dir, 'test.csv'), header=False, index=False)"
      ],
      "metadata": {
        "id": "m5ULe-mIjU4R"
      },
      "execution_count": 21,
      "outputs": []
    },
    {
      "cell_type": "code",
      "source": [
        "print(train_X[0])\n",
        "print(train_X_len[0])"
      ],
      "metadata": {
        "colab": {
          "base_uri": "https://localhost:8080/"
        },
        "id": "tXnpy_sr2BMI",
        "outputId": "4cd7775e-727b-4a69-d674-c4c0203927b0"
      },
      "execution_count": 22,
      "outputs": [
        {
          "output_type": "stream",
          "name": "stdout",
          "text": [
            "[   5    3  563  619  468   22  214  132    5    2 2146    1 2918   52\n",
            "  134    1    1 2184    1    1    1 3305    1 1261    1 1111    3 1083\n",
            "  193  191  257  352  658   90  264  692    1  313 2490 1889    1 2163\n",
            "   94 1157   60  149    1  235    1   27 3651  422   90 1332  815   80\n",
            "  329  711  497    1  815   95 1080    3 1734  115   22 2146  588 2174\n",
            "    1   44  267    1    1  257  418  921    3 3096  150   22  545 1001\n",
            "   85   17   33  357  393  449    0    0    0    0    0    0    0    0\n",
            "    0    0    0    0    0    0    0    0    0    0    0    0    0    0\n",
            "    0    0    0    0    0    0    0    0    0    0    0    0    0    0\n",
            "    0    0    0    0    0    0    0    0    0    0    0    0    0    0\n",
            "    0    0    0    0    0    0    0    0    0    0    0    0    0    0\n",
            "    0    0    0    0    0    0    0    0    0    0    0    0    0    0\n",
            "    0    0    0    0    0    0    0    0    0    0    0    0    0    0\n",
            "    0    0    0    0    0    0    0    0    0    0    0    0    0    0\n",
            "    0    0    0    0    0    0    0    0    0    0    0    0    0    0\n",
            "    0    0    0    0    0    0    0    0    0    0    0    0    0    0\n",
            "    0    0    0    0    0    0    0    0    0    0    0    0    0    0\n",
            "    0    0    0    0    0    0    0    0    0    0    0    0    0    0\n",
            "    0    0    0    0    0    0    0    0    0    0    0    0    0    0\n",
            "    0    0    0    0    0    0    0    0    0    0    0    0    0    0\n",
            "    0    0    0    0    0    0    0    0    0    0    0    0    0    0\n",
            "    0    0    0    0    0    0    0    0    0    0    0    0    0    0\n",
            "    0    0    0    0    0    0    0    0    0    0    0    0    0    0\n",
            "    0    0    0    0    0    0    0    0    0    0    0    0    0    0\n",
            "    0    0    0    0    0    0    0    0    0    0    0    0    0    0\n",
            "    0    0    0    0    0    0    0    0    0    0    0    0    0    0\n",
            "    0    0    0    0    0    0    0    0    0    0    0    0    0    0\n",
            "    0    0    0    0    0    0    0    0    0    0    0    0    0    0\n",
            "    0    0    0    0    0    0    0    0    0    0    0    0    0    0\n",
            "    0    0    0    0    0    0    0    0    0    0    0    0    0    0\n",
            "    0    0    0    0    0    0    0    0    0    0    0    0    0    0\n",
            "    0    0    0    0    0    0    0    0    0    0    0    0    0    0\n",
            "    0    0    0    0    0    0    0    0    0    0    0    0    0    0\n",
            "    0    0    0    0    0    0    0    0    0    0    0    0    0    0\n",
            "    0    0    0    0    0    0    0    0    0    0    0    0    0    0\n",
            "    0    0    0    0    0    0    0    0    0    0]\n",
            "90\n"
          ]
        }
      ]
    },
    {
      "cell_type": "code",
      "source": [
        "import torch.nn as nn\n",
        "\n",
        "class RNNClassifier(nn.Module):\n",
        "    \"\"\" RNNClassifier class for initializing the layers for the simple\n",
        "    recurrent neural network model (RNN) used for Sentiment Analysis of\n",
        "    IMDB reviews.\n",
        "\n",
        "    Attributes:\n",
        "        embedding_dim (int): Dimensionality of the embedding layer\n",
        "        hidden_dim (int): Dimensionality of the hidden layer(s)\n",
        "        vocab_size (int): Size of the vocabulary used by Bag of Words\n",
        "\n",
        "    \"\"\"\n",
        "\n",
        "    def __init__(self, embedding_dim, hidden_dim, vocab_size):\n",
        "        super(RNNClassifier, self).__init__()\n",
        "\n",
        "        self.embedding = nn.Embedding(vocab_size, embedding_dim, padding_idx=0)\n",
        "        self.rnn = nn.RNN(embedding_dim, hidden_dim, batch_first=True)\n",
        "        self.dense = nn.Linear(hidden_dim, 1)\n",
        "        self.sig = nn.Sigmoid()\n",
        "\n",
        "        self.word_dict = None\n",
        "\n",
        "    def forward(self, x):\n",
        "        lengths = x[:, 0]  # Extract lengths from the input\n",
        "        reviews = x[:, 1:]  # Extract reviews from the input\n",
        "        embeds = self.embedding(reviews)\n",
        "        rnn_out, _ = self.rnn(embeds)\n",
        "        out = self.dense(rnn_out[:, -1, :])  # Select the last time step's output\n",
        "        return self.sig(out.squeeze())\n"
      ],
      "metadata": {
        "id": "EiSC4oT3SfZh"
      },
      "execution_count": 23,
      "outputs": []
    },
    {
      "cell_type": "code",
      "source": [
        "import torch.nn as nn\n",
        "\n",
        "class LSTMClassifier(nn.Module):\n",
        "    \"\"\" LSTMClassifier class for initializing the layers for the simple\n",
        "    recurrent neural network model (RNN) used for Sentiment Analysis of\n",
        "    IMDB reviews.\n",
        "\n",
        "    Attributes:\n",
        "        embedding_dim (int) dimensionality of the embedding layer\n",
        "        hidden_dim (int) dimensionality of the hidden layer(s)\n",
        "        vocab_size (int) size of the vocabulary used by Bag of Words\n",
        "\n",
        "    \"\"\"\n",
        "\n",
        "    def __init__(self, embedding_dim, hidden_dim, vocab_size):\n",
        "\n",
        "        super(LSTMClassifier, self).__init__()\n",
        "\n",
        "        self.embedding = nn.Embedding(vocab_size, embedding_dim, padding_idx=0)\n",
        "        self.lstm = nn.LSTM(embedding_dim, hidden_dim)\n",
        "        self.dense = nn.Linear(in_features=hidden_dim, out_features=1)\n",
        "        self.sig = nn.Sigmoid()\n",
        "\n",
        "        self.word_dict = None\n",
        "\n",
        "\n",
        "    def forward(self, x):\n",
        "        x = x.t()\n",
        "        lengths = x[0,:]\n",
        "        reviews = x[1:,:]\n",
        "        embeds = self.embedding(reviews)\n",
        "        lstm_out, _ = self.lstm(embeds)\n",
        "        out = self.dense(lstm_out)\n",
        "        out = out[lengths - 1, range(len(lengths))]\n",
        "        return self.sig(out.squeeze())"
      ],
      "metadata": {
        "id": "B8GPHB2j3DKR"
      },
      "execution_count": 24,
      "outputs": []
    },
    {
      "cell_type": "code",
      "source": [
        "def evaluate(model, dataloader, loss_fn, device):\n",
        "    \"\"\"\n",
        "    Function to evaluate the model on a given dataset.\n",
        "\n",
        "    Args:\n",
        "    - model: the PyTorch model to evaluate\n",
        "    - dataloader: DataLoader object for the dataset\n",
        "    - loss_fn: loss function used for training\n",
        "    - device: device to run the evaluation on (e.g., \"cpu\" or \"cuda\")\n",
        "\n",
        "    Returns:\n",
        "    - accuracy: accuracy of the model on the dataset\n",
        "    - loss: average loss on the dataset\n",
        "    \"\"\"\n",
        "\n",
        "    model.eval()  # Set the model to evaluation mode\n",
        "\n",
        "    correct = 0\n",
        "    total = 0\n",
        "    running_loss = 0.0\n",
        "\n",
        "    with torch.no_grad():  # Disable gradient calculation during evaluation\n",
        "        for inputs, labels in dataloader:\n",
        "            inputs, labels = inputs.to(device), labels.to(device)\n",
        "\n",
        "            # Forward pass\n",
        "            outputs = model(inputs)\n",
        "\n",
        "            # Compute loss\n",
        "            loss = loss_fn(outputs, labels)\n",
        "            running_loss += loss.item()\n",
        "\n",
        "            # Compute accuracy\n",
        "            predicted = torch.round(outputs)\n",
        "            correct += (predicted == labels).sum().item()\n",
        "            total += labels.size(0)\n",
        "\n",
        "    accuracy = correct / total\n",
        "    avg_loss = running_loss / len(dataloader)\n",
        "\n",
        "    return accuracy, avg_loss\n"
      ],
      "metadata": {
        "id": "9MgKllOoin8K"
      },
      "execution_count": 25,
      "outputs": []
    },
    {
      "cell_type": "code",
      "source": [
        "def train(model, train_loader, val_loader, epochs, optimizer, loss_fn, device):\n",
        "    for epoch in range(1, epochs + 1):\n",
        "        model.train()\n",
        "        total_loss = 0\n",
        "        for batch in train_loader:\n",
        "            batch_X, batch_y = batch\n",
        "\n",
        "            batch_X = batch_X.to(device)\n",
        "            batch_y = batch_y.to(device)\n",
        "\n",
        "            optimizer.zero_grad()\n",
        "            output = model(batch_X)\n",
        "            loss = loss_fn(output, batch_y)\n",
        "            loss.backward()\n",
        "            optimizer.step()\n",
        "\n",
        "            total_loss += loss.data.item()\n",
        "\n",
        "        # Validation phase\n",
        "        val_accuracy, val_loss = evaluate(model, val_loader, loss_fn, device)\n",
        "\n",
        "        # Calculate average training loss\n",
        "        avg_train_loss = total_loss / len(train_loader)\n",
        "\n",
        "        # Print and log the losses\n",
        "        print(\"Epoch: {}, Train Loss: {:.4f}, Val Loss: {:.4f}, Val Accuracy: {:.4f}\".format(epoch, avg_train_loss, val_loss, val_accuracy))\n",
        "        wandb.log({\"train_loss\": avg_train_loss, \"val_loss\": val_loss})\n"
      ],
      "metadata": {
        "id": "CCz9fSlxiu9M"
      },
      "execution_count": 26,
      "outputs": []
    },
    {
      "cell_type": "code",
      "source": [
        "import torch\n",
        "import torch.utils.data\n",
        "# Read in only the first 250 rows\n",
        "train_sample = pd.read_csv(os.path.join(data_dir, 'train.csv'), header=None, names=None)\n",
        "\n",
        "# Turn the input pandas dataframe into tensors\n",
        "train_sample_y = torch.from_numpy(train_sample[[0]].values).float().squeeze()\n",
        "train_sample_X = torch.from_numpy(train_sample.drop([0], axis=1).values).long()\n",
        "\n",
        "# Build the dataset\n",
        "train_sample_ds = torch.utils.data.TensorDataset(train_sample_X, train_sample_y)\n",
        "\n",
        "# Read in only the first 250 rows\n",
        "val_sample = pd.read_csv(os.path.join(data_dir, 'val.csv'), header=None, names=None)\n",
        "\n",
        "# Turn the input pandas dataframe into tensors\n",
        "val_sample_y = torch.from_numpy(val_sample[[0]].values).float().squeeze()\n",
        "val_sample_X = torch.from_numpy(val_sample.drop([0], axis=1).values).long()\n",
        "\n",
        "# Build the dataset\n",
        "val_sample_ds = torch.utils.data.TensorDataset(val_sample_X, val_sample_y)\n",
        "\n",
        "test_sample = pd.read_csv(os.path.join(data_dir, 'test.csv'), header=None, names=None)\n",
        "\n",
        "# Turn the input pandas dataframe into tensors\n",
        "test_sample_y = torch.from_numpy(test_sample[[0]].values).float().squeeze()\n",
        "test_sample_X = torch.from_numpy(test_sample.drop([0], axis=1).values).long()\n",
        "\n",
        "# Build the dataset\n",
        "test_sample_ds = torch.utils.data.TensorDataset(test_sample_X, test_sample_y)"
      ],
      "metadata": {
        "id": "5F4hfzw4ix8t"
      },
      "execution_count": 27,
      "outputs": []
    },
    {
      "cell_type": "code",
      "source": [
        "device = torch.device(\"cuda\" if torch.cuda.is_available() else \"cpu\")\n"
      ],
      "metadata": {
        "id": "WQAZDtikrzCV"
      },
      "execution_count": 28,
      "outputs": []
    },
    {
      "cell_type": "code",
      "source": [
        "import wandb\n",
        "wandb.login(key=\"ac8ef4bdae5edab6284aaf71af5502f523fcb79f\")\n",
        "# Define hyperparameter configurations\n",
        "hyperparameters = [\n",
        "    {\"embedding_dim\": 32, \"hidden_dim\": 64, \"batch_size\": 64},\n",
        "    {\"embedding_dim\": 64, \"hidden_dim\": 128, \"batch_size\": 128},\n",
        "    {\"embedding_dim\": 128, \"hidden_dim\": 256, \"batch_size\": 128},\n",
        "    {\"embedding_dim\": 256, \"hidden_dim\": 512, \"batch_size\": 512},\n",
        "    {\"embedding_dim\": 512, \"hidden_dim\": 1024, \"batch_size\": 512},\n",
        "]\n",
        "\n",
        "# Initialize Wandb\n",
        "wandb.init(project=\"hyperparameter-tuning_lstm_final\", name=\"LSTM_Experiment\")\n",
        "\n",
        "# Experiment loop\n",
        "for i, config in enumerate(hyperparameters, 1):\n",
        "    config_name = f\"run_{i}\"\n",
        "    train_sample_dl = torch.utils.data.DataLoader(train_sample_ds, batch_size=config[\"batch_size\"])\n",
        "    test_sample_dl = torch.utils.data.DataLoader(test_sample_ds,  batch_size=config[\"batch_size\"])\n",
        "    val_sample_dl = torch.utils.data.DataLoader(val_sample_ds,  batch_size=config[\"batch_size\"])\n",
        "\n",
        "    # Initialize Wandb for the experiment\n",
        "    wandb.init(config=config, name=config_name)\n",
        "    config = wandb.config\n",
        "\n",
        "    # Create model with specified hyperparameters\n",
        "    device = torch.device(\"cuda\" if torch.cuda.is_available() else \"cpu\")\n",
        "    model = LSTMClassifier(config.embedding_dim, config.hidden_dim, vocab_size=5000).to(device)\n",
        "\n",
        "    # Define optimizer and loss function\n",
        "    optimizer = torch.optim.Adam(model.parameters())\n",
        "    loss_fn = torch.nn.BCELoss()\n",
        "\n",
        "    # Train the model\n",
        "    train(model, train_sample_dl,val_sample_dl, 15, optimizer, loss_fn, device)\n",
        "\n",
        "    # Evaluate the model on validation set\n",
        "    accuracy, avg_loss = evaluate(model, test_sample_dl, loss_fn, device)\n",
        "\n",
        "    # Log metrics using Wandb\n",
        "    print(f\"LSTM Run {i}: Accuracy on validation set: {accuracy:.4f}, Average loss on validation set: {avg_loss:.4f}\")\n",
        "    wandb.log({\"accuracy\": accuracy, \"avg_loss\": avg_loss})\n",
        "\n",
        "    # Finish Wandb run\n",
        "    wandb.finish()\n"
      ],
      "metadata": {
        "colab": {
          "base_uri": "https://localhost:8080/",
          "height": 1000,
          "referenced_widgets": [
            "cbf9336ce2af421fa1ecd19751b8f260",
            "af9b2813b3e743168dc221eeb218aebb",
            "d4646222a9d94cd48a1bddbccc992616",
            "d812fc2773ae4a9397507b1e03aa8125",
            "1bd118bcbbc24498b678f0656e5df7f1",
            "8c3bc7e16b42407c83fba27a75b33217",
            "2ca6b241707f4923ba61580391710d1d",
            "cab7680085a24ac8b7ec78311e6d1ac6",
            "1e5d7857be374def9e72cd8b79df9a10",
            "254d172b6e8849d1b62082a43ebb2558",
            "f9ab57dd0555493cbcf27f01ed7f60e8",
            "aba357f49d8e48ea852be427943fbb86",
            "5de874ac0e70480eb3235d3a46bb1d46",
            "9ad14834cc914662a64662c475b583f1",
            "735a743eb2654a8ea84b483a6ce50995",
            "1482a4612225472e8b2c17bce2557156",
            "af413e13199b47deb72c5e68f76e3dc9",
            "5b0220d7bca64caa8be37198e57c522c",
            "bd16f31dd3cf4dcb901159e08fc4f8a0",
            "a0a41d0296a848548b96ead98c07be1c",
            "e7fce639b2224f19aa7447dc5c709b89",
            "5f1452fd35d3489eb3586a41434fe45e",
            "4a4c6e0f0079493ea56b228c7fa77232",
            "2ce93df942004c0fbee9c213f595097b",
            "52b883dc14004affa29d47ea61666774",
            "d393327d734b4f0b9ff377bd0d1d66c6",
            "6f0a985e9a35407fad41d1fd474b2df1",
            "70a50c9e6aee48d5b07c70fd71ad9377",
            "a781b9d3c76340c2ae669c0f99022569",
            "1974c6f3bd804f8b831a1594849c9f8f",
            "496c952080654f2bbe0b990388890220",
            "f7cb2007019749ec9e7e635b1591c197",
            "c0b5e68adce74b5d97c0da3adc8e669d",
            "0edccb45182a4585b11a63651c3aab37",
            "83988687d6954be2a60a0a0c41bfc5d3",
            "9f4f0fe5a0224c61bafcc07f71778435",
            "ddc3fa90d6ad4784afaefaf4dc535323",
            "fce3db4e27d24b318040e24593afbacb",
            "6e358ec722584d769928c20b1389e7d1",
            "65bd66c4cb1d40a3b160c9e0e3d7fcae",
            "09c2cbb12eac44519f899026f32c7ebe",
            "b967a3109fb8490cb387f9bc7a20bf44",
            "7d4d803d97a84db8aca1ec5d4394e170",
            "716005442c234241803d3f708ba297c8",
            "740e3ee1b6104eae89411593237fcdfd",
            "06f89142942b4f52b3c93ffb2823d8d0",
            "66ea8cda56fc4a76a75fb2fb93a0b308",
            "b070e8b461194424bb2c447194444df0"
          ]
        },
        "id": "CTE4uk0Qvo_J",
        "outputId": "38dad758-7171-435b-ed86-d7602bff648e"
      },
      "execution_count": 29,
      "outputs": [
        {
          "output_type": "stream",
          "name": "stderr",
          "text": [
            "\u001b[34m\u001b[1mwandb\u001b[0m: W&B API key is configured. Use \u001b[1m`wandb login --relogin`\u001b[0m to force relogin\n",
            "\u001b[34m\u001b[1mwandb\u001b[0m: \u001b[33mWARNING\u001b[0m If you're specifying your api key in code, ensure this code is not shared publicly.\n",
            "\u001b[34m\u001b[1mwandb\u001b[0m: \u001b[33mWARNING\u001b[0m Consider setting the WANDB_API_KEY environment variable, or running `wandb login` from the command line.\n",
            "\u001b[34m\u001b[1mwandb\u001b[0m: Appending key for api.wandb.ai to your netrc file: /root/.netrc\n",
            "\u001b[34m\u001b[1mwandb\u001b[0m: Currently logged in as: \u001b[33mprishadcmc\u001b[0m (\u001b[33mprisha\u001b[0m). Use \u001b[1m`wandb login --relogin`\u001b[0m to force relogin\n"
          ]
        },
        {
          "output_type": "display_data",
          "data": {
            "text/plain": [
              "<IPython.core.display.HTML object>"
            ],
            "text/html": [
              "Tracking run with wandb version 0.16.4"
            ]
          },
          "metadata": {}
        },
        {
          "output_type": "display_data",
          "data": {
            "text/plain": [
              "<IPython.core.display.HTML object>"
            ],
            "text/html": [
              "Run data is saved locally in <code>/content/wandb/run-20240323_081154-fcrlusc2</code>"
            ]
          },
          "metadata": {}
        },
        {
          "output_type": "display_data",
          "data": {
            "text/plain": [
              "<IPython.core.display.HTML object>"
            ],
            "text/html": [
              "Syncing run <strong><a href='https://wandb.ai/prisha/hyperparameter-tuning_lstm_final/runs/fcrlusc2' target=\"_blank\">LSTM_Experiment</a></strong> to <a href='https://wandb.ai/prisha/hyperparameter-tuning_lstm_final' target=\"_blank\">Weights & Biases</a> (<a href='https://wandb.me/run' target=\"_blank\">docs</a>)<br/>"
            ]
          },
          "metadata": {}
        },
        {
          "output_type": "display_data",
          "data": {
            "text/plain": [
              "<IPython.core.display.HTML object>"
            ],
            "text/html": [
              " View project at <a href='https://wandb.ai/prisha/hyperparameter-tuning_lstm_final' target=\"_blank\">https://wandb.ai/prisha/hyperparameter-tuning_lstm_final</a>"
            ]
          },
          "metadata": {}
        },
        {
          "output_type": "display_data",
          "data": {
            "text/plain": [
              "<IPython.core.display.HTML object>"
            ],
            "text/html": [
              " View run at <a href='https://wandb.ai/prisha/hyperparameter-tuning_lstm_final/runs/fcrlusc2' target=\"_blank\">https://wandb.ai/prisha/hyperparameter-tuning_lstm_final/runs/fcrlusc2</a>"
            ]
          },
          "metadata": {}
        },
        {
          "output_type": "display_data",
          "data": {
            "text/plain": [
              "<IPython.core.display.HTML object>"
            ],
            "text/html": [
              "Finishing last run (ID:fcrlusc2) before initializing another..."
            ]
          },
          "metadata": {}
        },
        {
          "output_type": "display_data",
          "data": {
            "text/plain": [
              "VBox(children=(Label(value='0.010 MB of 0.010 MB uploaded\\r'), FloatProgress(value=1.0, max=1.0)))"
            ],
            "application/vnd.jupyter.widget-view+json": {
              "version_major": 2,
              "version_minor": 0,
              "model_id": "cbf9336ce2af421fa1ecd19751b8f260"
            }
          },
          "metadata": {}
        },
        {
          "output_type": "display_data",
          "data": {
            "text/plain": [
              "<IPython.core.display.HTML object>"
            ],
            "text/html": [
              " View run <strong style=\"color:#cdcd00\">LSTM_Experiment</strong> at: <a href='https://wandb.ai/prisha/hyperparameter-tuning_lstm_final/runs/fcrlusc2' target=\"_blank\">https://wandb.ai/prisha/hyperparameter-tuning_lstm_final/runs/fcrlusc2</a><br/>Synced 4 W&B file(s), 0 media file(s), 0 artifact file(s) and 0 other file(s)"
            ]
          },
          "metadata": {}
        },
        {
          "output_type": "display_data",
          "data": {
            "text/plain": [
              "<IPython.core.display.HTML object>"
            ],
            "text/html": [
              "Find logs at: <code>./wandb/run-20240323_081154-fcrlusc2/logs</code>"
            ]
          },
          "metadata": {}
        },
        {
          "output_type": "display_data",
          "data": {
            "text/plain": [
              "<IPython.core.display.HTML object>"
            ],
            "text/html": [
              "Successfully finished last run (ID:fcrlusc2). Initializing new run:<br/>"
            ]
          },
          "metadata": {}
        },
        {
          "output_type": "display_data",
          "data": {
            "text/plain": [
              "<IPython.core.display.HTML object>"
            ],
            "text/html": [
              "Tracking run with wandb version 0.16.4"
            ]
          },
          "metadata": {}
        },
        {
          "output_type": "display_data",
          "data": {
            "text/plain": [
              "<IPython.core.display.HTML object>"
            ],
            "text/html": [
              "Run data is saved locally in <code>/content/wandb/run-20240323_081156-2w9744lx</code>"
            ]
          },
          "metadata": {}
        },
        {
          "output_type": "display_data",
          "data": {
            "text/plain": [
              "<IPython.core.display.HTML object>"
            ],
            "text/html": [
              "Syncing run <strong><a href='https://wandb.ai/prisha/uncategorized/runs/2w9744lx' target=\"_blank\">run_1</a></strong> to <a href='https://wandb.ai/prisha/uncategorized' target=\"_blank\">Weights & Biases</a> (<a href='https://wandb.me/run' target=\"_blank\">docs</a>)<br/>"
            ]
          },
          "metadata": {}
        },
        {
          "output_type": "display_data",
          "data": {
            "text/plain": [
              "<IPython.core.display.HTML object>"
            ],
            "text/html": [
              " View project at <a href='https://wandb.ai/prisha/uncategorized' target=\"_blank\">https://wandb.ai/prisha/uncategorized</a>"
            ]
          },
          "metadata": {}
        },
        {
          "output_type": "display_data",
          "data": {
            "text/plain": [
              "<IPython.core.display.HTML object>"
            ],
            "text/html": [
              " View run at <a href='https://wandb.ai/prisha/uncategorized/runs/2w9744lx' target=\"_blank\">https://wandb.ai/prisha/uncategorized/runs/2w9744lx</a>"
            ]
          },
          "metadata": {}
        },
        {
          "output_type": "stream",
          "name": "stdout",
          "text": [
            "Epoch: 1, Train Loss: 0.6278, Val Loss: 0.5434, Val Accuracy: 0.7302\n",
            "Epoch: 2, Train Loss: 0.4529, Val Loss: 0.4608, Val Accuracy: 0.7820\n",
            "Epoch: 3, Train Loss: 0.3680, Val Loss: 0.3908, Val Accuracy: 0.8224\n",
            "Epoch: 4, Train Loss: 0.3229, Val Loss: 0.3730, Val Accuracy: 0.8366\n",
            "Epoch: 5, Train Loss: 0.2995, Val Loss: 0.3516, Val Accuracy: 0.8480\n",
            "Epoch: 6, Train Loss: 0.2659, Val Loss: 0.3455, Val Accuracy: 0.8498\n",
            "Epoch: 7, Train Loss: 0.2335, Val Loss: 0.3631, Val Accuracy: 0.8592\n",
            "Epoch: 8, Train Loss: 0.2323, Val Loss: 0.3734, Val Accuracy: 0.8536\n",
            "Epoch: 9, Train Loss: 0.2053, Val Loss: 0.3642, Val Accuracy: 0.8592\n",
            "Epoch: 10, Train Loss: 0.1960, Val Loss: 0.3633, Val Accuracy: 0.8596\n",
            "Epoch: 11, Train Loss: 0.1746, Val Loss: 0.3749, Val Accuracy: 0.8578\n",
            "Epoch: 12, Train Loss: 0.1622, Val Loss: 0.3845, Val Accuracy: 0.8608\n",
            "Epoch: 13, Train Loss: 0.1540, Val Loss: 0.4032, Val Accuracy: 0.8432\n",
            "Epoch: 14, Train Loss: 0.1443, Val Loss: 0.4035, Val Accuracy: 0.8580\n",
            "Epoch: 15, Train Loss: 0.1300, Val Loss: 0.4095, Val Accuracy: 0.8506\n",
            "LSTM Run 1: Accuracy on validation set: 0.8519, Average loss on validation set: 0.4101\n"
          ]
        },
        {
          "output_type": "display_data",
          "data": {
            "text/plain": [
              "VBox(children=(Label(value='0.012 MB of 0.012 MB uploaded\\r'), FloatProgress(value=1.0, max=1.0)))"
            ],
            "application/vnd.jupyter.widget-view+json": {
              "version_major": 2,
              "version_minor": 0,
              "model_id": "1e5d7857be374def9e72cd8b79df9a10"
            }
          },
          "metadata": {}
        },
        {
          "output_type": "display_data",
          "data": {
            "text/plain": [
              "<IPython.core.display.HTML object>"
            ],
            "text/html": [
              "<style>\n",
              "    table.wandb td:nth-child(1) { padding: 0 10px; text-align: left ; width: auto;} td:nth-child(2) {text-align: left ; width: 100%}\n",
              "    .wandb-row { display: flex; flex-direction: row; flex-wrap: wrap; justify-content: flex-start; width: 100% }\n",
              "    .wandb-col { display: flex; flex-direction: column; flex-basis: 100%; flex: 1; padding: 10px; }\n",
              "    </style>\n",
              "<div class=\"wandb-row\"><div class=\"wandb-col\"><h3>Run history:</h3><br/><table class=\"wandb\"><tr><td>accuracy</td><td>▁</td></tr><tr><td>avg_loss</td><td>▁</td></tr><tr><td>train_loss</td><td>█▆▄▄▃▃▂▂▂▂▂▁▁▁▁</td></tr><tr><td>val_loss</td><td>█▅▃▂▁▁▂▂▂▂▂▂▃▃▃</td></tr></table><br/></div><div class=\"wandb-col\"><h3>Run summary:</h3><br/><table class=\"wandb\"><tr><td>accuracy</td><td>0.85188</td></tr><tr><td>avg_loss</td><td>0.41014</td></tr><tr><td>train_loss</td><td>0.12997</td></tr><tr><td>val_loss</td><td>0.4095</td></tr></table><br/></div></div>"
            ]
          },
          "metadata": {}
        },
        {
          "output_type": "display_data",
          "data": {
            "text/plain": [
              "<IPython.core.display.HTML object>"
            ],
            "text/html": [
              " View run <strong style=\"color:#cdcd00\">run_1</strong> at: <a href='https://wandb.ai/prisha/uncategorized/runs/2w9744lx' target=\"_blank\">https://wandb.ai/prisha/uncategorized/runs/2w9744lx</a><br/>Synced 5 W&B file(s), 0 media file(s), 0 artifact file(s) and 0 other file(s)"
            ]
          },
          "metadata": {}
        },
        {
          "output_type": "display_data",
          "data": {
            "text/plain": [
              "<IPython.core.display.HTML object>"
            ],
            "text/html": [
              "Find logs at: <code>./wandb/run-20240323_081156-2w9744lx/logs</code>"
            ]
          },
          "metadata": {}
        },
        {
          "output_type": "display_data",
          "data": {
            "text/plain": [
              "<IPython.core.display.HTML object>"
            ],
            "text/html": [
              "Tracking run with wandb version 0.16.4"
            ]
          },
          "metadata": {}
        },
        {
          "output_type": "display_data",
          "data": {
            "text/plain": [
              "<IPython.core.display.HTML object>"
            ],
            "text/html": [
              "Run data is saved locally in <code>/content/wandb/run-20240323_081237-8aq7kn5j</code>"
            ]
          },
          "metadata": {}
        },
        {
          "output_type": "display_data",
          "data": {
            "text/plain": [
              "<IPython.core.display.HTML object>"
            ],
            "text/html": [
              "Syncing run <strong><a href='https://wandb.ai/prisha/uncategorized/runs/8aq7kn5j' target=\"_blank\">run_2</a></strong> to <a href='https://wandb.ai/prisha/uncategorized' target=\"_blank\">Weights & Biases</a> (<a href='https://wandb.me/run' target=\"_blank\">docs</a>)<br/>"
            ]
          },
          "metadata": {}
        },
        {
          "output_type": "display_data",
          "data": {
            "text/plain": [
              "<IPython.core.display.HTML object>"
            ],
            "text/html": [
              " View project at <a href='https://wandb.ai/prisha/uncategorized' target=\"_blank\">https://wandb.ai/prisha/uncategorized</a>"
            ]
          },
          "metadata": {}
        },
        {
          "output_type": "display_data",
          "data": {
            "text/plain": [
              "<IPython.core.display.HTML object>"
            ],
            "text/html": [
              " View run at <a href='https://wandb.ai/prisha/uncategorized/runs/8aq7kn5j' target=\"_blank\">https://wandb.ai/prisha/uncategorized/runs/8aq7kn5j</a>"
            ]
          },
          "metadata": {}
        },
        {
          "output_type": "stream",
          "name": "stdout",
          "text": [
            "Epoch: 1, Train Loss: 0.6061, Val Loss: 0.4785, Val Accuracy: 0.7684\n",
            "Epoch: 2, Train Loss: 0.4235, Val Loss: 0.4012, Val Accuracy: 0.8110\n",
            "Epoch: 3, Train Loss: 0.3401, Val Loss: 0.3820, Val Accuracy: 0.8212\n",
            "Epoch: 4, Train Loss: 0.3122, Val Loss: 0.3782, Val Accuracy: 0.8414\n",
            "Epoch: 5, Train Loss: 0.2906, Val Loss: 0.3404, Val Accuracy: 0.8510\n",
            "Epoch: 6, Train Loss: 0.2383, Val Loss: 0.3391, Val Accuracy: 0.8596\n",
            "Epoch: 7, Train Loss: 0.2210, Val Loss: 0.3465, Val Accuracy: 0.8510\n",
            "Epoch: 8, Train Loss: 0.2204, Val Loss: 0.3481, Val Accuracy: 0.8488\n",
            "Epoch: 9, Train Loss: 0.1936, Val Loss: 0.3438, Val Accuracy: 0.8596\n",
            "Epoch: 10, Train Loss: 0.2062, Val Loss: 0.3668, Val Accuracy: 0.8454\n",
            "Epoch: 11, Train Loss: 0.1646, Val Loss: 0.3671, Val Accuracy: 0.8514\n",
            "Epoch: 12, Train Loss: 0.1708, Val Loss: 0.4269, Val Accuracy: 0.8560\n",
            "Epoch: 13, Train Loss: 0.1299, Val Loss: 0.3938, Val Accuracy: 0.8462\n",
            "Epoch: 14, Train Loss: 0.1035, Val Loss: 0.4146, Val Accuracy: 0.8492\n",
            "Epoch: 15, Train Loss: 0.0931, Val Loss: 0.4391, Val Accuracy: 0.8498\n",
            "LSTM Run 2: Accuracy on validation set: 0.8476, Average loss on validation set: 0.4529\n"
          ]
        },
        {
          "output_type": "display_data",
          "data": {
            "text/plain": [
              "VBox(children=(Label(value='0.012 MB of 0.012 MB uploaded\\r'), FloatProgress(value=1.0, max=1.0)))"
            ],
            "application/vnd.jupyter.widget-view+json": {
              "version_major": 2,
              "version_minor": 0,
              "model_id": "af413e13199b47deb72c5e68f76e3dc9"
            }
          },
          "metadata": {}
        },
        {
          "output_type": "display_data",
          "data": {
            "text/plain": [
              "<IPython.core.display.HTML object>"
            ],
            "text/html": [
              "<style>\n",
              "    table.wandb td:nth-child(1) { padding: 0 10px; text-align: left ; width: auto;} td:nth-child(2) {text-align: left ; width: 100%}\n",
              "    .wandb-row { display: flex; flex-direction: row; flex-wrap: wrap; justify-content: flex-start; width: 100% }\n",
              "    .wandb-col { display: flex; flex-direction: column; flex-basis: 100%; flex: 1; padding: 10px; }\n",
              "    </style>\n",
              "<div class=\"wandb-row\"><div class=\"wandb-col\"><h3>Run history:</h3><br/><table class=\"wandb\"><tr><td>accuracy</td><td>▁</td></tr><tr><td>avg_loss</td><td>▁</td></tr><tr><td>train_loss</td><td>█▆▄▄▄▃▃▃▂▃▂▂▂▁▁</td></tr><tr><td>val_loss</td><td>█▄▃▃▁▁▁▁▁▂▂▅▄▅▆</td></tr></table><br/></div><div class=\"wandb-col\"><h3>Run summary:</h3><br/><table class=\"wandb\"><tr><td>accuracy</td><td>0.84764</td></tr><tr><td>avg_loss</td><td>0.4529</td></tr><tr><td>train_loss</td><td>0.0931</td></tr><tr><td>val_loss</td><td>0.43909</td></tr></table><br/></div></div>"
            ]
          },
          "metadata": {}
        },
        {
          "output_type": "display_data",
          "data": {
            "text/plain": [
              "<IPython.core.display.HTML object>"
            ],
            "text/html": [
              " View run <strong style=\"color:#cdcd00\">run_2</strong> at: <a href='https://wandb.ai/prisha/uncategorized/runs/8aq7kn5j' target=\"_blank\">https://wandb.ai/prisha/uncategorized/runs/8aq7kn5j</a><br/>Synced 5 W&B file(s), 0 media file(s), 0 artifact file(s) and 0 other file(s)"
            ]
          },
          "metadata": {}
        },
        {
          "output_type": "display_data",
          "data": {
            "text/plain": [
              "<IPython.core.display.HTML object>"
            ],
            "text/html": [
              "Find logs at: <code>./wandb/run-20240323_081237-8aq7kn5j/logs</code>"
            ]
          },
          "metadata": {}
        },
        {
          "output_type": "display_data",
          "data": {
            "text/plain": [
              "<IPython.core.display.HTML object>"
            ],
            "text/html": [
              "Tracking run with wandb version 0.16.4"
            ]
          },
          "metadata": {}
        },
        {
          "output_type": "display_data",
          "data": {
            "text/plain": [
              "<IPython.core.display.HTML object>"
            ],
            "text/html": [
              "Run data is saved locally in <code>/content/wandb/run-20240323_081343-9jwc0ed1</code>"
            ]
          },
          "metadata": {}
        },
        {
          "output_type": "display_data",
          "data": {
            "text/plain": [
              "<IPython.core.display.HTML object>"
            ],
            "text/html": [
              "Syncing run <strong><a href='https://wandb.ai/prisha/uncategorized/runs/9jwc0ed1' target=\"_blank\">run_3</a></strong> to <a href='https://wandb.ai/prisha/uncategorized' target=\"_blank\">Weights & Biases</a> (<a href='https://wandb.me/run' target=\"_blank\">docs</a>)<br/>"
            ]
          },
          "metadata": {}
        },
        {
          "output_type": "display_data",
          "data": {
            "text/plain": [
              "<IPython.core.display.HTML object>"
            ],
            "text/html": [
              " View project at <a href='https://wandb.ai/prisha/uncategorized' target=\"_blank\">https://wandb.ai/prisha/uncategorized</a>"
            ]
          },
          "metadata": {}
        },
        {
          "output_type": "display_data",
          "data": {
            "text/plain": [
              "<IPython.core.display.HTML object>"
            ],
            "text/html": [
              " View run at <a href='https://wandb.ai/prisha/uncategorized/runs/9jwc0ed1' target=\"_blank\">https://wandb.ai/prisha/uncategorized/runs/9jwc0ed1</a>"
            ]
          },
          "metadata": {}
        },
        {
          "output_type": "stream",
          "name": "stdout",
          "text": [
            "Epoch: 1, Train Loss: 0.5871, Val Loss: 0.4859, Val Accuracy: 0.7752\n",
            "Epoch: 2, Train Loss: 0.5186, Val Loss: 0.5062, Val Accuracy: 0.7520\n",
            "Epoch: 3, Train Loss: 0.4512, Val Loss: 0.4168, Val Accuracy: 0.8098\n",
            "Epoch: 4, Train Loss: 0.3808, Val Loss: 0.4570, Val Accuracy: 0.7776\n",
            "Epoch: 5, Train Loss: 0.3777, Val Loss: 0.3855, Val Accuracy: 0.8254\n",
            "Epoch: 6, Train Loss: 0.2766, Val Loss: 0.3601, Val Accuracy: 0.8468\n",
            "Epoch: 7, Train Loss: 0.2721, Val Loss: 0.3745, Val Accuracy: 0.8514\n",
            "Epoch: 8, Train Loss: 0.2262, Val Loss: 0.3653, Val Accuracy: 0.8414\n",
            "Epoch: 9, Train Loss: 0.2153, Val Loss: 0.3935, Val Accuracy: 0.8518\n",
            "Epoch: 10, Train Loss: 0.1723, Val Loss: 0.3902, Val Accuracy: 0.8562\n",
            "Epoch: 11, Train Loss: 0.1901, Val Loss: 0.3815, Val Accuracy: 0.8562\n",
            "Epoch: 12, Train Loss: 0.1668, Val Loss: 0.4449, Val Accuracy: 0.8508\n",
            "Epoch: 13, Train Loss: 0.1183, Val Loss: 0.4584, Val Accuracy: 0.8570\n",
            "Epoch: 14, Train Loss: 0.0822, Val Loss: 0.4722, Val Accuracy: 0.8520\n",
            "Epoch: 15, Train Loss: 0.0631, Val Loss: 0.5026, Val Accuracy: 0.8482\n",
            "LSTM Run 3: Accuracy on validation set: 0.8503, Average loss on validation set: 0.5154\n"
          ]
        },
        {
          "output_type": "display_data",
          "data": {
            "text/plain": [
              "VBox(children=(Label(value='0.012 MB of 0.012 MB uploaded\\r'), FloatProgress(value=1.0, max=1.0)))"
            ],
            "application/vnd.jupyter.widget-view+json": {
              "version_major": 2,
              "version_minor": 0,
              "model_id": "52b883dc14004affa29d47ea61666774"
            }
          },
          "metadata": {}
        },
        {
          "output_type": "display_data",
          "data": {
            "text/plain": [
              "<IPython.core.display.HTML object>"
            ],
            "text/html": [
              "<style>\n",
              "    table.wandb td:nth-child(1) { padding: 0 10px; text-align: left ; width: auto;} td:nth-child(2) {text-align: left ; width: 100%}\n",
              "    .wandb-row { display: flex; flex-direction: row; flex-wrap: wrap; justify-content: flex-start; width: 100% }\n",
              "    .wandb-col { display: flex; flex-direction: column; flex-basis: 100%; flex: 1; padding: 10px; }\n",
              "    </style>\n",
              "<div class=\"wandb-row\"><div class=\"wandb-col\"><h3>Run history:</h3><br/><table class=\"wandb\"><tr><td>accuracy</td><td>▁</td></tr><tr><td>avg_loss</td><td>▁</td></tr><tr><td>train_loss</td><td>█▇▆▅▅▄▄▃▃▂▃▂▂▁▁</td></tr><tr><td>val_loss</td><td>▇█▄▆▂▁▂▁▃▂▂▅▆▆█</td></tr></table><br/></div><div class=\"wandb-col\"><h3>Run summary:</h3><br/><table class=\"wandb\"><tr><td>accuracy</td><td>0.85032</td></tr><tr><td>avg_loss</td><td>0.51538</td></tr><tr><td>train_loss</td><td>0.06314</td></tr><tr><td>val_loss</td><td>0.50257</td></tr></table><br/></div></div>"
            ]
          },
          "metadata": {}
        },
        {
          "output_type": "display_data",
          "data": {
            "text/plain": [
              "<IPython.core.display.HTML object>"
            ],
            "text/html": [
              " View run <strong style=\"color:#cdcd00\">run_3</strong> at: <a href='https://wandb.ai/prisha/uncategorized/runs/9jwc0ed1' target=\"_blank\">https://wandb.ai/prisha/uncategorized/runs/9jwc0ed1</a><br/>Synced 5 W&B file(s), 0 media file(s), 0 artifact file(s) and 0 other file(s)"
            ]
          },
          "metadata": {}
        },
        {
          "output_type": "display_data",
          "data": {
            "text/plain": [
              "<IPython.core.display.HTML object>"
            ],
            "text/html": [
              "Find logs at: <code>./wandb/run-20240323_081343-9jwc0ed1/logs</code>"
            ]
          },
          "metadata": {}
        },
        {
          "output_type": "display_data",
          "data": {
            "text/plain": [
              "<IPython.core.display.HTML object>"
            ],
            "text/html": [
              "Tracking run with wandb version 0.16.4"
            ]
          },
          "metadata": {}
        },
        {
          "output_type": "display_data",
          "data": {
            "text/plain": [
              "<IPython.core.display.HTML object>"
            ],
            "text/html": [
              "Run data is saved locally in <code>/content/wandb/run-20240323_081630-sukze97r</code>"
            ]
          },
          "metadata": {}
        },
        {
          "output_type": "display_data",
          "data": {
            "text/plain": [
              "<IPython.core.display.HTML object>"
            ],
            "text/html": [
              "Syncing run <strong><a href='https://wandb.ai/prisha/uncategorized/runs/sukze97r' target=\"_blank\">run_4</a></strong> to <a href='https://wandb.ai/prisha/uncategorized' target=\"_blank\">Weights & Biases</a> (<a href='https://wandb.me/run' target=\"_blank\">docs</a>)<br/>"
            ]
          },
          "metadata": {}
        },
        {
          "output_type": "display_data",
          "data": {
            "text/plain": [
              "<IPython.core.display.HTML object>"
            ],
            "text/html": [
              " View project at <a href='https://wandb.ai/prisha/uncategorized' target=\"_blank\">https://wandb.ai/prisha/uncategorized</a>"
            ]
          },
          "metadata": {}
        },
        {
          "output_type": "display_data",
          "data": {
            "text/plain": [
              "<IPython.core.display.HTML object>"
            ],
            "text/html": [
              " View run at <a href='https://wandb.ai/prisha/uncategorized/runs/sukze97r' target=\"_blank\">https://wandb.ai/prisha/uncategorized/runs/sukze97r</a>"
            ]
          },
          "metadata": {}
        },
        {
          "output_type": "stream",
          "name": "stdout",
          "text": [
            "Epoch: 1, Train Loss: 0.6025, Val Loss: 0.6764, Val Accuracy: 0.7290\n",
            "Epoch: 2, Train Loss: 0.4569, Val Loss: 0.4228, Val Accuracy: 0.8102\n",
            "Epoch: 3, Train Loss: 0.3985, Val Loss: 0.4187, Val Accuracy: 0.8156\n",
            "Epoch: 4, Train Loss: 0.3101, Val Loss: 0.3719, Val Accuracy: 0.8444\n",
            "Epoch: 5, Train Loss: 0.2865, Val Loss: 0.4561, Val Accuracy: 0.8054\n",
            "Epoch: 6, Train Loss: 0.2654, Val Loss: 0.3901, Val Accuracy: 0.8456\n",
            "Epoch: 7, Train Loss: 0.2142, Val Loss: 0.4242, Val Accuracy: 0.8492\n",
            "Epoch: 8, Train Loss: 0.1956, Val Loss: 0.3949, Val Accuracy: 0.8622\n",
            "Epoch: 9, Train Loss: 0.1389, Val Loss: 0.4286, Val Accuracy: 0.8588\n",
            "Epoch: 10, Train Loss: 0.1011, Val Loss: 0.4608, Val Accuracy: 0.8502\n",
            "Epoch: 11, Train Loss: 0.0750, Val Loss: 0.5055, Val Accuracy: 0.8492\n",
            "Epoch: 12, Train Loss: 0.0840, Val Loss: 0.9708, Val Accuracy: 0.8140\n",
            "Epoch: 13, Train Loss: 0.2522, Val Loss: 0.4428, Val Accuracy: 0.8378\n",
            "Epoch: 14, Train Loss: 0.1025, Val Loss: 0.5312, Val Accuracy: 0.8352\n",
            "Epoch: 15, Train Loss: 0.0799, Val Loss: 0.5739, Val Accuracy: 0.8310\n",
            "LSTM Run 4: Accuracy on validation set: 0.8330, Average loss on validation set: 0.5689\n"
          ]
        },
        {
          "output_type": "display_data",
          "data": {
            "text/plain": [
              "VBox(children=(Label(value='0.001 MB of 0.001 MB uploaded\\r'), FloatProgress(value=1.0, max=1.0)))"
            ],
            "application/vnd.jupyter.widget-view+json": {
              "version_major": 2,
              "version_minor": 0,
              "model_id": "c0b5e68adce74b5d97c0da3adc8e669d"
            }
          },
          "metadata": {}
        },
        {
          "output_type": "display_data",
          "data": {
            "text/plain": [
              "<IPython.core.display.HTML object>"
            ],
            "text/html": [
              "<style>\n",
              "    table.wandb td:nth-child(1) { padding: 0 10px; text-align: left ; width: auto;} td:nth-child(2) {text-align: left ; width: 100%}\n",
              "    .wandb-row { display: flex; flex-direction: row; flex-wrap: wrap; justify-content: flex-start; width: 100% }\n",
              "    .wandb-col { display: flex; flex-direction: column; flex-basis: 100%; flex: 1; padding: 10px; }\n",
              "    </style>\n",
              "<div class=\"wandb-row\"><div class=\"wandb-col\"><h3>Run history:</h3><br/><table class=\"wandb\"><tr><td>accuracy</td><td>▁</td></tr><tr><td>avg_loss</td><td>▁</td></tr><tr><td>train_loss</td><td>█▆▅▄▄▄▃▃▂▁▁▁▃▁▁</td></tr><tr><td>val_loss</td><td>▅▂▂▁▂▁▂▁▂▂▃█▂▃▃</td></tr></table><br/></div><div class=\"wandb-col\"><h3>Run summary:</h3><br/><table class=\"wandb\"><tr><td>accuracy</td><td>0.83296</td></tr><tr><td>avg_loss</td><td>0.56893</td></tr><tr><td>train_loss</td><td>0.07993</td></tr><tr><td>val_loss</td><td>0.57394</td></tr></table><br/></div></div>"
            ]
          },
          "metadata": {}
        },
        {
          "output_type": "display_data",
          "data": {
            "text/plain": [
              "<IPython.core.display.HTML object>"
            ],
            "text/html": [
              " View run <strong style=\"color:#cdcd00\">run_4</strong> at: <a href='https://wandb.ai/prisha/uncategorized/runs/sukze97r' target=\"_blank\">https://wandb.ai/prisha/uncategorized/runs/sukze97r</a><br/>Synced 5 W&B file(s), 0 media file(s), 0 artifact file(s) and 0 other file(s)"
            ]
          },
          "metadata": {}
        },
        {
          "output_type": "display_data",
          "data": {
            "text/plain": [
              "<IPython.core.display.HTML object>"
            ],
            "text/html": [
              "Find logs at: <code>./wandb/run-20240323_081630-sukze97r/logs</code>"
            ]
          },
          "metadata": {}
        },
        {
          "output_type": "display_data",
          "data": {
            "text/plain": [
              "<IPython.core.display.HTML object>"
            ],
            "text/html": [
              "Tracking run with wandb version 0.16.4"
            ]
          },
          "metadata": {}
        },
        {
          "output_type": "display_data",
          "data": {
            "text/plain": [
              "<IPython.core.display.HTML object>"
            ],
            "text/html": [
              "Run data is saved locally in <code>/content/wandb/run-20240323_082428-b6pwnx70</code>"
            ]
          },
          "metadata": {}
        },
        {
          "output_type": "display_data",
          "data": {
            "text/plain": [
              "<IPython.core.display.HTML object>"
            ],
            "text/html": [
              "Syncing run <strong><a href='https://wandb.ai/prisha/uncategorized/runs/b6pwnx70' target=\"_blank\">run_5</a></strong> to <a href='https://wandb.ai/prisha/uncategorized' target=\"_blank\">Weights & Biases</a> (<a href='https://wandb.me/run' target=\"_blank\">docs</a>)<br/>"
            ]
          },
          "metadata": {}
        },
        {
          "output_type": "display_data",
          "data": {
            "text/plain": [
              "<IPython.core.display.HTML object>"
            ],
            "text/html": [
              " View project at <a href='https://wandb.ai/prisha/uncategorized' target=\"_blank\">https://wandb.ai/prisha/uncategorized</a>"
            ]
          },
          "metadata": {}
        },
        {
          "output_type": "display_data",
          "data": {
            "text/plain": [
              "<IPython.core.display.HTML object>"
            ],
            "text/html": [
              " View run at <a href='https://wandb.ai/prisha/uncategorized/runs/b6pwnx70' target=\"_blank\">https://wandb.ai/prisha/uncategorized/runs/b6pwnx70</a>"
            ]
          },
          "metadata": {}
        },
        {
          "output_type": "stream",
          "name": "stdout",
          "text": [
            "Epoch: 1, Train Loss: 0.6170, Val Loss: 0.5422, Val Accuracy: 0.7040\n",
            "Epoch: 2, Train Loss: 0.4494, Val Loss: 0.4412, Val Accuracy: 0.8006\n",
            "Epoch: 3, Train Loss: 0.3552, Val Loss: 0.3831, Val Accuracy: 0.8458\n",
            "Epoch: 4, Train Loss: 0.2604, Val Loss: 0.4144, Val Accuracy: 0.8394\n",
            "Epoch: 5, Train Loss: 0.2288, Val Loss: 0.4488, Val Accuracy: 0.8112\n",
            "Epoch: 6, Train Loss: 0.1690, Val Loss: 0.4397, Val Accuracy: 0.8144\n",
            "Epoch: 7, Train Loss: 0.0977, Val Loss: 0.5149, Val Accuracy: 0.7856\n",
            "Epoch: 8, Train Loss: 0.0874, Val Loss: 0.5798, Val Accuracy: 0.7770\n",
            "Epoch: 9, Train Loss: 0.0811, Val Loss: 0.5469, Val Accuracy: 0.8344\n",
            "Epoch: 10, Train Loss: 0.0351, Val Loss: 0.5998, Val Accuracy: 0.8272\n",
            "Epoch: 11, Train Loss: 0.0141, Val Loss: 0.7831, Val Accuracy: 0.8122\n",
            "Epoch: 12, Train Loss: 0.0170, Val Loss: 0.7537, Val Accuracy: 0.8202\n",
            "Epoch: 13, Train Loss: 0.0227, Val Loss: 0.7027, Val Accuracy: 0.8178\n",
            "Epoch: 14, Train Loss: 0.0265, Val Loss: 0.7421, Val Accuracy: 0.8448\n",
            "Epoch: 15, Train Loss: 0.0066, Val Loss: 0.7894, Val Accuracy: 0.8404\n",
            "LSTM Run 5: Accuracy on validation set: 0.8473, Average loss on validation set: 0.7493\n"
          ]
        },
        {
          "output_type": "display_data",
          "data": {
            "text/plain": [
              "VBox(children=(Label(value='0.001 MB of 0.001 MB uploaded\\r'), FloatProgress(value=1.0, max=1.0)))"
            ],
            "application/vnd.jupyter.widget-view+json": {
              "version_major": 2,
              "version_minor": 0,
              "model_id": "09c2cbb12eac44519f899026f32c7ebe"
            }
          },
          "metadata": {}
        },
        {
          "output_type": "display_data",
          "data": {
            "text/plain": [
              "<IPython.core.display.HTML object>"
            ],
            "text/html": [
              "<style>\n",
              "    table.wandb td:nth-child(1) { padding: 0 10px; text-align: left ; width: auto;} td:nth-child(2) {text-align: left ; width: 100%}\n",
              "    .wandb-row { display: flex; flex-direction: row; flex-wrap: wrap; justify-content: flex-start; width: 100% }\n",
              "    .wandb-col { display: flex; flex-direction: column; flex-basis: 100%; flex: 1; padding: 10px; }\n",
              "    </style>\n",
              "<div class=\"wandb-row\"><div class=\"wandb-col\"><h3>Run history:</h3><br/><table class=\"wandb\"><tr><td>accuracy</td><td>▁</td></tr><tr><td>avg_loss</td><td>▁</td></tr><tr><td>train_loss</td><td>█▆▅▄▄▃▂▂▂▁▁▁▁▁▁</td></tr><tr><td>val_loss</td><td>▄▂▁▂▂▂▃▄▄▅█▇▇▇█</td></tr></table><br/></div><div class=\"wandb-col\"><h3>Run summary:</h3><br/><table class=\"wandb\"><tr><td>accuracy</td><td>0.84728</td></tr><tr><td>avg_loss</td><td>0.74928</td></tr><tr><td>train_loss</td><td>0.00661</td></tr><tr><td>val_loss</td><td>0.78936</td></tr></table><br/></div></div>"
            ]
          },
          "metadata": {}
        },
        {
          "output_type": "display_data",
          "data": {
            "text/plain": [
              "<IPython.core.display.HTML object>"
            ],
            "text/html": [
              " View run <strong style=\"color:#cdcd00\">run_5</strong> at: <a href='https://wandb.ai/prisha/uncategorized/runs/b6pwnx70' target=\"_blank\">https://wandb.ai/prisha/uncategorized/runs/b6pwnx70</a><br/>Synced 5 W&B file(s), 0 media file(s), 0 artifact file(s) and 0 other file(s)"
            ]
          },
          "metadata": {}
        },
        {
          "output_type": "display_data",
          "data": {
            "text/plain": [
              "<IPython.core.display.HTML object>"
            ],
            "text/html": [
              "Find logs at: <code>./wandb/run-20240323_082428-b6pwnx70/logs</code>"
            ]
          },
          "metadata": {}
        }
      ]
    },
    {
      "cell_type": "code",
      "source": [
        "# Initialize Wandb for the RNN experiment\n",
        "wandb.init(project=\"hyperparameter-tuning_rnn_final\", name=\"RNN_Experiment\")\n",
        "\n",
        "# Define hyperparameters for the RNN\n",
        "config_rnn = {\"embedding_dim\": 64, \"hidden_dim\": 128, \"batch_size\": 100}\n",
        "\n",
        "# Create the RNN model with specified hyperparameters\n",
        "model_rnn = RNNClassifier(config_rnn[\"embedding_dim\"], config_rnn[\"hidden_dim\"], vocab_size=5000).to(device)\n",
        "\n",
        "# Define optimizer and loss function for RNN\n",
        "optimizer_rnn = torch.optim.Adam(model_rnn.parameters())\n",
        "loss_fn_rnn = torch.nn.BCELoss()\n",
        "\n",
        "# DataLoader for RNN\n",
        "train_sample_dl_rnn = torch.utils.data.DataLoader(train_sample_ds, batch_size=config_rnn[\"batch_size\"])\n",
        "test_sample_dl_rnn = torch.utils.data.DataLoader(test_sample_ds, batch_size=config_rnn[\"batch_size\"])\n",
        "val_sample_dl_rnn = torch.utils.data.DataLoader(val_sample_ds, batch_size=config_rnn[\"batch_size\"])\n",
        "\n",
        "# Train the RNN model\n",
        "train(model_rnn, train_sample_dl_rnn, val_sample_dl_rnn, 15, optimizer_rnn, loss_fn_rnn, device)\n",
        "\n",
        "# Evaluate the RNN model on the test set\n",
        "accuracy_rnn, avg_loss_rnn = evaluate(model_rnn, test_sample_dl_rnn, loss_fn_rnn, device)\n",
        "\n",
        "# Log metrics using Wandb\n",
        "print(f\"RNN: Accuracy on test set: {accuracy_rnn:.4f}, Average loss on test set: {avg_loss_rnn:.4f}\")\n",
        "wandb.log({\"accuracy_rnn\": accuracy_rnn, \"avg_loss_rnn\": avg_loss_rnn})\n",
        "\n",
        "# Finish Wandb run for RNN\n",
        "wandb.finish()\n"
      ],
      "metadata": {
        "colab": {
          "base_uri": "https://localhost:8080/",
          "height": 631,
          "referenced_widgets": [
            "65acf93413f7442c932b701763cc0179",
            "145ab2d5f26f4f43834d9d35d87c9647",
            "7a5658e8548c4dcca42f342ceccb0105",
            "2284827804d94561a96c1e87021ebe7c",
            "115c2cd74c2f48b7a8c645eae6daf627",
            "54388d0e62b144458abc381972fdff3b",
            "094f01369b1444f0bef062a4a5583f25",
            "b1ece976179c4ad0801e212589060dbc"
          ]
        },
        "id": "sj3fhAAHvvhw",
        "outputId": "93b9a332-375b-4af7-f8ce-328e948d1249"
      },
      "execution_count": 30,
      "outputs": [
        {
          "output_type": "display_data",
          "data": {
            "text/plain": [
              "<IPython.core.display.HTML object>"
            ],
            "text/html": [
              "Tracking run with wandb version 0.16.4"
            ]
          },
          "metadata": {}
        },
        {
          "output_type": "display_data",
          "data": {
            "text/plain": [
              "<IPython.core.display.HTML object>"
            ],
            "text/html": [
              "Run data is saved locally in <code>/content/wandb/run-20240323_085330-mvmewrm7</code>"
            ]
          },
          "metadata": {}
        },
        {
          "output_type": "display_data",
          "data": {
            "text/plain": [
              "<IPython.core.display.HTML object>"
            ],
            "text/html": [
              "Syncing run <strong><a href='https://wandb.ai/prisha/hyperparameter-tuning_rnn_final/runs/mvmewrm7' target=\"_blank\">RNN_Experiment</a></strong> to <a href='https://wandb.ai/prisha/hyperparameter-tuning_rnn_final' target=\"_blank\">Weights & Biases</a> (<a href='https://wandb.me/run' target=\"_blank\">docs</a>)<br/>"
            ]
          },
          "metadata": {}
        },
        {
          "output_type": "display_data",
          "data": {
            "text/plain": [
              "<IPython.core.display.HTML object>"
            ],
            "text/html": [
              " View project at <a href='https://wandb.ai/prisha/hyperparameter-tuning_rnn_final' target=\"_blank\">https://wandb.ai/prisha/hyperparameter-tuning_rnn_final</a>"
            ]
          },
          "metadata": {}
        },
        {
          "output_type": "display_data",
          "data": {
            "text/plain": [
              "<IPython.core.display.HTML object>"
            ],
            "text/html": [
              " View run at <a href='https://wandb.ai/prisha/hyperparameter-tuning_rnn_final/runs/mvmewrm7' target=\"_blank\">https://wandb.ai/prisha/hyperparameter-tuning_rnn_final/runs/mvmewrm7</a>"
            ]
          },
          "metadata": {}
        },
        {
          "output_type": "stream",
          "name": "stdout",
          "text": [
            "Epoch: 1, Train Loss: 0.6937, Val Loss: 0.6941, Val Accuracy: 0.4984\n",
            "Epoch: 2, Train Loss: 0.6985, Val Loss: 0.6923, Val Accuracy: 0.5174\n",
            "Epoch: 3, Train Loss: 0.6950, Val Loss: 0.6949, Val Accuracy: 0.5026\n",
            "Epoch: 4, Train Loss: 0.6954, Val Loss: 0.6929, Val Accuracy: 0.5106\n",
            "Epoch: 5, Train Loss: 0.6947, Val Loss: 0.6951, Val Accuracy: 0.4954\n",
            "Epoch: 6, Train Loss: 0.6949, Val Loss: 0.6945, Val Accuracy: 0.4920\n",
            "Epoch: 7, Train Loss: 0.6943, Val Loss: 0.6932, Val Accuracy: 0.5042\n",
            "Epoch: 8, Train Loss: 0.6947, Val Loss: 0.6945, Val Accuracy: 0.4956\n",
            "Epoch: 9, Train Loss: 0.6940, Val Loss: 0.6939, Val Accuracy: 0.5070\n",
            "Epoch: 10, Train Loss: 0.6947, Val Loss: 0.6962, Val Accuracy: 0.4944\n",
            "Epoch: 11, Train Loss: 0.6958, Val Loss: 0.6967, Val Accuracy: 0.4948\n",
            "Epoch: 12, Train Loss: 0.6956, Val Loss: 0.6964, Val Accuracy: 0.4948\n",
            "Epoch: 13, Train Loss: 0.6955, Val Loss: 0.6964, Val Accuracy: 0.4948\n",
            "Epoch: 14, Train Loss: 0.6955, Val Loss: 0.6963, Val Accuracy: 0.4950\n",
            "Epoch: 15, Train Loss: 0.6954, Val Loss: 0.6961, Val Accuracy: 0.4952\n",
            "RNN: Accuracy on test set: 0.4871, Average loss on test set: 0.6971\n"
          ]
        },
        {
          "output_type": "display_data",
          "data": {
            "text/plain": [
              "VBox(children=(Label(value='0.001 MB of 0.001 MB uploaded\\r'), FloatProgress(value=1.0, max=1.0)))"
            ],
            "application/vnd.jupyter.widget-view+json": {
              "version_major": 2,
              "version_minor": 0,
              "model_id": "65acf93413f7442c932b701763cc0179"
            }
          },
          "metadata": {}
        },
        {
          "output_type": "display_data",
          "data": {
            "text/plain": [
              "<IPython.core.display.HTML object>"
            ],
            "text/html": [
              "<style>\n",
              "    table.wandb td:nth-child(1) { padding: 0 10px; text-align: left ; width: auto;} td:nth-child(2) {text-align: left ; width: 100%}\n",
              "    .wandb-row { display: flex; flex-direction: row; flex-wrap: wrap; justify-content: flex-start; width: 100% }\n",
              "    .wandb-col { display: flex; flex-direction: column; flex-basis: 100%; flex: 1; padding: 10px; }\n",
              "    </style>\n",
              "<div class=\"wandb-row\"><div class=\"wandb-col\"><h3>Run history:</h3><br/><table class=\"wandb\"><tr><td>accuracy_rnn</td><td>▁</td></tr><tr><td>avg_loss_rnn</td><td>▁</td></tr><tr><td>train_loss</td><td>▁█▃▃▂▃▂▂▁▂▄▄▄▄▃</td></tr><tr><td>val_loss</td><td>▄▁▅▂▅▄▂▄▄▇█▇█▇▇</td></tr></table><br/></div><div class=\"wandb-col\"><h3>Run summary:</h3><br/><table class=\"wandb\"><tr><td>accuracy_rnn</td><td>0.48712</td></tr><tr><td>avg_loss_rnn</td><td>0.69713</td></tr><tr><td>train_loss</td><td>0.69543</td></tr><tr><td>val_loss</td><td>0.69613</td></tr></table><br/></div></div>"
            ]
          },
          "metadata": {}
        },
        {
          "output_type": "display_data",
          "data": {
            "text/plain": [
              "<IPython.core.display.HTML object>"
            ],
            "text/html": [
              " View run <strong style=\"color:#cdcd00\">RNN_Experiment</strong> at: <a href='https://wandb.ai/prisha/hyperparameter-tuning_rnn_final/runs/mvmewrm7' target=\"_blank\">https://wandb.ai/prisha/hyperparameter-tuning_rnn_final/runs/mvmewrm7</a><br/>Synced 5 W&B file(s), 0 media file(s), 0 artifact file(s) and 0 other file(s)"
            ]
          },
          "metadata": {}
        },
        {
          "output_type": "display_data",
          "data": {
            "text/plain": [
              "<IPython.core.display.HTML object>"
            ],
            "text/html": [
              "Find logs at: <code>./wandb/run-20240323_085330-mvmewrm7/logs</code>"
            ]
          },
          "metadata": {}
        }
      ]
    },
    {
      "cell_type": "code",
      "source": [
        "import torch\n",
        "import torch.nn as nn\n",
        "import torch.nn.functional as F\n",
        "wandb.init(project=\"hyperparameter-tuning_rnn_2_FINAL\", name=\"RNN_Experiment_2\")\n",
        "\n",
        "class RNNLastOutput(nn.Module):\n",
        "    \"\"\" RNNLastOutput class for initializing the layers for the RNN model\n",
        "    that only picks the last output of the RNN layer.\n",
        "\n",
        "    Attributes:\n",
        "        embedding_dim (int): Dimensionality of the embedding layer\n",
        "        hidden_dim (int): Dimensionality of the hidden layer(s)\n",
        "        vocab_size (int): Size of the vocabulary used by Bag of Words\n",
        "\n",
        "    \"\"\"\n",
        "\n",
        "    def __init__(self, embedding_dim, hidden_dim, vocab_size):\n",
        "        super(RNNLastOutput, self).__init__()\n",
        "\n",
        "        self.embedding = nn.Embedding(vocab_size, embedding_dim, padding_idx=0)\n",
        "        self.rnn = nn.RNN(embedding_dim, hidden_dim, batch_first=True)\n",
        "        self.dense = nn.Linear(hidden_dim, 1)\n",
        "        self.sig = nn.Sigmoid()\n",
        "\n",
        "    def forward(self, x):\n",
        "        lengths = x[:, 0]  # Extract lengths from the input\n",
        "        reviews = x[:, 1:]  # Extract reviews from the input\n",
        "        embeds = self.embedding(reviews)\n",
        "        rnn_out, _ = self.rnn(embeds)\n",
        "        last_output = rnn_out[:, -1, :]  # Select the last time step's output\n",
        "        output = self.dense(last_output)\n",
        "        return self.sig(output.squeeze())\n",
        "\n",
        "class RNNMeanOutput(nn.Module):\n",
        "    \"\"\" RNNMeanOutput class for initializing the layers for the RNN model\n",
        "    that takes the mean of all outputs in the RNN layer.\n",
        "\n",
        "    Attributes:\n",
        "        embedding_dim (int): Dimensionality of the embedding layer\n",
        "        hidden_dim (int): Dimensionality of the hidden layer(s)\n",
        "        vocab_size (int): Size of the vocabulary used by Bag of Words\n",
        "\n",
        "    \"\"\"\n",
        "\n",
        "    def __init__(self, embedding_dim, hidden_dim, vocab_size):\n",
        "        super(RNNMeanOutput, self).__init__()\n",
        "\n",
        "        self.embedding = nn.Embedding(vocab_size, embedding_dim, padding_idx=0)\n",
        "        self.rnn = nn.RNN(embedding_dim, hidden_dim, batch_first=True)\n",
        "        self.dense = nn.Linear(hidden_dim, 1)\n",
        "        self.sig = nn.Sigmoid()\n",
        "\n",
        "    def forward(self, x):\n",
        "        lengths = x[:, 0]  # Extract lengths from the input\n",
        "        reviews = x[:, 1:]  # Extract reviews from the input\n",
        "        embeds = self.embedding(reviews)\n",
        "        rnn_out, _ = self.rnn(embeds)\n",
        "        mean_output = torch.mean(rnn_out, dim=1)\n",
        "        output = self.dense(mean_output)\n",
        "        return self.sig(output.squeeze())\n",
        "\n",
        "# Initialize the RNN models\n",
        "model_last_output = RNNLastOutput(embedding_dim=32, hidden_dim=100, vocab_size=5000).to(device)\n",
        "model_mean_output = RNNMeanOutput(embedding_dim=32, hidden_dim=100, vocab_size=5000).to(device)\n",
        "\n",
        "# Define optimizer and loss function\n",
        "optimizer = optimizer = torch.optim.Adam(model_last_output.parameters())\n",
        "loss_fn = torch.nn.BCELoss()\n",
        "\n",
        "# Train and evaluate the RNN model with last output\n",
        "train(model_last_output, train_sample_dl, val_sample_dl, 15, optimizer, loss_fn, device)\n",
        "accuracy_last_output, avg_loss_last_output = evaluate(model_last_output, test_sample_dl, loss_fn, device)\n",
        "print(\"RNN with last output: Accuracy =\", accuracy_last_output, \", Avg Loss =\", avg_loss_last_output)\n",
        "optimizer = torch.optim.Adam(model_mean_output.parameters())\n",
        "\n",
        "# Train and evaluate the RNN model with mean output\n",
        "train(model_mean_output, train_sample_dl, val_sample_dl, 15, optimizer, loss_fn, device)\n",
        "accuracy_mean_output, avg_loss_mean_output = evaluate(model_mean_output, test_sample_dl, loss_fn, device)\n",
        "print(\"RNN with mean output: Accuracy =\", accuracy_mean_output, \", Avg Loss =\", avg_loss_mean_output)\n"
      ],
      "metadata": {
        "colab": {
          "base_uri": "https://localhost:8080/",
          "height": 688
        },
        "id": "LHfLJjAtvxik",
        "outputId": "d502b1de-e149-470e-a5a7-32096487b46b"
      },
      "execution_count": 31,
      "outputs": [
        {
          "output_type": "display_data",
          "data": {
            "text/plain": [
              "<IPython.core.display.HTML object>"
            ],
            "text/html": [
              "Tracking run with wandb version 0.16.4"
            ]
          },
          "metadata": {}
        },
        {
          "output_type": "display_data",
          "data": {
            "text/plain": [
              "<IPython.core.display.HTML object>"
            ],
            "text/html": [
              "Run data is saved locally in <code>/content/wandb/run-20240323_085359-l29mern9</code>"
            ]
          },
          "metadata": {}
        },
        {
          "output_type": "display_data",
          "data": {
            "text/plain": [
              "<IPython.core.display.HTML object>"
            ],
            "text/html": [
              "Syncing run <strong><a href='https://wandb.ai/prisha/hyperparameter-tuning_rnn_2_FINAL/runs/l29mern9' target=\"_blank\">RNN_Experiment_2</a></strong> to <a href='https://wandb.ai/prisha/hyperparameter-tuning_rnn_2_FINAL' target=\"_blank\">Weights & Biases</a> (<a href='https://wandb.me/run' target=\"_blank\">docs</a>)<br/>"
            ]
          },
          "metadata": {}
        },
        {
          "output_type": "display_data",
          "data": {
            "text/plain": [
              "<IPython.core.display.HTML object>"
            ],
            "text/html": [
              " View project at <a href='https://wandb.ai/prisha/hyperparameter-tuning_rnn_2_FINAL' target=\"_blank\">https://wandb.ai/prisha/hyperparameter-tuning_rnn_2_FINAL</a>"
            ]
          },
          "metadata": {}
        },
        {
          "output_type": "display_data",
          "data": {
            "text/plain": [
              "<IPython.core.display.HTML object>"
            ],
            "text/html": [
              " View run at <a href='https://wandb.ai/prisha/hyperparameter-tuning_rnn_2_FINAL/runs/l29mern9' target=\"_blank\">https://wandb.ai/prisha/hyperparameter-tuning_rnn_2_FINAL/runs/l29mern9</a>"
            ]
          },
          "metadata": {}
        },
        {
          "output_type": "stream",
          "name": "stdout",
          "text": [
            "Epoch: 1, Train Loss: 0.6936, Val Loss: 0.6930, Val Accuracy: 0.4998\n",
            "Epoch: 2, Train Loss: 0.6928, Val Loss: 0.6927, Val Accuracy: 0.4996\n",
            "Epoch: 3, Train Loss: 0.6923, Val Loss: 0.6925, Val Accuracy: 0.4992\n",
            "Epoch: 4, Train Loss: 0.6917, Val Loss: 0.6922, Val Accuracy: 0.5034\n",
            "Epoch: 5, Train Loss: 0.6911, Val Loss: 0.6925, Val Accuracy: 0.5030\n",
            "Epoch: 6, Train Loss: 0.6938, Val Loss: 0.6919, Val Accuracy: 0.5034\n",
            "Epoch: 7, Train Loss: 0.6919, Val Loss: 0.6921, Val Accuracy: 0.5038\n",
            "Epoch: 8, Train Loss: 0.6916, Val Loss: 0.6920, Val Accuracy: 0.5038\n",
            "Epoch: 9, Train Loss: 0.6913, Val Loss: 0.6920, Val Accuracy: 0.5042\n",
            "Epoch: 10, Train Loss: 0.6910, Val Loss: 0.6919, Val Accuracy: 0.5036\n",
            "Epoch: 11, Train Loss: 0.6907, Val Loss: 0.6919, Val Accuracy: 0.5030\n",
            "Epoch: 12, Train Loss: 0.6904, Val Loss: 0.6920, Val Accuracy: 0.5008\n",
            "Epoch: 13, Train Loss: 0.6901, Val Loss: 0.6920, Val Accuracy: 0.5008\n",
            "Epoch: 14, Train Loss: 0.6900, Val Loss: 0.6920, Val Accuracy: 0.5044\n",
            "Epoch: 15, Train Loss: 0.6897, Val Loss: 0.6923, Val Accuracy: 0.5000\n",
            "RNN with last output: Accuracy = 0.49688 , Avg Loss = 0.6947384209048991\n",
            "Epoch: 1, Train Loss: 0.6900, Val Loss: 0.6793, Val Accuracy: 0.5924\n",
            "Epoch: 2, Train Loss: 0.6792, Val Loss: 0.6708, Val Accuracy: 0.6320\n",
            "Epoch: 3, Train Loss: 0.6606, Val Loss: 0.6491, Val Accuracy: 0.7006\n",
            "Epoch: 4, Train Loss: 0.6243, Val Loss: 0.6094, Val Accuracy: 0.7130\n",
            "Epoch: 5, Train Loss: 0.5917, Val Loss: 0.5505, Val Accuracy: 0.7732\n",
            "Epoch: 6, Train Loss: 0.5364, Val Loss: 0.5390, Val Accuracy: 0.7808\n",
            "Epoch: 7, Train Loss: 0.5028, Val Loss: 0.4800, Val Accuracy: 0.8122\n",
            "Epoch: 8, Train Loss: 0.4383, Val Loss: 0.4414, Val Accuracy: 0.8260\n",
            "Epoch: 9, Train Loss: 0.7573, Val Loss: 0.4864, Val Accuracy: 0.8284\n",
            "Epoch: 10, Train Loss: 0.4680, Val Loss: 0.4690, Val Accuracy: 0.8302\n",
            "Epoch: 11, Train Loss: 0.4319, Val Loss: 0.4382, Val Accuracy: 0.8346\n",
            "Epoch: 12, Train Loss: 0.3987, Val Loss: 0.4134, Val Accuracy: 0.8414\n",
            "Epoch: 13, Train Loss: 0.3679, Val Loss: 0.3949, Val Accuracy: 0.8426\n",
            "Epoch: 14, Train Loss: 0.3453, Val Loss: 0.3834, Val Accuracy: 0.8446\n",
            "Epoch: 15, Train Loss: 0.3248, Val Loss: 0.3787, Val Accuracy: 0.8398\n",
            "RNN with mean output: Accuracy = 0.83468 , Avg Loss = 0.39748482132444574\n"
          ]
        }
      ]
    }
  ]
}