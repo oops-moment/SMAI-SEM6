{
  "cells": [
    {
      "cell_type": "code",
      "execution_count": 5,
      "metadata": {
        "colab": {
          "base_uri": "https://localhost:8080/"
        },
        "id": "14cyWQYKbpU8",
        "outputId": "8275ad04-1f71-480c-cc96-2452ccbcc8b3"
      },
      "outputs": [
        {
          "output_type": "stream",
          "name": "stdout",
          "text": [
            "Requirement already satisfied: wandb in /usr/local/lib/python3.10/dist-packages (0.16.5)\n",
            "Requirement already satisfied: Click!=8.0.0,>=7.1 in /usr/local/lib/python3.10/dist-packages (from wandb) (8.1.7)\n",
            "Requirement already satisfied: GitPython!=3.1.29,>=1.0.0 in /usr/local/lib/python3.10/dist-packages (from wandb) (3.1.42)\n",
            "Requirement already satisfied: requests<3,>=2.0.0 in /usr/local/lib/python3.10/dist-packages (from wandb) (2.31.0)\n",
            "Requirement already satisfied: psutil>=5.0.0 in /usr/local/lib/python3.10/dist-packages (from wandb) (5.9.5)\n",
            "Requirement already satisfied: sentry-sdk>=1.0.0 in /usr/local/lib/python3.10/dist-packages (from wandb) (1.43.0)\n",
            "Requirement already satisfied: docker-pycreds>=0.4.0 in /usr/local/lib/python3.10/dist-packages (from wandb) (0.4.0)\n",
            "Requirement already satisfied: PyYAML in /usr/local/lib/python3.10/dist-packages (from wandb) (6.0.1)\n",
            "Requirement already satisfied: setproctitle in /usr/local/lib/python3.10/dist-packages (from wandb) (1.3.3)\n",
            "Requirement already satisfied: setuptools in /usr/local/lib/python3.10/dist-packages (from wandb) (67.7.2)\n",
            "Requirement already satisfied: appdirs>=1.4.3 in /usr/local/lib/python3.10/dist-packages (from wandb) (1.4.4)\n",
            "Requirement already satisfied: protobuf!=4.21.0,<5,>=3.19.0 in /usr/local/lib/python3.10/dist-packages (from wandb) (3.20.3)\n",
            "Requirement already satisfied: six>=1.4.0 in /usr/local/lib/python3.10/dist-packages (from docker-pycreds>=0.4.0->wandb) (1.16.0)\n",
            "Requirement already satisfied: gitdb<5,>=4.0.1 in /usr/local/lib/python3.10/dist-packages (from GitPython!=3.1.29,>=1.0.0->wandb) (4.0.11)\n",
            "Requirement already satisfied: charset-normalizer<4,>=2 in /usr/local/lib/python3.10/dist-packages (from requests<3,>=2.0.0->wandb) (3.3.2)\n",
            "Requirement already satisfied: idna<4,>=2.5 in /usr/local/lib/python3.10/dist-packages (from requests<3,>=2.0.0->wandb) (3.6)\n",
            "Requirement already satisfied: urllib3<3,>=1.21.1 in /usr/local/lib/python3.10/dist-packages (from requests<3,>=2.0.0->wandb) (2.0.7)\n",
            "Requirement already satisfied: certifi>=2017.4.17 in /usr/local/lib/python3.10/dist-packages (from requests<3,>=2.0.0->wandb) (2024.2.2)\n",
            "Requirement already satisfied: smmap<6,>=3.0.1 in /usr/local/lib/python3.10/dist-packages (from gitdb<5,>=4.0.1->GitPython!=3.1.29,>=1.0.0->wandb) (5.0.1)\n"
          ]
        }
      ],
      "source": [
        "!pip install wandb\n"
      ]
    },
    {
      "cell_type": "code",
      "execution_count": 6,
      "metadata": {
        "colab": {
          "base_uri": "https://localhost:8080/"
        },
        "id": "ltEQ-sUobK7N",
        "outputId": "17a6717a-8d18-44ad-9c84-f3bfe675ef7f"
      },
      "outputs": [
        {
          "output_type": "stream",
          "name": "stdout",
          "text": [
            "mkdir: cannot create directory ‘../data’: File exists\n",
            "--2024-03-28 09:19:53--  http://ai.stanford.edu/~amaas/data/sentiment/aclImdb_v1.tar.gz\n",
            "Resolving ai.stanford.edu (ai.stanford.edu)... 171.64.68.10\n",
            "Connecting to ai.stanford.edu (ai.stanford.edu)|171.64.68.10|:80... connected.\n",
            "HTTP request sent, awaiting response... 200 OK\n",
            "Length: 84125825 (80M) [application/x-gzip]\n",
            "Saving to: ‘../data/aclImdb_v1.tar.gz’\n",
            "\n",
            "../data/aclImdb_v1. 100%[===================>]  80.23M  7.25MB/s    in 16s     \n",
            "\n",
            "2024-03-28 09:20:10 (4.86 MB/s) - ‘../data/aclImdb_v1.tar.gz’ saved [84125825/84125825]\n",
            "\n"
          ]
        }
      ],
      "source": [
        "%mkdir ../data\n",
        "!wget -O ../data/aclImdb_v1.tar.gz http://ai.stanford.edu/~amaas/data/sentiment/aclImdb_v1.tar.gz\n",
        "!tar -zxf ../data/aclImdb_v1.tar.gz -C ../data"
      ]
    },
    {
      "cell_type": "code",
      "execution_count": 7,
      "metadata": {
        "id": "Vi3llbw0b9uo"
      },
      "outputs": [],
      "source": [
        "import os\n",
        "import glob\n",
        "\n",
        "def read_imdb_data(data_dir='../data/aclImdb'):\n",
        "    data = {}\n",
        "    labels = {}\n",
        "\n",
        "    for data_type in ['train', 'test']:\n",
        "        data[data_type] = {}\n",
        "        labels[data_type] = {}\n",
        "\n",
        "        for sentiment in ['pos', 'neg']:\n",
        "            data[data_type][sentiment] = []\n",
        "            labels[data_type][sentiment] = []\n",
        "\n",
        "            path = os.path.join(data_dir, data_type, sentiment, '*.txt')\n",
        "            files = glob.glob(path)\n",
        "\n",
        "            for f in files:\n",
        "                with open(f) as review:\n",
        "                    data[data_type][sentiment].append(review.read())\n",
        "                    # Here we represent a positive review by '1' and a negative review by '0'\n",
        "                    labels[data_type][sentiment].append(1 if sentiment == 'pos' else 0)\n",
        "\n",
        "            assert len(data[data_type][sentiment]) == len(labels[data_type][sentiment]), \\\n",
        "                    \"{}/{} data size does not match labels size\".format(data_type, sentiment)\n",
        "\n",
        "    return data, labels"
      ]
    },
    {
      "cell_type": "code",
      "execution_count": 8,
      "metadata": {
        "colab": {
          "base_uri": "https://localhost:8080/"
        },
        "id": "5MdvyAZ1cZXb",
        "outputId": "a269a24c-e1e7-4e00-d86e-d9b95d29d6f0"
      },
      "outputs": [
        {
          "output_type": "stream",
          "name": "stdout",
          "text": [
            "IMDB reviews: train = 12500 pos / 12500 neg, test = 12500 pos / 12500 neg\n"
          ]
        }
      ],
      "source": [
        "data, labels = read_imdb_data()\n",
        "print(\"IMDB reviews: train = {} pos / {} neg, test = {} pos / {} neg\".format(\n",
        "            len(data['train']['pos']), len(data['train']['neg']),\n",
        "            len(data['test']['pos']), len(data['test']['neg'])))\n"
      ]
    },
    {
      "cell_type": "code",
      "execution_count": 9,
      "metadata": {
        "id": "WP91n_jbcblo"
      },
      "outputs": [],
      "source": [
        "from sklearn.utils import shuffle\n",
        "\n",
        "def prepare_imdb_data(data, labels):\n",
        "    #Combine positive and negative reviews and labels\n",
        "    data_train = data['train']['pos'] + data['train']['neg']\n",
        "    data_test = data['test']['pos'] + data['test']['neg']\n",
        "    labels_train = labels['train']['pos'] + labels['train']['neg']\n",
        "    labels_test = labels['test']['pos'] + labels['test']['neg']\n",
        "\n",
        "    #Shuffle reviews and corresponding labels within training and test sets\n",
        "    data_train, labels_train = shuffle(data_train, labels_train)\n",
        "    data_test, labels_test = shuffle(data_test, labels_test)\n",
        "\n",
        "    # Return a unified training data, test data, training labels, test labels\n",
        "    return data_train, data_test, labels_train, labels_test"
      ]
    },
    {
      "cell_type": "code",
      "execution_count": 10,
      "metadata": {
        "colab": {
          "base_uri": "https://localhost:8080/"
        },
        "id": "5B-3MZJsdBXV",
        "outputId": "0beb2a24-e082-4c8d-8f69-aa0746bbee0d"
      },
      "outputs": [
        {
          "output_type": "stream",
          "name": "stdout",
          "text": [
            "25000\n",
            "25000\n"
          ]
        }
      ],
      "source": [
        "train_X, test_X, train_y, test_y = prepare_imdb_data(data, labels)\n",
        "print(len(train_X))\n",
        "print(len(train_y))"
      ]
    },
    {
      "cell_type": "markdown",
      "metadata": {
        "id": "XdEj0NmNd0xM"
      },
      "source": [
        "The first step in processing the reviews is to make sure that any html tags that appear should be removed. In addition we wish to tokenize our input, that way words such as entertained and entertaining are considered the same with regard to sentiment analysis."
      ]
    },
    {
      "cell_type": "code",
      "execution_count": 11,
      "metadata": {
        "id": "ZVpEp1E-KTaS"
      },
      "outputs": [],
      "source": [
        "# Import the necessary cleaning Libraries\n",
        "import nltk\n",
        "from nltk.corpus import stopwords\n",
        "from nltk.stem.porter import *\n",
        "import re\n",
        "from bs4 import BeautifulSoup\n"
      ]
    },
    {
      "cell_type": "code",
      "execution_count": 12,
      "metadata": {
        "id": "ZGE14NCJdE9c"
      },
      "outputs": [],
      "source": [
        "\n",
        "def review_to_words(review):\n",
        "    nltk.download(\"stopwords\", quiet=True)\n",
        "    stemmer = PorterStemmer()\n",
        "    text = BeautifulSoup(review, \"html.parser\").get_text() # Remove HTML tags\n",
        "    text = re.sub(r\"[^a-zA-Z0-9]\", \" \", text.lower()) # Convert to lower case\n",
        "    words = text.split() # Split string into words\n",
        "    words = [w for w in words if w not in stopwords.words(\"english\")] # Remove stopwords\n",
        "    words = [PorterStemmer().stem(w) for w in words] # stem\n",
        "\n",
        "    return words"
      ]
    },
    {
      "cell_type": "code",
      "execution_count": 13,
      "metadata": {
        "colab": {
          "base_uri": "https://localhost:8080/"
        },
        "id": "qkh7ihayerPG",
        "outputId": "f464bc28-07f1-4cff-deab-fb39546a31bd"
      },
      "outputs": [
        {
          "output_type": "stream",
          "name": "stdout",
          "text": [
            "I remember Devil Dog playing on TBS almost 20 years ago, and my older sister and her friends watching it and laughing all the next day. It's not that bad for a made-for-TV horror movie, but it is derivative (mostly of The Exorcist) and businesslike, for lack of a better word. It won't blow you away with artful cinematography or great acting, but it's not a waste of time, either. It's the kind of movie you watch to kill a couple of hours when you aren't in the mood to think too hard.<br /><br />However, if you go into the movie looking for some laughs, you won't be disappointed. The early scenes, with Lucky the Devil Dog as a cute little puppy with Children of the Damned eyes are hilariously non-threatening, and the climactic blue-screen effects of a giant black dog (with horns!) are pretty side-splitting. And keep an eye out for the cloaked Satanist in Maverick shades toward the beginning.<br /><br />Not a great horror film by any stretch of the imagination, but I wish they still made stuff like this for TV.\n"
          ]
        },
        {
          "output_type": "execute_result",
          "data": {
            "text/plain": [
              "['rememb',\n",
              " 'devil',\n",
              " 'dog',\n",
              " 'play',\n",
              " 'tb',\n",
              " 'almost',\n",
              " '20',\n",
              " 'year',\n",
              " 'ago',\n",
              " 'older',\n",
              " 'sister',\n",
              " 'friend',\n",
              " 'watch',\n",
              " 'laugh',\n",
              " 'next',\n",
              " 'day',\n",
              " 'bad',\n",
              " 'made',\n",
              " 'tv',\n",
              " 'horror',\n",
              " 'movi',\n",
              " 'deriv',\n",
              " 'mostli',\n",
              " 'exorcist',\n",
              " 'businesslik',\n",
              " 'lack',\n",
              " 'better',\n",
              " 'word',\n",
              " 'blow',\n",
              " 'away',\n",
              " 'art',\n",
              " 'cinematographi',\n",
              " 'great',\n",
              " 'act',\n",
              " 'wast',\n",
              " 'time',\n",
              " 'either',\n",
              " 'kind',\n",
              " 'movi',\n",
              " 'watch',\n",
              " 'kill',\n",
              " 'coupl',\n",
              " 'hour',\n",
              " 'mood',\n",
              " 'think',\n",
              " 'hard',\n",
              " 'howev',\n",
              " 'go',\n",
              " 'movi',\n",
              " 'look',\n",
              " 'laugh',\n",
              " 'disappoint',\n",
              " 'earli',\n",
              " 'scene',\n",
              " 'lucki',\n",
              " 'devil',\n",
              " 'dog',\n",
              " 'cute',\n",
              " 'littl',\n",
              " 'puppi',\n",
              " 'children',\n",
              " 'damn',\n",
              " 'eye',\n",
              " 'hilari',\n",
              " 'non',\n",
              " 'threaten',\n",
              " 'climact',\n",
              " 'blue',\n",
              " 'screen',\n",
              " 'effect',\n",
              " 'giant',\n",
              " 'black',\n",
              " 'dog',\n",
              " 'horn',\n",
              " 'pretti',\n",
              " 'side',\n",
              " 'split',\n",
              " 'keep',\n",
              " 'eye',\n",
              " 'cloak',\n",
              " 'satanist',\n",
              " 'maverick',\n",
              " 'shade',\n",
              " 'toward',\n",
              " 'begin',\n",
              " 'great',\n",
              " 'horror',\n",
              " 'film',\n",
              " 'stretch',\n",
              " 'imagin',\n",
              " 'wish',\n",
              " 'still',\n",
              " 'made',\n",
              " 'stuff',\n",
              " 'like',\n",
              " 'tv']"
            ]
          },
          "metadata": {},
          "execution_count": 13
        }
      ],
      "source": [
        "print(train_X[100])\n",
        "review_to_words(train_X[100])\n"
      ]
    },
    {
      "cell_type": "code",
      "source": [],
      "metadata": {
        "id": "qVi0MdTOW7Yh"
      },
      "execution_count": null,
      "outputs": []
    },
    {
      "cell_type": "code",
      "execution_count": 14,
      "metadata": {
        "id": "IiV-59e1vPnE"
      },
      "outputs": [],
      "source": [
        "def filter_reviews_by_word_count(reviews, labels, min_words, max_words):\n",
        "    filtered_reviews = []\n",
        "    filtered_labels = []\n",
        "    for review, label in zip(reviews, labels):\n",
        "        num_words = len(review)\n",
        "        if min_words <= num_words <= max_words:\n",
        "            filtered_reviews.append(review)\n",
        "            filtered_labels.append(label)\n",
        "    return filtered_reviews, filtered_labels"
      ]
    },
    {
      "cell_type": "code",
      "execution_count": 15,
      "metadata": {
        "id": "luRLaCMgeyyP"
      },
      "outputs": [],
      "source": [
        "import os\n",
        "import pickle\n",
        "\n",
        "cache_dir = \"../data\"  # where to store cache files\n",
        "os.makedirs(cache_dir, exist_ok=True)  # ensure cache directory exists\n",
        "\n",
        "def preprocess_data(data_train, data_test, labels_train, labels_test,\n",
        "                    cache_dir=cache_dir, cache_file=\"preprocessed_data.pkl\"):\n",
        "    \"\"\"Convert each review to words; read from cache if available.\"\"\"\n",
        "\n",
        "    # If cache_file is not None, try to read from it first\n",
        "    cache_data = None\n",
        "    if cache_file is not None:\n",
        "        try:\n",
        "            with open(os.path.join(cache_dir, cache_file), \"rb\") as f:\n",
        "                cache_data = pickle.load(f)\n",
        "            print(\"Read preprocessed data from cache file:\", cache_file)\n",
        "        except:\n",
        "            pass  # unable to read from cache, but that's okay\n",
        "\n",
        "    # If cache is missing, then do the heavy lifting\n",
        "    if cache_data is None:\n",
        "        # Preprocess training and test data to obtain words for each review\n",
        "        #words_train = list(map(review_to_words, data_train))\n",
        "        #words_test = list(map(review_to_words, data_test))\n",
        "        words_train = [review_to_words(review) for review in data_train]\n",
        "        words_test = [review_to_words(review) for review in data_test]\n",
        "\n",
        "        words_train, labels_train = filter_reviews_by_word_count(words_train, labels_train, min_words=100, max_words=500)\n",
        "        words_test, labels_test = filter_reviews_by_word_count(words_test, labels_test, min_words=100, max_words=500)\n",
        "\n",
        "        # Write to cache file for future runs\n",
        "        if cache_file is not None:\n",
        "            cache_data = dict(words_train=words_train, words_test=words_test,\n",
        "                              labels_train=labels_train, labels_test=labels_test)\n",
        "            with open(os.path.join(cache_dir, cache_file), \"wb\") as f:\n",
        "                pickle.dump(cache_data, f)\n",
        "            print(\"Wrote preprocessed data to cache file:\", cache_file)\n",
        "    else:\n",
        "        # Unpack data loaded from cache file\n",
        "        words_train, words_test, labels_train, labels_test = (cache_data['words_train'],\n",
        "                cache_data['words_test'], cache_data['labels_train'], cache_data['labels_test'])\n",
        "\n",
        "    return words_train, words_test, labels_train, labels_test\n"
      ]
    },
    {
      "cell_type": "code",
      "execution_count": 16,
      "metadata": {
        "colab": {
          "base_uri": "https://localhost:8080/"
        },
        "id": "3MaPkbAxwXJR",
        "outputId": "a1a67006-3cc2-4683-af0b-cd653a8be31d"
      },
      "outputs": [
        {
          "output_type": "stream",
          "name": "stdout",
          "text": [
            "Read preprocessed data from cache file: preprocessed_data.pkl\n"
          ]
        }
      ],
      "source": [
        "train_X, test_X, train_y, test_y = preprocess_data(train_X, test_X, train_y, test_y)\n"
      ]
    },
    {
      "cell_type": "code",
      "execution_count": 17,
      "metadata": {
        "id": "Nm-EqWn4fLc0"
      },
      "outputs": [],
      "source": [
        "# Determine the size of the validation set (20% of the training data)\n",
        "val_size = int(0.2 * len(train_X))\n",
        "\n",
        "# Split the data into training and validation sets\n",
        "val_X = train_X[:val_size]\n",
        "val_y = train_y[:val_size]\n",
        "\n",
        "# Update the training data to exclude the validation set\n",
        "train_X = train_X[val_size:]\n",
        "train_y = train_y[val_size:]\n"
      ]
    },
    {
      "cell_type": "code",
      "execution_count": 18,
      "metadata": {
        "colab": {
          "base_uri": "https://localhost:8080/"
        },
        "id": "QySzRBWATrRB",
        "outputId": "d7829485-3364-466a-fce6-e0b0bab42250"
      },
      "outputs": [
        {
          "output_type": "stream",
          "name": "stdout",
          "text": [
            "8596\n"
          ]
        }
      ],
      "source": [
        "print(len(train_X))"
      ]
    },
    {
      "cell_type": "markdown",
      "metadata": {
        "id": "__DN0F4syJkU"
      },
      "source": [
        "Since we will be using a recurrent neural network, it will be convenient if the length of each review is the same. To do this, we will fix a size for our reviews and then pad short reviews with the category 'no word' (which we will label 0) and truncate long reviews. Basically in the dictionary the one with the most higher rank is the one that occurs most frequently. You dont care for the first two these are no words"
      ]
    },
    {
      "cell_type": "markdown",
      "metadata": {
        "id": "7bgt70phy7sn"
      },
      "source": []
    },
    {
      "cell_type": "code",
      "execution_count": 19,
      "metadata": {
        "id": "MPbg30bJwa_U"
      },
      "outputs": [],
      "source": [
        "import numpy as np\n",
        "\n",
        "def build_dict(data, vocab_size = 5000):\n",
        "    \"\"\"Construct and return a dictionary mapping each of the most frequently appearing words to a unique integer.\"\"\"\n",
        "    word_count = {}\n",
        "\n",
        "    for sentence in data:\n",
        "        for word in sentence:\n",
        "            if word in word_count:\n",
        "                word_count[word] += 1\n",
        "            else:\n",
        "                word_count[word] = 1\n",
        "\n",
        "    # DONE: Sort the words found in `data` so that sorted_words[0] is the most frequently appearing word and\n",
        "    #       sorted_words[-1] is the least frequently appearing word.\n",
        "\n",
        "    sorted_words = sorted(word_count, key=word_count.get, reverse=True)\n",
        "    print(\"this is the first word having most frequency\",sorted_words[0])\n",
        "    print(\"this is the word having least frequency\",sorted_words[-1])\n",
        "\n",
        "    word_dict = {} # This is what we are building, a dictionary that translates words into integers\n",
        "    for idx, word in enumerate(sorted_words[:vocab_size - 2]): # The -2 is so that we save room for the 'no word'\n",
        "        word_dict[word] = idx + 2                              # 'infrequent' labels\n",
        "\n",
        "    return word_dict"
      ]
    },
    {
      "cell_type": "code",
      "execution_count": 20,
      "metadata": {
        "colab": {
          "base_uri": "https://localhost:8080/"
        },
        "id": "q4vliUPYy6g5",
        "outputId": "57a3ab5f-8350-4bf5-b00b-9ababb9a78c5"
      },
      "outputs": [
        {
          "output_type": "stream",
          "name": "stdout",
          "text": [
            "this is the first word having most frequency film\n",
            "this is the word having least frequency tablecloth\n",
            "Built and saved word dictionary to: ../data/word_dict.pkl\n",
            "['film', 'movi', 'one', 'like', 'make']\n"
          ]
        }
      ],
      "source": [
        "import os\n",
        "import pickle\n",
        "\n",
        "data_dir = '../data'  # The folder we will use for storing data\n",
        "word_dict_file = os.path.join(data_dir, 'word_dict.pkl')\n",
        "\n",
        "if os.path.exists(word_dict_file):\n",
        "    # If the word dictionary file exists, load it\n",
        "    with open(word_dict_file, \"rb\") as f:\n",
        "        word_dict = pickle.load(f)\n",
        "    print(\"Loaded word dictionary from:\", word_dict_file)\n",
        "else:\n",
        "    # If the word dictionary file doesn't exist, build it\n",
        "    word_dict = build_dict(train_X)\n",
        "    with open(word_dict_file, \"wb\") as f:\n",
        "        pickle.dump(word_dict, f)\n",
        "    print(\"Built and saved word dictionary to:\", word_dict_file)\n",
        "\n",
        "print(list(word_dict.keys())[0:5])\n"
      ]
    },
    {
      "cell_type": "markdown",
      "metadata": {
        "id": "5FbCg7lP0kM5"
      },
      "source": [
        "Now that we have our word dictionary which allows us to transform the words appearing in the reviews into integers, it is time to make use of it and convert our reviews to their integer sequence representation, making sure to pad or truncate to a fixed length, which in our case is 500."
      ]
    },
    {
      "cell_type": "code",
      "execution_count": 21,
      "metadata": {
        "id": "FRMKuC5R1SGU"
      },
      "outputs": [],
      "source": [
        "def convert_and_pad(word_dict, sentence, pad=500):\n",
        "    NOWORD = 0 # We will use 0 to represent the 'no word' category\n",
        "    INFREQ = 1 # and we use 1 to represent the infrequent words, i.e., words not appearing in word_dict\n",
        "\n",
        "    working_sentence = [NOWORD] * pad\n",
        "\n",
        "    for word_index, word in enumerate(sentence[:pad]):\n",
        "        if word in word_dict:\n",
        "            working_sentence[word_index] = word_dict[word]\n",
        "        else:\n",
        "            working_sentence[word_index] = INFREQ\n",
        "\n",
        "    return working_sentence, min(len(sentence), pad)"
      ]
    },
    {
      "cell_type": "code",
      "execution_count": 22,
      "metadata": {
        "id": "6Ze7Qf851PzD"
      },
      "outputs": [],
      "source": [
        "def convert_and_pad_data(word_dict, data, pad=500):\n",
        "    result = []\n",
        "    lengths = []\n",
        "\n",
        "    for sentence in data:\n",
        "        converted, leng = convert_and_pad(word_dict, sentence, pad)\n",
        "        result.append(converted)\n",
        "        lengths.append(leng)\n",
        "\n",
        "    return np.array(result), np.array(lengths)"
      ]
    },
    {
      "cell_type": "code",
      "execution_count": 23,
      "metadata": {
        "id": "-76tjVYQ0rgd"
      },
      "outputs": [],
      "source": [
        "train_X, train_X_len = convert_and_pad_data(word_dict, train_X)\n",
        "test_X, test_X_len = convert_and_pad_data(word_dict, test_X)\n",
        "val_X,val_X_len=convert_and_pad_data(word_dict,val_X)\n"
      ]
    },
    {
      "cell_type": "code",
      "execution_count": 24,
      "metadata": {
        "colab": {
          "base_uri": "https://localhost:8080/"
        },
        "id": "ymhimb1v1bK9",
        "outputId": "5d6bfa2e-d775-4c63-e9c8-cdc9ac5917f0"
      },
      "outputs": [
        {
          "output_type": "stream",
          "name": "stdout",
          "text": [
            "Created train.csv file: ../data/train.csv\n"
          ]
        }
      ],
      "source": [
        "import os\n",
        "import pandas as pd\n",
        "\n",
        "data_dir = '../data'  # The folder we will use for storing data\n",
        "train_csv_file = os.path.join(data_dir, 'train.csv')\n",
        "\n",
        "if not os.path.exists(train_csv_file):\n",
        "    # If the train.csv file doesn't exist, create it\n",
        "    pd.concat([pd.DataFrame(train_y), pd.DataFrame(train_X_len), pd.DataFrame(train_X)], axis=1) \\\n",
        "        .to_csv(train_csv_file, header=False, index=False)\n",
        "    print(\"Created train.csv file:\", train_csv_file)\n",
        "else:\n",
        "    print(\"train.csv file already exists, skipping creation.\")"
      ]
    },
    {
      "cell_type": "code",
      "execution_count": 25,
      "metadata": {
        "colab": {
          "base_uri": "https://localhost:8080/"
        },
        "id": "FeOjSyVDfl4g",
        "outputId": "255063f6-48ab-49ce-98b0-076032538bd8"
      },
      "outputs": [
        {
          "output_type": "stream",
          "name": "stdout",
          "text": [
            "Created val.csv file: ../data/val.csv\n"
          ]
        }
      ],
      "source": [
        "data_dir = '../data'  # The folder we will use for storing data\n",
        "val_csv_file = os.path.join(data_dir, 'val.csv')\n",
        "\n",
        "if not os.path.exists(val_csv_file):\n",
        "    # If the train.csv file doesn't exist, create it\n",
        "    pd.concat([pd.DataFrame(val_y), pd.DataFrame(val_X_len), pd.DataFrame(val_X)], axis=1) \\\n",
        "        .to_csv(val_csv_file, header=False, index=False)\n",
        "    print(\"Created val.csv file:\", val_csv_file)\n",
        "else:\n",
        "    print(\"val.csv file already exists, skipping creation.\")"
      ]
    },
    {
      "cell_type": "code",
      "execution_count": 26,
      "metadata": {
        "id": "m5ULe-mIjU4R"
      },
      "outputs": [],
      "source": [
        "pd.concat([pd.DataFrame(test_y), pd.DataFrame(test_X_len), pd.DataFrame(test_X)], axis=1) \\\n",
        "        .to_csv(os.path.join(data_dir, 'test.csv'), header=False, index=False)"
      ]
    },
    {
      "cell_type": "code",
      "execution_count": 27,
      "metadata": {
        "colab": {
          "base_uri": "https://localhost:8080/"
        },
        "id": "tXnpy_sr2BMI",
        "outputId": "067ecfea-343c-4e86-9899-2b60d9ab836a"
      },
      "outputs": [
        {
          "output_type": "stream",
          "name": "stdout",
          "text": [
            "[  23   17 2058 3920  827    1  461  195  518  126    5 1553 1829  259\n",
            "   12  146  466 2439  135  354   22   42  100   41 1554   67   83  877\n",
            "  920 3129  677  160  343  139  920 1809  620 1180  106 1582 3522 1106\n",
            "  350  312 1282  166  840  148  416  266  677 2013 1694   20  311    7\n",
            "  273  195  220 1349  484 1029  137 1269   63  894 4994  458  575   89\n",
            " 2058 3920  846  780  285   49   63   33  304  330 1461  135    9 3964\n",
            " 4414 2180  587 1109  477    2   47   20  957  344  706   44   71 2308\n",
            "  137 2815    1   28  162  160  832  466  485   68  596   20  113  729\n",
            "  501    8    2 1127  143  126  776   85  458 1355 3920   41  174  142\n",
            "   20  113 1293  503  964  235   65  401 4994  816 3130  982 1033  891\n",
            "  620  982  113    1    2  549 1129    1 1810  137  287 3131 3132  461\n",
            "  146 1025 1002   31  677 2323 2560 3522  218  227    1  989  135  419\n",
            "  232  305 1428    1   19    1   89 1269   43 1783    1 2888  163  771\n",
            "  800  472  216 1796  588   77  135 2423   31 1642    1  350    1  315\n",
            " 2163    1 2213   51   49   33   79 1706   21   15    2  215  294  104\n",
            "  907 1656  167 2439  222   79 1387  392  354    1 4895  202  295 3061\n",
            " 1011 2689    2  147  380  267 1388  106   47  218   22 4994  436   43\n",
            "  242  160  227 4415  877  251    1   24   69  113  383  583  259  920\n",
            " 1462 1538 1105    1  392    1 2013 1694  289    9  508 4994    0    0\n",
            "    0    0    0    0    0    0    0    0    0    0    0    0    0    0\n",
            "    0    0    0    0    0    0    0    0    0    0    0    0    0    0\n",
            "    0    0    0    0    0    0    0    0    0    0    0    0    0    0\n",
            "    0    0    0    0    0    0    0    0    0    0    0    0    0    0\n",
            "    0    0    0    0    0    0    0    0    0    0    0    0    0    0\n",
            "    0    0    0    0    0    0    0    0    0    0    0    0    0    0\n",
            "    0    0    0    0    0    0    0    0    0    0    0    0    0    0\n",
            "    0    0    0    0    0    0    0    0    0    0    0    0    0    0\n",
            "    0    0    0    0    0    0    0    0    0    0    0    0    0    0\n",
            "    0    0    0    0    0    0    0    0    0    0    0    0    0    0\n",
            "    0    0    0    0    0    0    0    0    0    0    0    0    0    0\n",
            "    0    0    0    0    0    0    0    0    0    0    0    0    0    0\n",
            "    0    0    0    0    0    0    0    0    0    0    0    0    0    0\n",
            "    0    0    0    0    0    0    0    0    0    0    0    0    0    0\n",
            "    0    0    0    0    0    0    0    0    0    0    0    0    0    0\n",
            "    0    0    0    0    0    0    0    0    0    0    0    0    0    0\n",
            "    0    0    0    0    0    0    0    0    0    0]\n",
            "264\n"
          ]
        }
      ],
      "source": [
        "print(train_X[0])\n",
        "print(train_X_len[0])"
      ]
    },
    {
      "cell_type": "code",
      "execution_count": 28,
      "metadata": {
        "id": "EiSC4oT3SfZh"
      },
      "outputs": [],
      "source": [
        "import torch.nn as nn\n",
        "\n",
        "class RNNClassifier(nn.Module):\n",
        "    \"\"\" RNNClassifier class for initializing the layers for the simple\n",
        "    recurrent neural network model (RNN) used for Sentiment Analysis of\n",
        "    IMDB reviews.\n",
        "\n",
        "    Attributes:\n",
        "        embedding_dim (int): Dimensionality of the embedding layer\n",
        "        hidden_dim (int): Dimensionality of the hidden layer(s)\n",
        "        vocab_size (int): Size of the vocabulary used by Bag of Words\n",
        "\n",
        "    \"\"\"\n",
        "\n",
        "    def __init__(self, embedding_dim, hidden_dim, vocab_size):\n",
        "        super(RNNClassifier, self).__init__()\n",
        "\n",
        "        self.embedding = nn.Embedding(vocab_size, embedding_dim, padding_idx=0)\n",
        "        self.rnn = nn.RNN(embedding_dim, hidden_dim, batch_first=True)\n",
        "        self.dense = nn.Linear(hidden_dim, 1)\n",
        "        self.sig = nn.Sigmoid()\n",
        "\n",
        "    def forward(self, x):\n",
        "        lengths = x[:, 0]  # Extract lengths from the input\n",
        "        reviews = x[:, 1:]  # Extract reviews from the input\n",
        "        embeds = self.embedding(reviews)\n",
        "        rnn_out, _ = self.rnn(embeds)\n",
        "        output = self.dense(torch.mean(rnn_out, dim=1))\n",
        "        return self.sig(output.squeeze())\n"
      ]
    },
    {
      "cell_type": "code",
      "execution_count": 29,
      "metadata": {
        "id": "B8GPHB2j3DKR"
      },
      "outputs": [],
      "source": [
        "import torch.nn as nn\n",
        "\n",
        "class LSTMClassifier(nn.Module):\n",
        "    \"\"\" LSTMClassifier class for initializing the layers for the simple\n",
        "    recurrent neural network model (RNN) used for Sentiment Analysis of\n",
        "    IMDB reviews.\n",
        "\n",
        "    Attributes:\n",
        "        embedding_dim (int) dimensionality of the embedding layer\n",
        "        hidden_dim (int) dimensionality of the hidden layer(s)\n",
        "        vocab_size (int) size of the vocabulary used by Bag of Words\n",
        "\n",
        "    \"\"\"\n",
        "\n",
        "    def __init__(self, embedding_dim, hidden_dim, vocab_size):\n",
        "\n",
        "        super(LSTMClassifier, self).__init__()\n",
        "\n",
        "        self.embedding = nn.Embedding(vocab_size, embedding_dim, padding_idx=0)\n",
        "        self.lstm = nn.LSTM(embedding_dim, hidden_dim)\n",
        "        self.dense = nn.Linear(in_features=hidden_dim, out_features=1)\n",
        "        self.sig = nn.Sigmoid()\n",
        "\n",
        "        self.word_dict = None\n",
        "\n",
        "\n",
        "    def forward(self, x):\n",
        "        x = x.t()\n",
        "        lengths = x[0,:]\n",
        "        reviews = x[1:,:]\n",
        "        embeds = self.embedding(reviews)\n",
        "        lstm_out, _ = self.lstm(embeds)\n",
        "        out = self.dense(lstm_out)\n",
        "        out = out[lengths - 1, range(len(lengths))]\n",
        "        return self.sig(out.squeeze())"
      ]
    },
    {
      "cell_type": "code",
      "execution_count": 30,
      "metadata": {
        "id": "9MgKllOoin8K"
      },
      "outputs": [],
      "source": [
        "def evaluate(model, dataloader, loss_fn, device):\n",
        "    \"\"\"\n",
        "    Function to evaluate the model on a given dataset.\n",
        "\n",
        "    Args:\n",
        "    - model: the PyTorch model to evaluate\n",
        "    - dataloader: DataLoader object for the dataset\n",
        "    - loss_fn: loss function used for training\n",
        "    - device: device to run the evaluation on (e.g., \"cpu\" or \"cuda\")\n",
        "\n",
        "    Returns:\n",
        "    - accuracy: accuracy of the model on the dataset\n",
        "    - loss: average loss on the dataset\n",
        "    \"\"\"\n",
        "\n",
        "    model.eval()  # Set the model to evaluation mode\n",
        "\n",
        "    correct = 0\n",
        "    total = 0\n",
        "    running_loss = 0.0\n",
        "\n",
        "    with torch.no_grad():  # Disable gradient calculation during evaluation\n",
        "        for inputs, labels in dataloader:\n",
        "            inputs, labels = inputs.to(device), labels.to(device)\n",
        "\n",
        "            # Forward pass\n",
        "            outputs = model(inputs)\n",
        "\n",
        "            # Compute loss\n",
        "            loss = loss_fn(outputs, labels)\n",
        "            running_loss += loss.item()\n",
        "\n",
        "            # Compute accuracy\n",
        "            predicted = torch.round(outputs)\n",
        "            correct += (predicted == labels).sum().item()\n",
        "            total += labels.size(0)\n",
        "\n",
        "    accuracy = correct / total\n",
        "    avg_loss = running_loss / len(dataloader)\n",
        "\n",
        "    return accuracy, avg_loss\n"
      ]
    },
    {
      "cell_type": "code",
      "execution_count": 31,
      "metadata": {
        "id": "CCz9fSlxiu9M"
      },
      "outputs": [],
      "source": [
        "def train(model, train_loader, val_loader, epochs, optimizer, loss_fn, device):\n",
        "    for epoch in range(1, epochs + 1):\n",
        "        model.train()\n",
        "        total_loss = 0\n",
        "        for batch in train_loader:\n",
        "            batch_X, batch_y = batch\n",
        "\n",
        "            batch_X = batch_X.to(device)\n",
        "            batch_y = batch_y.to(device)\n",
        "\n",
        "            optimizer.zero_grad()\n",
        "            output = model(batch_X)\n",
        "            loss = loss_fn(output, batch_y)\n",
        "            loss.backward()\n",
        "            optimizer.step()\n",
        "\n",
        "            total_loss += loss.data.item()\n",
        "\n",
        "        # Validation phase\n",
        "        val_accuracy, val_loss = evaluate(model, val_loader, loss_fn, device)\n",
        "\n",
        "        # Calculate average training loss\n",
        "        avg_train_loss = total_loss / len(train_loader)\n",
        "\n",
        "        # Print and log the losses\n",
        "        print(\"Epoch: {}, Train Loss: {:.4f}, Val Loss: {:.4f}, Val Accuracy: {:.4f}\".format(epoch, avg_train_loss, val_loss, val_accuracy))\n",
        "        wandb.log({\"train_loss\": avg_train_loss, \"val_loss\": val_loss})\n"
      ]
    },
    {
      "cell_type": "code",
      "execution_count": 32,
      "metadata": {
        "id": "5F4hfzw4ix8t"
      },
      "outputs": [],
      "source": [
        "import torch\n",
        "import torch.utils.data\n",
        "# Read in only the first 250 rows\n",
        "train_sample = pd.read_csv(os.path.join(data_dir, 'train.csv'), header=None, names=None)\n",
        "\n",
        "# Turn the input pandas dataframe into tensors\n",
        "train_sample_y = torch.from_numpy(train_sample[[0]].values).float().squeeze()\n",
        "train_sample_X = torch.from_numpy(train_sample.drop([0], axis=1).values).long()\n",
        "\n",
        "# Build the dataset\n",
        "train_sample_ds = torch.utils.data.TensorDataset(train_sample_X, train_sample_y)\n",
        "\n",
        "# Read in only the first 250 rows\n",
        "val_sample = pd.read_csv(os.path.join(data_dir, 'val.csv'), header=None, names=None)\n",
        "\n",
        "# Turn the input pandas dataframe into tensors\n",
        "val_sample_y = torch.from_numpy(val_sample[[0]].values).float().squeeze()\n",
        "val_sample_X = torch.from_numpy(val_sample.drop([0], axis=1).values).long()\n",
        "\n",
        "# Build the dataset\n",
        "val_sample_ds = torch.utils.data.TensorDataset(val_sample_X, val_sample_y)\n",
        "\n",
        "test_sample = pd.read_csv(os.path.join(data_dir, 'test.csv'), header=None, names=None)\n",
        "\n",
        "# Turn the input pandas dataframe into tensors\n",
        "test_sample_y = torch.from_numpy(test_sample[[0]].values).float().squeeze()\n",
        "test_sample_X = torch.from_numpy(test_sample.drop([0], axis=1).values).long()\n",
        "\n",
        "# Build the dataset\n",
        "test_sample_ds = torch.utils.data.TensorDataset(test_sample_X, test_sample_y)"
      ]
    },
    {
      "cell_type": "code",
      "execution_count": 33,
      "metadata": {
        "id": "WQAZDtikrzCV"
      },
      "outputs": [],
      "source": [
        "device = torch.device(\"cuda\" if torch.cuda.is_available() else \"cpu\")\n"
      ]
    },
    {
      "cell_type": "code",
      "execution_count": 34,
      "metadata": {
        "colab": {
          "base_uri": "https://localhost:8080/",
          "height": 1000,
          "referenced_widgets": [
            "bdfdc5bff30646f1b55f598741924c19",
            "59a9217d809a4d3e8f04ae45fe60a5fa",
            "971927aa67d34c908e1a924eea06ec6b",
            "da7762d938b4467aa18831c78f795515",
            "097cc4ab79544024a2d9a343f53151bf",
            "3df64503e6c646eebc0c5b8525ea8ace",
            "76c2a1f5edbe4b0db50b6e1a74b79bd4",
            "ad6c263d33544e06ba27eaee0b73ef5a",
            "c3642ce65c9e45b4b0f8aca3dbfd9f86",
            "a9206fb328e74e83917a1dfd3fedc6c2",
            "d13abfc46eca4006b3276a5e31b5b776",
            "ce0ee308c3d34dd7bb712c11a3c79ecb",
            "90f1f25e8b174b1c89faa0f1cd43149b",
            "54ef56d1398741118048d072e2b2c2b6",
            "b3c8baef2cae4305a9c4bbd7563218da",
            "2248825b394540789c50915b0de85a0e",
            "0133cc8cfe5a4412a908710ac995fd43",
            "91af47b015a940c6bebed132f79d2331",
            "311036ff31d441499ba62b2cec0682fb",
            "2de2b065ba1e45a18fb22de8d59374aa",
            "ea9319b7279d4f1d99f6dea94d262b01",
            "dcefb69474624507bc04da25118c8db7",
            "d5a3790d472e490fa8939e429306a87d",
            "9a35383f176a474c946bcfe1b92bf071",
            "13dcd84ceb354f39876c40d006754800",
            "173c3ada35ae48b49798544916dc7467",
            "787129384f7a49b0b8973545e35602e8",
            "ce7275c9aa3a4d85a2fe67bfb3828279",
            "d80d6fd2b95d47d48e5dfb56d152962e",
            "d0c044d5af244f8ba6d9bcc72f749a75",
            "45add6b8845b4562a6b59215d75bedd1",
            "f946b74f990a4e58ab614c731430a671",
            "7edf657214f949e7926244cb4b9b4413",
            "87db2dfa78a746f78b848d998cc7de11",
            "dcc9599fa3ab481ea56021776cb1b2f2",
            "dfeb2e0302d749d2958912eac14ffcf7",
            "083e99b5624e4e48aeeb9da8a5e90ca6",
            "e94335a9022049c28dc4bd15e61b96bd",
            "56cf85bb3eac46458ac7af5ee957eadb",
            "c0311b948091461d976b802b905f3c93"
          ]
        },
        "id": "CTE4uk0Qvo_J",
        "outputId": "1728cc5a-aedf-4175-89fb-49c0300cfff2"
      },
      "outputs": [
        {
          "output_type": "stream",
          "name": "stderr",
          "text": [
            "\u001b[34m\u001b[1mwandb\u001b[0m: W&B API key is configured. Use \u001b[1m`wandb login --relogin`\u001b[0m to force relogin\n",
            "\u001b[34m\u001b[1mwandb\u001b[0m: \u001b[33mWARNING\u001b[0m If you're specifying your api key in code, ensure this code is not shared publicly.\n",
            "\u001b[34m\u001b[1mwandb\u001b[0m: \u001b[33mWARNING\u001b[0m Consider setting the WANDB_API_KEY environment variable, or running `wandb login` from the command line.\n",
            "\u001b[34m\u001b[1mwandb\u001b[0m: Appending key for api.wandb.ai to your netrc file: /root/.netrc\n",
            "\u001b[34m\u001b[1mwandb\u001b[0m: Currently logged in as: \u001b[33mprishadcmc\u001b[0m (\u001b[33mprisha\u001b[0m). Use \u001b[1m`wandb login --relogin`\u001b[0m to force relogin\n"
          ]
        },
        {
          "output_type": "display_data",
          "data": {
            "text/plain": [
              "<IPython.core.display.HTML object>"
            ],
            "text/html": [
              "Tracking run with wandb version 0.16.5"
            ]
          },
          "metadata": {}
        },
        {
          "output_type": "display_data",
          "data": {
            "text/plain": [
              "<IPython.core.display.HTML object>"
            ],
            "text/html": [
              "Run data is saved locally in <code>/content/wandb/run-20240328_092048-axeam3vu</code>"
            ]
          },
          "metadata": {}
        },
        {
          "output_type": "display_data",
          "data": {
            "text/plain": [
              "<IPython.core.display.HTML object>"
            ],
            "text/html": [
              "Syncing run <strong><a href='https://wandb.ai/prisha/hyperparameter-tuning_LSTM/runs/axeam3vu/workspace' target=\"_blank\">run_1</a></strong> to <a href='https://wandb.ai/prisha/hyperparameter-tuning_LSTM' target=\"_blank\">Weights & Biases</a> (<a href='https://wandb.me/run' target=\"_blank\">docs</a>)<br/>"
            ]
          },
          "metadata": {}
        },
        {
          "output_type": "display_data",
          "data": {
            "text/plain": [
              "<IPython.core.display.HTML object>"
            ],
            "text/html": [
              " View project at <a href='https://wandb.ai/prisha/hyperparameter-tuning_LSTM' target=\"_blank\">https://wandb.ai/prisha/hyperparameter-tuning_LSTM</a>"
            ]
          },
          "metadata": {}
        },
        {
          "output_type": "display_data",
          "data": {
            "text/plain": [
              "<IPython.core.display.HTML object>"
            ],
            "text/html": [
              " View run at <a href='https://wandb.ai/prisha/hyperparameter-tuning_LSTM/runs/axeam3vu/workspace' target=\"_blank\">https://wandb.ai/prisha/hyperparameter-tuning_LSTM/runs/axeam3vu/workspace</a>"
            ]
          },
          "metadata": {}
        },
        {
          "output_type": "stream",
          "name": "stdout",
          "text": [
            "Epoch: 1, Train Loss: 0.6824, Val Loss: 0.6578, Val Accuracy: 0.6040\n",
            "Epoch: 2, Train Loss: 0.6149, Val Loss: 0.6013, Val Accuracy: 0.6640\n",
            "Epoch: 3, Train Loss: 0.5279, Val Loss: 0.5458, Val Accuracy: 0.7138\n",
            "Epoch: 4, Train Loss: 0.4525, Val Loss: 0.4852, Val Accuracy: 0.7636\n",
            "Epoch: 5, Train Loss: 0.3933, Val Loss: 0.4766, Val Accuracy: 0.7650\n",
            "Epoch: 6, Train Loss: 0.3530, Val Loss: 0.4608, Val Accuracy: 0.7804\n",
            "Epoch: 7, Train Loss: 0.3255, Val Loss: 0.4448, Val Accuracy: 0.7939\n",
            "Epoch: 8, Train Loss: 0.3212, Val Loss: 0.4329, Val Accuracy: 0.8032\n",
            "Epoch: 9, Train Loss: 0.2917, Val Loss: 0.4291, Val Accuracy: 0.8125\n",
            "Epoch: 10, Train Loss: 0.2611, Val Loss: 0.4275, Val Accuracy: 0.8190\n",
            "Epoch: 11, Train Loss: 0.2315, Val Loss: 0.4849, Val Accuracy: 0.8083\n",
            "Epoch: 12, Train Loss: 0.1992, Val Loss: 0.4417, Val Accuracy: 0.8302\n",
            "Epoch: 13, Train Loss: 0.1669, Val Loss: 0.4839, Val Accuracy: 0.8255\n",
            "Epoch: 14, Train Loss: 0.1516, Val Loss: 0.5507, Val Accuracy: 0.8208\n",
            "Epoch: 15, Train Loss: 0.1404, Val Loss: 0.5045, Val Accuracy: 0.8199\n",
            "LSTM Run 1: Accuracy on validation set: 0.8061, Average loss on validation set: 0.5577\n"
          ]
        },
        {
          "output_type": "display_data",
          "data": {
            "text/plain": [
              "VBox(children=(Label(value='0.001 MB of 0.001 MB uploaded\\r'), FloatProgress(value=1.0, max=1.0)))"
            ],
            "application/vnd.jupyter.widget-view+json": {
              "version_major": 2,
              "version_minor": 0,
              "model_id": "bdfdc5bff30646f1b55f598741924c19"
            }
          },
          "metadata": {}
        },
        {
          "output_type": "display_data",
          "data": {
            "text/plain": [
              "<IPython.core.display.HTML object>"
            ],
            "text/html": [
              "<style>\n",
              "    table.wandb td:nth-child(1) { padding: 0 10px; text-align: left ; width: auto;} td:nth-child(2) {text-align: left ; width: 100%}\n",
              "    .wandb-row { display: flex; flex-direction: row; flex-wrap: wrap; justify-content: flex-start; width: 100% }\n",
              "    .wandb-col { display: flex; flex-direction: column; flex-basis: 100%; flex: 1; padding: 10px; }\n",
              "    </style>\n",
              "<div class=\"wandb-row\"><div class=\"wandb-col\"><h3>Run history:</h3><br/><table class=\"wandb\"><tr><td>accuracy</td><td>▁</td></tr><tr><td>avg_loss</td><td>▁</td></tr><tr><td>run</td><td>▁</td></tr><tr><td>train_loss</td><td>█▇▆▅▄▄▃▃▃▃▂▂▁▁▁</td></tr><tr><td>val_loss</td><td>█▆▅▃▂▂▂▁▁▁▃▁▃▅▃</td></tr></table><br/></div><div class=\"wandb-col\"><h3>Run summary:</h3><br/><table class=\"wandb\"><tr><td>accuracy</td><td>0.8061</td></tr><tr><td>avg_loss</td><td>0.55769</td></tr><tr><td>run</td><td>1</td></tr><tr><td>train_loss</td><td>0.14037</td></tr><tr><td>val_loss</td><td>0.50453</td></tr></table><br/></div></div>"
            ]
          },
          "metadata": {}
        },
        {
          "output_type": "display_data",
          "data": {
            "text/plain": [
              "<IPython.core.display.HTML object>"
            ],
            "text/html": [
              " View run <strong style=\"color:#cdcd00\">run_1</strong> at: <a href='https://wandb.ai/prisha/hyperparameter-tuning_LSTM/runs/axeam3vu/workspace' target=\"_blank\">https://wandb.ai/prisha/hyperparameter-tuning_LSTM/runs/axeam3vu/workspace</a><br/>Synced 5 W&B file(s), 0 media file(s), 0 artifact file(s) and 0 other file(s)"
            ]
          },
          "metadata": {}
        },
        {
          "output_type": "display_data",
          "data": {
            "text/plain": [
              "<IPython.core.display.HTML object>"
            ],
            "text/html": [
              "Find logs at: <code>./wandb/run-20240328_092048-axeam3vu/logs</code>"
            ]
          },
          "metadata": {}
        },
        {
          "output_type": "display_data",
          "data": {
            "text/plain": [
              "<IPython.core.display.HTML object>"
            ],
            "text/html": [
              "Tracking run with wandb version 0.16.5"
            ]
          },
          "metadata": {}
        },
        {
          "output_type": "display_data",
          "data": {
            "text/plain": [
              "<IPython.core.display.HTML object>"
            ],
            "text/html": [
              "Run data is saved locally in <code>/content/wandb/run-20240328_092113-nsogdv8f</code>"
            ]
          },
          "metadata": {}
        },
        {
          "output_type": "display_data",
          "data": {
            "text/plain": [
              "<IPython.core.display.HTML object>"
            ],
            "text/html": [
              "Syncing run <strong><a href='https://wandb.ai/prisha/hyperparameter-tuning_LSTM/runs/nsogdv8f/workspace' target=\"_blank\">run_2</a></strong> to <a href='https://wandb.ai/prisha/hyperparameter-tuning_LSTM' target=\"_blank\">Weights & Biases</a> (<a href='https://wandb.me/run' target=\"_blank\">docs</a>)<br/>"
            ]
          },
          "metadata": {}
        },
        {
          "output_type": "display_data",
          "data": {
            "text/plain": [
              "<IPython.core.display.HTML object>"
            ],
            "text/html": [
              " View project at <a href='https://wandb.ai/prisha/hyperparameter-tuning_LSTM' target=\"_blank\">https://wandb.ai/prisha/hyperparameter-tuning_LSTM</a>"
            ]
          },
          "metadata": {}
        },
        {
          "output_type": "display_data",
          "data": {
            "text/plain": [
              "<IPython.core.display.HTML object>"
            ],
            "text/html": [
              " View run at <a href='https://wandb.ai/prisha/hyperparameter-tuning_LSTM/runs/nsogdv8f/workspace' target=\"_blank\">https://wandb.ai/prisha/hyperparameter-tuning_LSTM/runs/nsogdv8f/workspace</a>"
            ]
          },
          "metadata": {}
        },
        {
          "output_type": "stream",
          "name": "stdout",
          "text": [
            "Epoch: 1, Train Loss: 0.6730, Val Loss: 0.6459, Val Accuracy: 0.6059\n",
            "Epoch: 2, Train Loss: 0.5929, Val Loss: 0.5774, Val Accuracy: 0.6840\n",
            "Epoch: 3, Train Loss: 0.5126, Val Loss: 0.5101, Val Accuracy: 0.7441\n",
            "Epoch: 4, Train Loss: 0.4825, Val Loss: 0.5395, Val Accuracy: 0.7115\n",
            "Epoch: 5, Train Loss: 0.4231, Val Loss: 0.4771, Val Accuracy: 0.7645\n",
            "Epoch: 6, Train Loss: 0.3557, Val Loss: 0.4606, Val Accuracy: 0.7943\n",
            "Epoch: 7, Train Loss: 0.3210, Val Loss: 0.4410, Val Accuracy: 0.8018\n",
            "Epoch: 8, Train Loss: 0.2975, Val Loss: 0.4326, Val Accuracy: 0.8097\n",
            "Epoch: 9, Train Loss: 0.2445, Val Loss: 0.4385, Val Accuracy: 0.8120\n",
            "Epoch: 10, Train Loss: 0.2133, Val Loss: 0.4419, Val Accuracy: 0.8302\n",
            "Epoch: 11, Train Loss: 0.2293, Val Loss: 0.4550, Val Accuracy: 0.8069\n",
            "Epoch: 12, Train Loss: 0.2143, Val Loss: 0.4608, Val Accuracy: 0.8320\n",
            "Epoch: 13, Train Loss: 0.1741, Val Loss: 0.5424, Val Accuracy: 0.7855\n",
            "Epoch: 14, Train Loss: 0.1469, Val Loss: 0.5048, Val Accuracy: 0.8185\n",
            "Epoch: 15, Train Loss: 0.1059, Val Loss: 0.5453, Val Accuracy: 0.8255\n",
            "LSTM Run 2: Accuracy on validation set: 0.8133, Average loss on validation set: 0.5743\n"
          ]
        },
        {
          "output_type": "display_data",
          "data": {
            "text/plain": [
              "VBox(children=(Label(value='0.001 MB of 0.001 MB uploaded\\r'), FloatProgress(value=1.0, max=1.0)))"
            ],
            "application/vnd.jupyter.widget-view+json": {
              "version_major": 2,
              "version_minor": 0,
              "model_id": "c3642ce65c9e45b4b0f8aca3dbfd9f86"
            }
          },
          "metadata": {}
        },
        {
          "output_type": "display_data",
          "data": {
            "text/plain": [
              "<IPython.core.display.HTML object>"
            ],
            "text/html": [
              "<style>\n",
              "    table.wandb td:nth-child(1) { padding: 0 10px; text-align: left ; width: auto;} td:nth-child(2) {text-align: left ; width: 100%}\n",
              "    .wandb-row { display: flex; flex-direction: row; flex-wrap: wrap; justify-content: flex-start; width: 100% }\n",
              "    .wandb-col { display: flex; flex-direction: column; flex-basis: 100%; flex: 1; padding: 10px; }\n",
              "    </style>\n",
              "<div class=\"wandb-row\"><div class=\"wandb-col\"><h3>Run history:</h3><br/><table class=\"wandb\"><tr><td>accuracy</td><td>▁</td></tr><tr><td>avg_loss</td><td>▁</td></tr><tr><td>run</td><td>▁</td></tr><tr><td>train_loss</td><td>█▇▆▆▅▄▄▃▃▂▃▂▂▂▁</td></tr><tr><td>val_loss</td><td>█▆▄▅▂▂▁▁▁▁▂▂▅▃▅</td></tr></table><br/></div><div class=\"wandb-col\"><h3>Run summary:</h3><br/><table class=\"wandb\"><tr><td>accuracy</td><td>0.81335</td></tr><tr><td>avg_loss</td><td>0.57429</td></tr><tr><td>run</td><td>2</td></tr><tr><td>train_loss</td><td>0.10591</td></tr><tr><td>val_loss</td><td>0.54532</td></tr></table><br/></div></div>"
            ]
          },
          "metadata": {}
        },
        {
          "output_type": "display_data",
          "data": {
            "text/plain": [
              "<IPython.core.display.HTML object>"
            ],
            "text/html": [
              " View run <strong style=\"color:#cdcd00\">run_2</strong> at: <a href='https://wandb.ai/prisha/hyperparameter-tuning_LSTM/runs/nsogdv8f/workspace' target=\"_blank\">https://wandb.ai/prisha/hyperparameter-tuning_LSTM/runs/nsogdv8f/workspace</a><br/>Synced 5 W&B file(s), 0 media file(s), 0 artifact file(s) and 0 other file(s)"
            ]
          },
          "metadata": {}
        },
        {
          "output_type": "display_data",
          "data": {
            "text/plain": [
              "<IPython.core.display.HTML object>"
            ],
            "text/html": [
              "Find logs at: <code>./wandb/run-20240328_092113-nsogdv8f/logs</code>"
            ]
          },
          "metadata": {}
        },
        {
          "output_type": "display_data",
          "data": {
            "text/plain": [
              "<IPython.core.display.HTML object>"
            ],
            "text/html": [
              "Tracking run with wandb version 0.16.5"
            ]
          },
          "metadata": {}
        },
        {
          "output_type": "display_data",
          "data": {
            "text/plain": [
              "<IPython.core.display.HTML object>"
            ],
            "text/html": [
              "Run data is saved locally in <code>/content/wandb/run-20240328_092148-v72in6sl</code>"
            ]
          },
          "metadata": {}
        },
        {
          "output_type": "display_data",
          "data": {
            "text/plain": [
              "<IPython.core.display.HTML object>"
            ],
            "text/html": [
              "Syncing run <strong><a href='https://wandb.ai/prisha/hyperparameter-tuning_LSTM/runs/v72in6sl/workspace' target=\"_blank\">run_3</a></strong> to <a href='https://wandb.ai/prisha/hyperparameter-tuning_LSTM' target=\"_blank\">Weights & Biases</a> (<a href='https://wandb.me/run' target=\"_blank\">docs</a>)<br/>"
            ]
          },
          "metadata": {}
        },
        {
          "output_type": "display_data",
          "data": {
            "text/plain": [
              "<IPython.core.display.HTML object>"
            ],
            "text/html": [
              " View project at <a href='https://wandb.ai/prisha/hyperparameter-tuning_LSTM' target=\"_blank\">https://wandb.ai/prisha/hyperparameter-tuning_LSTM</a>"
            ]
          },
          "metadata": {}
        },
        {
          "output_type": "display_data",
          "data": {
            "text/plain": [
              "<IPython.core.display.HTML object>"
            ],
            "text/html": [
              " View run at <a href='https://wandb.ai/prisha/hyperparameter-tuning_LSTM/runs/v72in6sl/workspace' target=\"_blank\">https://wandb.ai/prisha/hyperparameter-tuning_LSTM/runs/v72in6sl/workspace</a>"
            ]
          },
          "metadata": {}
        },
        {
          "output_type": "stream",
          "name": "stdout",
          "text": [
            "Epoch: 1, Train Loss: 0.6492, Val Loss: 0.6014, Val Accuracy: 0.6645\n",
            "Epoch: 2, Train Loss: 0.5500, Val Loss: 0.5085, Val Accuracy: 0.7422\n",
            "Epoch: 3, Train Loss: 0.4587, Val Loss: 0.5569, Val Accuracy: 0.7031\n",
            "Epoch: 4, Train Loss: 0.4424, Val Loss: 0.4617, Val Accuracy: 0.7850\n",
            "Epoch: 5, Train Loss: 0.3522, Val Loss: 0.4536, Val Accuracy: 0.7929\n",
            "Epoch: 6, Train Loss: 0.3847, Val Loss: 0.5142, Val Accuracy: 0.7417\n",
            "Epoch: 7, Train Loss: 0.3154, Val Loss: 0.4840, Val Accuracy: 0.7734\n",
            "Epoch: 8, Train Loss: 0.2495, Val Loss: 0.4854, Val Accuracy: 0.8064\n",
            "Epoch: 9, Train Loss: 0.1926, Val Loss: 0.4984, Val Accuracy: 0.7962\n",
            "Epoch: 10, Train Loss: 0.1550, Val Loss: 0.5741, Val Accuracy: 0.8129\n",
            "Epoch: 11, Train Loss: 0.1465, Val Loss: 0.6000, Val Accuracy: 0.8134\n",
            "Epoch: 12, Train Loss: 0.1001, Val Loss: 0.6383, Val Accuracy: 0.8101\n",
            "Epoch: 13, Train Loss: 0.0555, Val Loss: 0.6772, Val Accuracy: 0.8036\n",
            "Epoch: 14, Train Loss: 0.0716, Val Loss: 0.7222, Val Accuracy: 0.7966\n",
            "Epoch: 15, Train Loss: 0.0661, Val Loss: 0.6943, Val Accuracy: 0.7990\n",
            "LSTM Run 3: Accuracy on validation set: 0.7810, Average loss on validation set: 0.7295\n"
          ]
        },
        {
          "output_type": "display_data",
          "data": {
            "text/plain": [
              "VBox(children=(Label(value='0.001 MB of 0.003 MB uploaded\\r'), FloatProgress(value=0.4174390662547202, max=1.0…"
            ],
            "application/vnd.jupyter.widget-view+json": {
              "version_major": 2,
              "version_minor": 0,
              "model_id": "0133cc8cfe5a4412a908710ac995fd43"
            }
          },
          "metadata": {}
        },
        {
          "output_type": "display_data",
          "data": {
            "text/plain": [
              "<IPython.core.display.HTML object>"
            ],
            "text/html": [
              "<style>\n",
              "    table.wandb td:nth-child(1) { padding: 0 10px; text-align: left ; width: auto;} td:nth-child(2) {text-align: left ; width: 100%}\n",
              "    .wandb-row { display: flex; flex-direction: row; flex-wrap: wrap; justify-content: flex-start; width: 100% }\n",
              "    .wandb-col { display: flex; flex-direction: column; flex-basis: 100%; flex: 1; padding: 10px; }\n",
              "    </style>\n",
              "<div class=\"wandb-row\"><div class=\"wandb-col\"><h3>Run history:</h3><br/><table class=\"wandb\"><tr><td>accuracy</td><td>▁</td></tr><tr><td>avg_loss</td><td>▁</td></tr><tr><td>run</td><td>▁</td></tr><tr><td>train_loss</td><td>█▇▆▆▄▅▄▃▃▂▂▂▁▁▁</td></tr><tr><td>val_loss</td><td>▅▂▄▁▁▃▂▂▂▄▅▆▇█▇</td></tr></table><br/></div><div class=\"wandb-col\"><h3>Run summary:</h3><br/><table class=\"wandb\"><tr><td>accuracy</td><td>0.78103</td></tr><tr><td>avg_loss</td><td>0.72946</td></tr><tr><td>run</td><td>3</td></tr><tr><td>train_loss</td><td>0.06607</td></tr><tr><td>val_loss</td><td>0.6943</td></tr></table><br/></div></div>"
            ]
          },
          "metadata": {}
        },
        {
          "output_type": "display_data",
          "data": {
            "text/plain": [
              "<IPython.core.display.HTML object>"
            ],
            "text/html": [
              " View run <strong style=\"color:#cdcd00\">run_3</strong> at: <a href='https://wandb.ai/prisha/hyperparameter-tuning_LSTM/runs/v72in6sl/workspace' target=\"_blank\">https://wandb.ai/prisha/hyperparameter-tuning_LSTM/runs/v72in6sl/workspace</a><br/>Synced 5 W&B file(s), 0 media file(s), 0 artifact file(s) and 0 other file(s)"
            ]
          },
          "metadata": {}
        },
        {
          "output_type": "display_data",
          "data": {
            "text/plain": [
              "<IPython.core.display.HTML object>"
            ],
            "text/html": [
              "Find logs at: <code>./wandb/run-20240328_092148-v72in6sl/logs</code>"
            ]
          },
          "metadata": {}
        },
        {
          "output_type": "display_data",
          "data": {
            "text/plain": [
              "<IPython.core.display.HTML object>"
            ],
            "text/html": [
              "Tracking run with wandb version 0.16.5"
            ]
          },
          "metadata": {}
        },
        {
          "output_type": "display_data",
          "data": {
            "text/plain": [
              "<IPython.core.display.HTML object>"
            ],
            "text/html": [
              "Run data is saved locally in <code>/content/wandb/run-20240328_092308-f2hgupnt</code>"
            ]
          },
          "metadata": {}
        },
        {
          "output_type": "display_data",
          "data": {
            "text/plain": [
              "<IPython.core.display.HTML object>"
            ],
            "text/html": [
              "Syncing run <strong><a href='https://wandb.ai/prisha/hyperparameter-tuning_LSTM/runs/f2hgupnt/workspace' target=\"_blank\">run_4</a></strong> to <a href='https://wandb.ai/prisha/hyperparameter-tuning_LSTM' target=\"_blank\">Weights & Biases</a> (<a href='https://wandb.me/run' target=\"_blank\">docs</a>)<br/>"
            ]
          },
          "metadata": {}
        },
        {
          "output_type": "display_data",
          "data": {
            "text/plain": [
              "<IPython.core.display.HTML object>"
            ],
            "text/html": [
              " View project at <a href='https://wandb.ai/prisha/hyperparameter-tuning_LSTM' target=\"_blank\">https://wandb.ai/prisha/hyperparameter-tuning_LSTM</a>"
            ]
          },
          "metadata": {}
        },
        {
          "output_type": "display_data",
          "data": {
            "text/plain": [
              "<IPython.core.display.HTML object>"
            ],
            "text/html": [
              " View run at <a href='https://wandb.ai/prisha/hyperparameter-tuning_LSTM/runs/f2hgupnt/workspace' target=\"_blank\">https://wandb.ai/prisha/hyperparameter-tuning_LSTM/runs/f2hgupnt/workspace</a>"
            ]
          },
          "metadata": {}
        },
        {
          "output_type": "stream",
          "name": "stdout",
          "text": [
            "Epoch: 1, Train Loss: 0.6386, Val Loss: 0.5740, Val Accuracy: 0.6854\n",
            "Epoch: 2, Train Loss: 0.5626, Val Loss: 0.5991, Val Accuracy: 0.6487\n",
            "Epoch: 3, Train Loss: 0.5471, Val Loss: 0.5420, Val Accuracy: 0.7013\n",
            "Epoch: 4, Train Loss: 0.4839, Val Loss: 0.5006, Val Accuracy: 0.7450\n",
            "Epoch: 5, Train Loss: 0.4059, Val Loss: 0.5087, Val Accuracy: 0.7590\n",
            "Epoch: 6, Train Loss: 0.3508, Val Loss: 0.4510, Val Accuracy: 0.7887\n",
            "Epoch: 7, Train Loss: 0.3488, Val Loss: 0.5118, Val Accuracy: 0.7417\n",
            "Epoch: 8, Train Loss: 0.2851, Val Loss: 0.4806, Val Accuracy: 0.7734\n",
            "Epoch: 9, Train Loss: 0.2418, Val Loss: 0.4833, Val Accuracy: 0.7725\n",
            "Epoch: 10, Train Loss: 0.1998, Val Loss: 0.4958, Val Accuracy: 0.7687\n",
            "Epoch: 11, Train Loss: 0.1528, Val Loss: 0.5373, Val Accuracy: 0.7734\n",
            "Epoch: 12, Train Loss: 0.1910, Val Loss: 0.6658, Val Accuracy: 0.6803\n",
            "Epoch: 13, Train Loss: 0.2378, Val Loss: 0.5670, Val Accuracy: 0.7766\n",
            "Epoch: 14, Train Loss: 0.1083, Val Loss: 0.5358, Val Accuracy: 0.7762\n",
            "Epoch: 15, Train Loss: 0.0599, Val Loss: 0.5875, Val Accuracy: 0.7766\n",
            "LSTM Run 4: Accuracy on validation set: 0.7655, Average loss on validation set: 0.6629\n"
          ]
        },
        {
          "output_type": "display_data",
          "data": {
            "text/plain": [
              "VBox(children=(Label(value='0.001 MB of 0.001 MB uploaded\\r'), FloatProgress(value=1.0, max=1.0)))"
            ],
            "application/vnd.jupyter.widget-view+json": {
              "version_major": 2,
              "version_minor": 0,
              "model_id": "13dcd84ceb354f39876c40d006754800"
            }
          },
          "metadata": {}
        },
        {
          "output_type": "display_data",
          "data": {
            "text/plain": [
              "<IPython.core.display.HTML object>"
            ],
            "text/html": [
              "<style>\n",
              "    table.wandb td:nth-child(1) { padding: 0 10px; text-align: left ; width: auto;} td:nth-child(2) {text-align: left ; width: 100%}\n",
              "    .wandb-row { display: flex; flex-direction: row; flex-wrap: wrap; justify-content: flex-start; width: 100% }\n",
              "    .wandb-col { display: flex; flex-direction: column; flex-basis: 100%; flex: 1; padding: 10px; }\n",
              "    </style>\n",
              "<div class=\"wandb-row\"><div class=\"wandb-col\"><h3>Run history:</h3><br/><table class=\"wandb\"><tr><td>accuracy</td><td>▁</td></tr><tr><td>avg_loss</td><td>▁</td></tr><tr><td>run</td><td>▁</td></tr><tr><td>train_loss</td><td>█▇▇▆▅▅▄▄▃▃▂▃▃▂▁</td></tr><tr><td>val_loss</td><td>▅▆▄▃▃▁▃▂▂▂▄█▅▄▅</td></tr></table><br/></div><div class=\"wandb-col\"><h3>Run summary:</h3><br/><table class=\"wandb\"><tr><td>accuracy</td><td>0.76549</td></tr><tr><td>avg_loss</td><td>0.66287</td></tr><tr><td>run</td><td>4</td></tr><tr><td>train_loss</td><td>0.0599</td></tr><tr><td>val_loss</td><td>0.58751</td></tr></table><br/></div></div>"
            ]
          },
          "metadata": {}
        },
        {
          "output_type": "display_data",
          "data": {
            "text/plain": [
              "<IPython.core.display.HTML object>"
            ],
            "text/html": [
              " View run <strong style=\"color:#cdcd00\">run_4</strong> at: <a href='https://wandb.ai/prisha/hyperparameter-tuning_LSTM/runs/f2hgupnt/workspace' target=\"_blank\">https://wandb.ai/prisha/hyperparameter-tuning_LSTM/runs/f2hgupnt/workspace</a><br/>Synced 5 W&B file(s), 0 media file(s), 0 artifact file(s) and 0 other file(s)"
            ]
          },
          "metadata": {}
        },
        {
          "output_type": "display_data",
          "data": {
            "text/plain": [
              "<IPython.core.display.HTML object>"
            ],
            "text/html": [
              "Find logs at: <code>./wandb/run-20240328_092308-f2hgupnt/logs</code>"
            ]
          },
          "metadata": {}
        },
        {
          "output_type": "display_data",
          "data": {
            "text/plain": [
              "<IPython.core.display.HTML object>"
            ],
            "text/html": [
              "Tracking run with wandb version 0.16.5"
            ]
          },
          "metadata": {}
        },
        {
          "output_type": "display_data",
          "data": {
            "text/plain": [
              "<IPython.core.display.HTML object>"
            ],
            "text/html": [
              "Run data is saved locally in <code>/content/wandb/run-20240328_092703-cr9a4d7w</code>"
            ]
          },
          "metadata": {}
        },
        {
          "output_type": "display_data",
          "data": {
            "text/plain": [
              "<IPython.core.display.HTML object>"
            ],
            "text/html": [
              "Syncing run <strong><a href='https://wandb.ai/prisha/hyperparameter-tuning_LSTM/runs/cr9a4d7w/workspace' target=\"_blank\">run_5</a></strong> to <a href='https://wandb.ai/prisha/hyperparameter-tuning_LSTM' target=\"_blank\">Weights & Biases</a> (<a href='https://wandb.me/run' target=\"_blank\">docs</a>)<br/>"
            ]
          },
          "metadata": {}
        },
        {
          "output_type": "display_data",
          "data": {
            "text/plain": [
              "<IPython.core.display.HTML object>"
            ],
            "text/html": [
              " View project at <a href='https://wandb.ai/prisha/hyperparameter-tuning_LSTM' target=\"_blank\">https://wandb.ai/prisha/hyperparameter-tuning_LSTM</a>"
            ]
          },
          "metadata": {}
        },
        {
          "output_type": "display_data",
          "data": {
            "text/plain": [
              "<IPython.core.display.HTML object>"
            ],
            "text/html": [
              " View run at <a href='https://wandb.ai/prisha/hyperparameter-tuning_LSTM/runs/cr9a4d7w/workspace' target=\"_blank\">https://wandb.ai/prisha/hyperparameter-tuning_LSTM/runs/cr9a4d7w/workspace</a>"
            ]
          },
          "metadata": {}
        },
        {
          "output_type": "stream",
          "name": "stdout",
          "text": [
            "Epoch: 1, Train Loss: 0.7130, Val Loss: 0.6281, Val Accuracy: 0.6128\n",
            "Epoch: 2, Train Loss: 0.5949, Val Loss: 0.5899, Val Accuracy: 0.6682\n",
            "Epoch: 3, Train Loss: 0.4996, Val Loss: 0.5505, Val Accuracy: 0.6989\n",
            "Epoch: 4, Train Loss: 0.4319, Val Loss: 0.5971, Val Accuracy: 0.7310\n",
            "Epoch: 5, Train Loss: 0.4373, Val Loss: 0.5214, Val Accuracy: 0.7422\n",
            "Epoch: 6, Train Loss: 0.3506, Val Loss: 0.4983, Val Accuracy: 0.7738\n",
            "Epoch: 7, Train Loss: 0.3028, Val Loss: 0.4616, Val Accuracy: 0.7939\n",
            "Epoch: 8, Train Loss: 0.2559, Val Loss: 0.5396, Val Accuracy: 0.7552\n",
            "Epoch: 9, Train Loss: 0.1803, Val Loss: 0.5070, Val Accuracy: 0.7911\n",
            "Epoch: 10, Train Loss: 0.1106, Val Loss: 0.5984, Val Accuracy: 0.7673\n",
            "Epoch: 11, Train Loss: 0.0820, Val Loss: 0.6884, Val Accuracy: 0.7617\n",
            "Epoch: 12, Train Loss: 0.0695, Val Loss: 0.7267, Val Accuracy: 0.7520\n",
            "Epoch: 13, Train Loss: 0.0670, Val Loss: 0.8042, Val Accuracy: 0.7659\n",
            "Epoch: 14, Train Loss: 0.0531, Val Loss: 0.8067, Val Accuracy: 0.7976\n",
            "Epoch: 15, Train Loss: 0.0393, Val Loss: 0.8574, Val Accuracy: 0.7524\n",
            "LSTM Run 5: Accuracy on validation set: 0.7397, Average loss on validation set: 0.8871\n"
          ]
        },
        {
          "output_type": "display_data",
          "data": {
            "text/plain": [
              "VBox(children=(Label(value='0.001 MB of 0.011 MB uploaded\\r'), FloatProgress(value=0.1025360181986688, max=1.0…"
            ],
            "application/vnd.jupyter.widget-view+json": {
              "version_major": 2,
              "version_minor": 0,
              "model_id": "7edf657214f949e7926244cb4b9b4413"
            }
          },
          "metadata": {}
        },
        {
          "output_type": "display_data",
          "data": {
            "text/plain": [
              "<IPython.core.display.HTML object>"
            ],
            "text/html": [
              "<style>\n",
              "    table.wandb td:nth-child(1) { padding: 0 10px; text-align: left ; width: auto;} td:nth-child(2) {text-align: left ; width: 100%}\n",
              "    .wandb-row { display: flex; flex-direction: row; flex-wrap: wrap; justify-content: flex-start; width: 100% }\n",
              "    .wandb-col { display: flex; flex-direction: column; flex-basis: 100%; flex: 1; padding: 10px; }\n",
              "    </style>\n",
              "<div class=\"wandb-row\"><div class=\"wandb-col\"><h3>Run history:</h3><br/><table class=\"wandb\"><tr><td>accuracy</td><td>▁</td></tr><tr><td>avg_loss</td><td>▁</td></tr><tr><td>run</td><td>▁</td></tr><tr><td>train_loss</td><td>█▇▆▅▅▄▄▃▂▂▁▁▁▁▁</td></tr><tr><td>val_loss</td><td>▄▃▃▃▂▂▁▂▂▃▅▆▇▇█</td></tr></table><br/></div><div class=\"wandb-col\"><h3>Run summary:</h3><br/><table class=\"wandb\"><tr><td>accuracy</td><td>0.73966</td></tr><tr><td>avg_loss</td><td>0.8871</td></tr><tr><td>run</td><td>5</td></tr><tr><td>train_loss</td><td>0.03933</td></tr><tr><td>val_loss</td><td>0.8574</td></tr></table><br/></div></div>"
            ]
          },
          "metadata": {}
        },
        {
          "output_type": "display_data",
          "data": {
            "text/plain": [
              "<IPython.core.display.HTML object>"
            ],
            "text/html": [
              " View run <strong style=\"color:#cdcd00\">run_5</strong> at: <a href='https://wandb.ai/prisha/hyperparameter-tuning_LSTM/runs/cr9a4d7w/workspace' target=\"_blank\">https://wandb.ai/prisha/hyperparameter-tuning_LSTM/runs/cr9a4d7w/workspace</a><br/>Synced 5 W&B file(s), 0 media file(s), 0 artifact file(s) and 0 other file(s)"
            ]
          },
          "metadata": {}
        },
        {
          "output_type": "display_data",
          "data": {
            "text/plain": [
              "<IPython.core.display.HTML object>"
            ],
            "text/html": [
              "Find logs at: <code>./wandb/run-20240328_092703-cr9a4d7w/logs</code>"
            ]
          },
          "metadata": {}
        },
        {
          "output_type": "stream",
          "name": "stdout",
          "text": [
            "Average Accuracy shown by LSTM IS: 0.7811248808388942\n"
          ]
        }
      ],
      "source": [
        "import torch\n",
        "import wandb\n",
        "wandb.login(key=\"ac8ef4bdae5edab6284aaf71af5502f523fcb79f\")\n",
        "\n",
        "# Define hyperparameter configurations\n",
        "hyperparameters = [\n",
        "    {\"embedding_dim\": 32, \"hidden_dim\": 64, \"batch_size\": 64},\n",
        "    {\"embedding_dim\": 64, \"hidden_dim\": 128, \"batch_size\": 128},\n",
        "    {\"embedding_dim\": 128, \"hidden_dim\": 256, \"batch_size\": 128},\n",
        "    {\"embedding_dim\": 256, \"hidden_dim\": 512, \"batch_size\": 512},\n",
        "    {\"embedding_dim\": 512, \"hidden_dim\": 1024, \"batch_size\": 512},\n",
        "]\n",
        "\n",
        "# Experiment loop\n",
        "accuracies = []\n",
        "for i, config in enumerate(hyperparameters, 1):\n",
        "    config_name = f\"run_{i}\"\n",
        "    wandb.init(project=\"hyperparameter-tuning_LSTM\", name=config_name)  # Initialize Wandb for each run\n",
        "\n",
        "    # Load your data loaders (train_sample_dl, test_sample_dl, val_sample_dl)\n",
        "    train_sample_dl = torch.utils.data.DataLoader(train_sample_ds, batch_size=config[\"batch_size\"])\n",
        "    test_sample_dl = torch.utils.data.DataLoader(test_sample_ds,  batch_size=config[\"batch_size\"])\n",
        "    val_sample_dl = torch.utils.data.DataLoader(val_sample_ds,  batch_size=config[\"batch_size\"])\n",
        "\n",
        "    # Create model with specified hyperparameters\n",
        "    device = torch.device(\"cuda\" if torch.cuda.is_available() else \"cpu\")\n",
        "    model = LSTMClassifier(config[\"embedding_dim\"], config[\"hidden_dim\"], vocab_size=5000).to(device)\n",
        "\n",
        "    # Define optimizer and loss function\n",
        "    optimizer = torch.optim.Adam(model.parameters())\n",
        "    loss_fn = torch.nn.BCELoss()\n",
        "\n",
        "    # Train the model\n",
        "    train(model, train_sample_dl, val_sample_dl, 15, optimizer, loss_fn, device)\n",
        "\n",
        "    # Evaluate the model on validation set\n",
        "    accuracy, avg_loss = evaluate(model, test_sample_dl, loss_fn, device)\n",
        "\n",
        "    # Log metrics using Wandb for the current run\n",
        "    print(f\"LSTM Run {i}: Accuracy on validation set: {accuracy:.4f}, Average loss on validation set: {avg_loss:.4f}\")\n",
        "    wandb.log({\"run\": i, \"accuracy\": accuracy, \"avg_loss\": avg_loss})\n",
        "\n",
        "    # Finish current Wandb run\n",
        "    accuracies.append(accuracy)\n",
        "    wandb.finish()\n",
        "\n",
        "print(\"Average Accuracy shown by LSTM IS:\", np.mean(accuracies))"
      ]
    },
    {
      "cell_type": "code",
      "source": [
        "# Initialize Wandb for the RNN experiment\n",
        "wandb.init(project=\"hyperparameter-tuning_RNN_Final\", name=\"RNN_Experiment_Final\")\n",
        "\n",
        "# Define hyperparameters for the RNN\n",
        "config_rnn = {\"embedding_dim\": 64, \"hidden_dim\": 128, \"batch_size\": 32}\n",
        "\n",
        "# Create the RNN model with specified hyperparameters\n",
        "model_rnn = RNNClassifier(config_rnn[\"embedding_dim\"], config_rnn[\"hidden_dim\"], vocab_size=5000).to(device)\n",
        "\n",
        "# Define optimizer and loss function for RNN\n",
        "optimizer_rnn = torch.optim.Adam(model_rnn.parameters())\n",
        "loss_fn_rnn = torch.nn.BCELoss()\n",
        "\n",
        "# DataLoader for RNN\n",
        "train_sample_dl_rnn = torch.utils.data.DataLoader(train_sample_ds, batch_size=config_rnn[\"batch_size\"])\n",
        "test_sample_dl_rnn = torch.utils.data.DataLoader(test_sample_ds, batch_size=config_rnn[\"batch_size\"])\n",
        "val_sample_dl_rnn = torch.utils.data.DataLoader(val_sample_ds, batch_size=config_rnn[\"batch_size\"])\n",
        "\n",
        "# Train the RNN model\n",
        "train(model_rnn, train_sample_dl_rnn, val_sample_dl_rnn, 15, optimizer_rnn, loss_fn_rnn, device)\n",
        "\n",
        "# Evaluate the RNN model on the test set\n",
        "accuracy_rnn, avg_loss_rnn = evaluate(model_rnn, test_sample_dl_rnn, loss_fn_rnn, device)\n",
        "\n",
        "# Log metrics using Wandb\n",
        "print(f\"RNN: Accuracy on test set: {accuracy_rnn:.4f}, Average loss on test set: {avg_loss_rnn:.4f}\")\n",
        "wandb.log({\"accuracy_rnn\": accuracy_rnn, \"avg_loss_rnn\": avg_loss_rnn})\n",
        "\n",
        "# Finish Wandb run for RNN\n",
        "wandb.finish()\n"
      ],
      "metadata": {
        "colab": {
          "base_uri": "https://localhost:8080/",
          "height": 836,
          "referenced_widgets": [
            "30a1e603f7414b23987af64d9caf8bbd",
            "67ef259d149a40e6a555f281dcf323f5",
            "8491017446604629ac817fd6fcb73ebb",
            "e884263d99c8413e994a5b1bb92d3768",
            "e684606d38534ef19face590deba2adc",
            "78fdaaa432724e4198cc1ba5d8ffd781",
            "6e2dfdddd3f648d289750790e506cbc4",
            "0e433888a7bf47dfbf6228a383db99dc",
            "be72cd8232874ea9bd52510a14cedc74",
            "0b968d8248014921bfcea4664a2421fb",
            "ff47c220a56644eaa08fd0aa9f01a605",
            "ca82965ec3b74eb1b130d2044c5df50b",
            "4dec804355214a83ad1abe1cc7c7c55e",
            "e35c35a0fd7e49fdaa309d5930ed3c11",
            "f10f1902dcf747ffa788ac8e5b0666e3",
            "fe390d0373594a75adb9b7ed542c1bd8"
          ]
        },
        "id": "UkRa_iohYg4k",
        "outputId": "ef71c90e-f1e8-45b4-c33b-0779719ac4b4"
      },
      "execution_count": 37,
      "outputs": [
        {
          "output_type": "display_data",
          "data": {
            "text/plain": [
              "<IPython.core.display.HTML object>"
            ],
            "text/html": [
              "Finishing last run (ID:pqktrg09) before initializing another..."
            ]
          },
          "metadata": {}
        },
        {
          "output_type": "display_data",
          "data": {
            "text/plain": [
              "VBox(children=(Label(value='0.001 MB of 0.012 MB uploaded\\r'), FloatProgress(value=0.09368024016626895, max=1.…"
            ],
            "application/vnd.jupyter.widget-view+json": {
              "version_major": 2,
              "version_minor": 0,
              "model_id": "30a1e603f7414b23987af64d9caf8bbd"
            }
          },
          "metadata": {}
        },
        {
          "output_type": "display_data",
          "data": {
            "text/plain": [
              "<IPython.core.display.HTML object>"
            ],
            "text/html": [
              "<style>\n",
              "    table.wandb td:nth-child(1) { padding: 0 10px; text-align: left ; width: auto;} td:nth-child(2) {text-align: left ; width: 100%}\n",
              "    .wandb-row { display: flex; flex-direction: row; flex-wrap: wrap; justify-content: flex-start; width: 100% }\n",
              "    .wandb-col { display: flex; flex-direction: column; flex-basis: 100%; flex: 1; padding: 10px; }\n",
              "    </style>\n",
              "<div class=\"wandb-row\"><div class=\"wandb-col\"><h3>Run history:</h3><br/><table class=\"wandb\"><tr><td>train_loss</td><td>██████████████████▇▇▇▆▆▅▄▄▄▃▂▁</td></tr><tr><td>val_loss</td><td>█████████████████▇▇▆▇▆▅▄▄▄▃▃▂▁</td></tr></table><br/></div><div class=\"wandb-col\"><h3>Run summary:</h3><br/><table class=\"wandb\"><tr><td>train_loss</td><td>0.39669</td></tr><tr><td>val_loss</td><td>0.42762</td></tr></table><br/></div></div>"
            ]
          },
          "metadata": {}
        },
        {
          "output_type": "display_data",
          "data": {
            "text/plain": [
              "<IPython.core.display.HTML object>"
            ],
            "text/html": [
              " View run <strong style=\"color:#cdcd00\">RNN_Experiment_2</strong> at: <a href='https://wandb.ai/prisha/hyperparameter-tuning_rnn_2/runs/pqktrg09/workspace' target=\"_blank\">https://wandb.ai/prisha/hyperparameter-tuning_rnn_2/runs/pqktrg09/workspace</a><br/>Synced 5 W&B file(s), 0 media file(s), 0 artifact file(s) and 0 other file(s)"
            ]
          },
          "metadata": {}
        },
        {
          "output_type": "display_data",
          "data": {
            "text/plain": [
              "<IPython.core.display.HTML object>"
            ],
            "text/html": [
              "Find logs at: <code>./wandb/run-20240328_094148-pqktrg09/logs</code>"
            ]
          },
          "metadata": {}
        },
        {
          "output_type": "display_data",
          "data": {
            "text/plain": [
              "<IPython.core.display.HTML object>"
            ],
            "text/html": [
              "Successfully finished last run (ID:pqktrg09). Initializing new run:<br/>"
            ]
          },
          "metadata": {}
        },
        {
          "output_type": "display_data",
          "data": {
            "text/plain": [
              "<IPython.core.display.HTML object>"
            ],
            "text/html": [
              "Tracking run with wandb version 0.16.5"
            ]
          },
          "metadata": {}
        },
        {
          "output_type": "display_data",
          "data": {
            "text/plain": [
              "<IPython.core.display.HTML object>"
            ],
            "text/html": [
              "Run data is saved locally in <code>/content/wandb/run-20240328_094205-zra50bx5</code>"
            ]
          },
          "metadata": {}
        },
        {
          "output_type": "display_data",
          "data": {
            "text/plain": [
              "<IPython.core.display.HTML object>"
            ],
            "text/html": [
              "Syncing run <strong><a href='https://wandb.ai/prisha/hyperparameter-tuning_RNN_Final/runs/zra50bx5/workspace' target=\"_blank\">RNN_Experiment_Final</a></strong> to <a href='https://wandb.ai/prisha/hyperparameter-tuning_RNN_Final' target=\"_blank\">Weights & Biases</a> (<a href='https://wandb.me/run' target=\"_blank\">docs</a>)<br/>"
            ]
          },
          "metadata": {}
        },
        {
          "output_type": "display_data",
          "data": {
            "text/plain": [
              "<IPython.core.display.HTML object>"
            ],
            "text/html": [
              " View project at <a href='https://wandb.ai/prisha/hyperparameter-tuning_RNN_Final' target=\"_blank\">https://wandb.ai/prisha/hyperparameter-tuning_RNN_Final</a>"
            ]
          },
          "metadata": {}
        },
        {
          "output_type": "display_data",
          "data": {
            "text/plain": [
              "<IPython.core.display.HTML object>"
            ],
            "text/html": [
              " View run at <a href='https://wandb.ai/prisha/hyperparameter-tuning_RNN_Final/runs/zra50bx5/workspace' target=\"_blank\">https://wandb.ai/prisha/hyperparameter-tuning_RNN_Final/runs/zra50bx5/workspace</a>"
            ]
          },
          "metadata": {}
        },
        {
          "output_type": "stream",
          "name": "stdout",
          "text": [
            "Epoch: 1, Train Loss: 0.6508, Val Loss: 0.5909, Val Accuracy: 0.7338\n",
            "Epoch: 2, Train Loss: 0.4812, Val Loss: 0.5207, Val Accuracy: 0.8185\n",
            "Epoch: 3, Train Loss: 0.4010, Val Loss: 0.4103, Val Accuracy: 0.8339\n",
            "Epoch: 4, Train Loss: 0.3125, Val Loss: 0.3737, Val Accuracy: 0.8469\n",
            "Epoch: 5, Train Loss: 0.2536, Val Loss: 0.3812, Val Accuracy: 0.8436\n",
            "Epoch: 6, Train Loss: 0.2809, Val Loss: 0.4259, Val Accuracy: 0.8520\n",
            "Epoch: 7, Train Loss: 0.2948, Val Loss: 0.3595, Val Accuracy: 0.8520\n",
            "Epoch: 8, Train Loss: 0.2171, Val Loss: 0.3769, Val Accuracy: 0.8460\n",
            "Epoch: 9, Train Loss: 0.1778, Val Loss: 0.4044, Val Accuracy: 0.8483\n",
            "Epoch: 10, Train Loss: 0.1503, Val Loss: 0.4431, Val Accuracy: 0.8492\n",
            "Epoch: 11, Train Loss: 0.1614, Val Loss: 0.4264, Val Accuracy: 0.8520\n",
            "Epoch: 12, Train Loss: 0.1614, Val Loss: 0.3884, Val Accuracy: 0.8506\n",
            "Epoch: 13, Train Loss: 0.1250, Val Loss: 0.4542, Val Accuracy: 0.8534\n",
            "Epoch: 14, Train Loss: 0.1111, Val Loss: 0.5255, Val Accuracy: 0.8450\n",
            "Epoch: 15, Train Loss: 0.0883, Val Loss: 0.5611, Val Accuracy: 0.8488\n",
            "RNN: Accuracy on test set: 0.8254, Average loss on test set: 0.6572\n"
          ]
        },
        {
          "output_type": "display_data",
          "data": {
            "text/plain": [
              "VBox(children=(Label(value='0.001 MB of 0.001 MB uploaded\\r'), FloatProgress(value=1.0, max=1.0)))"
            ],
            "application/vnd.jupyter.widget-view+json": {
              "version_major": 2,
              "version_minor": 0,
              "model_id": "be72cd8232874ea9bd52510a14cedc74"
            }
          },
          "metadata": {}
        },
        {
          "output_type": "display_data",
          "data": {
            "text/plain": [
              "<IPython.core.display.HTML object>"
            ],
            "text/html": [
              "<style>\n",
              "    table.wandb td:nth-child(1) { padding: 0 10px; text-align: left ; width: auto;} td:nth-child(2) {text-align: left ; width: 100%}\n",
              "    .wandb-row { display: flex; flex-direction: row; flex-wrap: wrap; justify-content: flex-start; width: 100% }\n",
              "    .wandb-col { display: flex; flex-direction: column; flex-basis: 100%; flex: 1; padding: 10px; }\n",
              "    </style>\n",
              "<div class=\"wandb-row\"><div class=\"wandb-col\"><h3>Run history:</h3><br/><table class=\"wandb\"><tr><td>accuracy_rnn</td><td>▁</td></tr><tr><td>avg_loss_rnn</td><td>▁</td></tr><tr><td>train_loss</td><td>█▆▅▄▃▃▄▃▂▂▂▂▁▁▁</td></tr><tr><td>val_loss</td><td>█▆▃▁▂▃▁▂▂▄▃▂▄▆▇</td></tr></table><br/></div><div class=\"wandb-col\"><h3>Run summary:</h3><br/><table class=\"wandb\"><tr><td>accuracy_rnn</td><td>0.82536</td></tr><tr><td>avg_loss_rnn</td><td>0.65724</td></tr><tr><td>train_loss</td><td>0.08833</td></tr><tr><td>val_loss</td><td>0.56105</td></tr></table><br/></div></div>"
            ]
          },
          "metadata": {}
        },
        {
          "output_type": "display_data",
          "data": {
            "text/plain": [
              "<IPython.core.display.HTML object>"
            ],
            "text/html": [
              " View run <strong style=\"color:#cdcd00\">RNN_Experiment_Final</strong> at: <a href='https://wandb.ai/prisha/hyperparameter-tuning_RNN_Final/runs/zra50bx5/workspace' target=\"_blank\">https://wandb.ai/prisha/hyperparameter-tuning_RNN_Final/runs/zra50bx5/workspace</a><br/>Synced 5 W&B file(s), 0 media file(s), 0 artifact file(s) and 0 other file(s)"
            ]
          },
          "metadata": {}
        },
        {
          "output_type": "display_data",
          "data": {
            "text/plain": [
              "<IPython.core.display.HTML object>"
            ],
            "text/html": [
              "Find logs at: <code>./wandb/run-20240328_094205-zra50bx5/logs</code>"
            ]
          },
          "metadata": {}
        }
      ]
    },
    {
      "cell_type": "code",
      "source": [
        "import torch\n",
        "import torch.nn as nn\n",
        "import torch.nn.functional as F\n",
        "wandb.init(project=\"hyperparameter-tuning_rnn_2_final\", name=\"RNN_Experiment_2_final\")\n",
        "\n",
        "class RNNLastOutput(nn.Module):\n",
        "    \"\"\" RNNLastOutput class for initializing the layers for the RNN model\n",
        "    that only picks the last output of the RNN layer.\n",
        "\n",
        "    Attributes:\n",
        "        embedding_dim (int): Dimensionality of the embedding layer\n",
        "        hidden_dim (int): Dimensionality of the hidden layer(s)\n",
        "        vocab_size (int): Size of the vocabulary used by Bag of Words\n",
        "\n",
        "    \"\"\"\n",
        "\n",
        "    def __init__(self, embedding_dim, hidden_dim, vocab_size):\n",
        "        super(RNNLastOutput, self).__init__()\n",
        "\n",
        "        self.embedding = nn.Embedding(vocab_size, embedding_dim, padding_idx=0)\n",
        "        self.rnn = nn.RNN(embedding_dim, hidden_dim, batch_first=True)\n",
        "        self.dense = nn.Linear(hidden_dim, 1)\n",
        "        self.sig = nn.Sigmoid()\n",
        "\n",
        "    def forward(self, x):\n",
        "        lengths = x[:, 0]  # Extract lengths from the input\n",
        "        reviews = x[:, 1:]  # Extract reviews from the input\n",
        "        embeds = self.embedding(reviews)\n",
        "        rnn_out, _ = self.rnn(embeds)\n",
        "        last_output = rnn_out[:, -1, :]  # Select the last time step's output\n",
        "        output = self.dense(last_output)\n",
        "        return self.sig(output.squeeze())\n",
        "\n",
        "class RNNMeanOutput(nn.Module):\n",
        "    \"\"\" RNNMeanOutput class for initializing the layers for the RNN model\n",
        "    that takes the mean of all outputs in the RNN layer.\n",
        "\n",
        "    Attributes:\n",
        "        embedding_dim (int): Dimensionality of the embedding layer\n",
        "        hidden_dim (int): Dimensionality of the hidden layer(s)\n",
        "        vocab_size (int): Size of the vocabulary used by Bag of Words\n",
        "\n",
        "    \"\"\"\n",
        "\n",
        "    def __init__(self, embedding_dim, hidden_dim, vocab_size):\n",
        "        super(RNNMeanOutput, self).__init__()\n",
        "\n",
        "        self.embedding = nn.Embedding(vocab_size, embedding_dim, padding_idx=0)\n",
        "        self.rnn = nn.RNN(embedding_dim, hidden_dim, batch_first=True)\n",
        "        self.dense = nn.Linear(hidden_dim, 1)\n",
        "        self.sig = nn.Sigmoid()\n",
        "\n",
        "    def forward(self, x):\n",
        "        lengths = x[:, 0]  # Extract lengths from the input\n",
        "        reviews = x[:, 1:]  # Extract reviews from the input\n",
        "        embeds = self.embedding(reviews)\n",
        "        rnn_out, _ = self.rnn(embeds)\n",
        "        mean_output = torch.mean(rnn_out, dim=1)\n",
        "        output = self.dense(mean_output)\n",
        "        return self.sig(output.squeeze())\n",
        "\n",
        "# Initialize the RNN models\n",
        "model_last_output = RNNLastOutput(embedding_dim=32, hidden_dim=100, vocab_size=5000).to(device)\n",
        "model_mean_output = RNNMeanOutput(embedding_dim=32, hidden_dim=100, vocab_size=5000).to(device)\n",
        "\n",
        "# Define optimizer and loss function\n",
        "optimizer = optimizer = torch.optim.Adam(model_last_output.parameters())\n",
        "loss_fn = torch.nn.BCELoss()\n",
        "\n",
        "# Train and evaluate the RNN model with last output\n",
        "train(model_last_output, train_sample_dl, val_sample_dl, 15, optimizer, loss_fn, device)\n",
        "accuracy_last_output, avg_loss_last_output = evaluate(model_last_output, test_sample_dl, loss_fn, device)\n",
        "print(\"RNN with last output: Accuracy =\", accuracy_last_output, \", Avg Loss =\", avg_loss_last_output)\n",
        "optimizer = torch.optim.Adam(model_mean_output.parameters())\n",
        "\n",
        "# Train and evaluate the RNN model with mean output\n",
        "train(model_mean_output, train_sample_dl, val_sample_dl, 15, optimizer, loss_fn, device)\n",
        "accuracy_mean_output, avg_loss_mean_output = evaluate(model_mean_output, test_sample_dl, loss_fn, device)\n",
        "print(\"RNN with mean output: Accuracy =\", accuracy_mean_output, \", Avg Loss =\", avg_loss_mean_output)\n"
      ],
      "metadata": {
        "colab": {
          "base_uri": "https://localhost:8080/",
          "height": 659
        },
        "id": "eNY9i0LoYd0p",
        "outputId": "36520ef5-ab10-4c5a-ef1b-fd8c97234a65"
      },
      "execution_count": 38,
      "outputs": [
        {
          "output_type": "display_data",
          "data": {
            "text/plain": [
              "<IPython.core.display.HTML object>"
            ],
            "text/html": [
              "Tracking run with wandb version 0.16.5"
            ]
          },
          "metadata": {}
        },
        {
          "output_type": "display_data",
          "data": {
            "text/plain": [
              "<IPython.core.display.HTML object>"
            ],
            "text/html": [
              "Run data is saved locally in <code>/content/wandb/run-20240328_094237-kwkvmeyn</code>"
            ]
          },
          "metadata": {}
        },
        {
          "output_type": "display_data",
          "data": {
            "text/plain": [
              "<IPython.core.display.HTML object>"
            ],
            "text/html": [
              "Syncing run <strong><a href='https://wandb.ai/prisha/hyperparameter-tuning_rnn_2_final/runs/kwkvmeyn/workspace' target=\"_blank\">RNN_Experiment_2_final</a></strong> to <a href='https://wandb.ai/prisha/hyperparameter-tuning_rnn_2_final' target=\"_blank\">Weights & Biases</a> (<a href='https://wandb.me/run' target=\"_blank\">docs</a>)<br/>"
            ]
          },
          "metadata": {}
        },
        {
          "output_type": "display_data",
          "data": {
            "text/plain": [
              "<IPython.core.display.HTML object>"
            ],
            "text/html": [
              " View project at <a href='https://wandb.ai/prisha/hyperparameter-tuning_rnn_2_final' target=\"_blank\">https://wandb.ai/prisha/hyperparameter-tuning_rnn_2_final</a>"
            ]
          },
          "metadata": {}
        },
        {
          "output_type": "display_data",
          "data": {
            "text/plain": [
              "<IPython.core.display.HTML object>"
            ],
            "text/html": [
              " View run at <a href='https://wandb.ai/prisha/hyperparameter-tuning_rnn_2_final/runs/kwkvmeyn/workspace' target=\"_blank\">https://wandb.ai/prisha/hyperparameter-tuning_rnn_2_final/runs/kwkvmeyn/workspace</a>"
            ]
          },
          "metadata": {}
        },
        {
          "output_type": "stream",
          "name": "stdout",
          "text": [
            "Epoch: 1, Train Loss: 0.6939, Val Loss: 0.6926, Val Accuracy: 0.5072\n",
            "Epoch: 2, Train Loss: 0.6933, Val Loss: 0.6928, Val Accuracy: 0.5067\n",
            "Epoch: 3, Train Loss: 0.6929, Val Loss: 0.6928, Val Accuracy: 0.5058\n",
            "Epoch: 4, Train Loss: 0.6925, Val Loss: 0.6929, Val Accuracy: 0.5058\n",
            "Epoch: 5, Train Loss: 0.6924, Val Loss: 0.6931, Val Accuracy: 0.5067\n",
            "Epoch: 6, Train Loss: 0.6920, Val Loss: 0.6931, Val Accuracy: 0.5067\n",
            "Epoch: 7, Train Loss: 0.6925, Val Loss: 0.6932, Val Accuracy: 0.5077\n",
            "Epoch: 8, Train Loss: 0.6921, Val Loss: 0.6933, Val Accuracy: 0.5040\n",
            "Epoch: 9, Train Loss: 0.6922, Val Loss: 0.6934, Val Accuracy: 0.5063\n",
            "Epoch: 10, Train Loss: 0.6918, Val Loss: 0.6932, Val Accuracy: 0.5072\n",
            "Epoch: 11, Train Loss: 0.6915, Val Loss: 0.6934, Val Accuracy: 0.5049\n",
            "Epoch: 12, Train Loss: 0.6918, Val Loss: 0.6935, Val Accuracy: 0.5072\n",
            "Epoch: 13, Train Loss: 0.6916, Val Loss: 0.6944, Val Accuracy: 0.5021\n",
            "Epoch: 14, Train Loss: 0.6921, Val Loss: 0.6933, Val Accuracy: 0.5063\n",
            "Epoch: 15, Train Loss: 0.6916, Val Loss: 0.6938, Val Accuracy: 0.5100\n",
            "RNN with last output: Accuracy = 0.49513822688274545 , Avg Loss = 0.6939213815189543\n",
            "Epoch: 1, Train Loss: 0.6919, Val Loss: 0.6888, Val Accuracy: 0.5077\n",
            "Epoch: 2, Train Loss: 0.6874, Val Loss: 0.6819, Val Accuracy: 0.5491\n",
            "Epoch: 3, Train Loss: 0.6776, Val Loss: 0.6737, Val Accuracy: 0.5938\n",
            "Epoch: 4, Train Loss: 0.6616, Val Loss: 0.6465, Val Accuracy: 0.6468\n",
            "Epoch: 5, Train Loss: 0.6265, Val Loss: 1.2661, Val Accuracy: 0.6249\n",
            "Epoch: 6, Train Loss: 0.6469, Val Loss: 0.6187, Val Accuracy: 0.7231\n",
            "Epoch: 7, Train Loss: 0.5930, Val Loss: 1.1250, Val Accuracy: 0.6580\n",
            "Epoch: 8, Train Loss: 0.9479, Val Loss: 0.6047, Val Accuracy: 0.6659\n",
            "Epoch: 9, Train Loss: 0.6528, Val Loss: 0.6585, Val Accuracy: 0.7376\n",
            "Epoch: 10, Train Loss: 0.6481, Val Loss: 0.6295, Val Accuracy: 0.7357\n",
            "Epoch: 11, Train Loss: 0.5769, Val Loss: 0.5680, Val Accuracy: 0.7096\n",
            "Epoch: 12, Train Loss: 0.5954, Val Loss: 0.6885, Val Accuracy: 0.6217\n",
            "Epoch: 13, Train Loss: 0.6302, Val Loss: 0.6245, Val Accuracy: 0.6575\n",
            "Epoch: 14, Train Loss: 0.6123, Val Loss: 0.6177, Val Accuracy: 0.6594\n",
            "Epoch: 15, Train Loss: 0.5853, Val Loss: 0.5816, Val Accuracy: 0.7138\n",
            "RNN with mean output: Accuracy = 0.6957102001906578 , Avg Loss = 0.5873277300880069\n"
          ]
        }
      ]
    },
    {
      "cell_type": "markdown",
      "metadata": {
        "id": "G-POCnVz12GE"
      },
      "source": [
        "LSTM Outperforms RNN\n",
        "LSTM (Long Short-Term Memory) performed better than the basic RNN (Recurrent Neural Network) architecture due to its ability to mitigate the vanishing gradient problem and better capture long-range dependencies in sequential data. In sentiment analysis of movie reviews, where understanding the context and sentiment over longer sequences is crucial."
      ]
    },
    {
      "cell_type": "markdown",
      "metadata": {
        "id": "cU31AW4f1-gs"
      },
      "source": [
        "When experimenting with different methods of handling RNN outputs, it was observed that taking the mean of all outputs in the RNN layer yielded better results compared to considering only the last output. This improvement in accuracy, reaching approximately 70%, can be explained by the fact that averaging the outputs helps in aggregating information from all time steps, providing a more comprehensive representation of the input sequence and reducing the impact of noisy or irrelevant information"
      ]
    },
    {
      "cell_type": "markdown",
      "metadata": {
        "id": "ssjr4H7i2Cnu"
      },
      "source": [
        "Incorporating Stemming/Lemmatization\n",
        "Incorporating stemming or lemmatization during text preprocessing resulted in a more compact and normalized vocabulary, reducing the number of unique words and normalizing variations of the same word. This process aids in generalization by treating different forms of a word as identical, thus improving the model's ability to recognize patterns and sentiments across various word forms and enhancing overall performance"
      ]
    },
    {
      "cell_type": "markdown",
      "source": [
        "![image.png](data:image/png;base64,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)"
      ],
      "metadata": {
        "id": "nl0oUAkzcbyH"
      }
    },
    {
      "cell_type": "code",
      "source": [],
      "metadata": {
        "id": "BPflydx5Y5ys"
      },
      "execution_count": null,
      "outputs": []
    }
  ],
  "metadata": {
    "accelerator": "GPU",
    "colab": {
      "gpuType": "T4",
      "provenance": []
    },
    "kernelspec": {
      "display_name": "Python 3",
      "name": "python3"
    },
    "language_info": {
      "name": "python"
    },
    "widgets": {
      "application/vnd.jupyter.widget-state+json": {
        "bdfdc5bff30646f1b55f598741924c19": {
          "model_module": "@jupyter-widgets/controls",
          "model_name": "VBoxModel",
          "model_module_version": "1.5.0",
          "state": {
            "_dom_classes": [],
            "_model_module": "@jupyter-widgets/controls",
            "_model_module_version": "1.5.0",
            "_model_name": "VBoxModel",
            "_view_count": null,
            "_view_module": "@jupyter-widgets/controls",
            "_view_module_version": "1.5.0",
            "_view_name": "VBoxView",
            "box_style": "",
            "children": [
              "IPY_MODEL_59a9217d809a4d3e8f04ae45fe60a5fa",
              "IPY_MODEL_971927aa67d34c908e1a924eea06ec6b"
            ],
            "layout": "IPY_MODEL_da7762d938b4467aa18831c78f795515"
          }
        },
        "59a9217d809a4d3e8f04ae45fe60a5fa": {
          "model_module": "@jupyter-widgets/controls",
          "model_name": "LabelModel",
          "model_module_version": "1.5.0",
          "state": {
            "_dom_classes": [],
            "_model_module": "@jupyter-widgets/controls",
            "_model_module_version": "1.5.0",
            "_model_name": "LabelModel",
            "_view_count": null,
            "_view_module": "@jupyter-widgets/controls",
            "_view_module_version": "1.5.0",
            "_view_name": "LabelView",
            "description": "",
            "description_tooltip": null,
            "layout": "IPY_MODEL_097cc4ab79544024a2d9a343f53151bf",
            "placeholder": "​",
            "style": "IPY_MODEL_3df64503e6c646eebc0c5b8525ea8ace",
            "value": "0.011 MB of 0.011 MB uploaded\r"
          }
        },
        "971927aa67d34c908e1a924eea06ec6b": {
          "model_module": "@jupyter-widgets/controls",
          "model_name": "FloatProgressModel",
          "model_module_version": "1.5.0",
          "state": {
            "_dom_classes": [],
            "_model_module": "@jupyter-widgets/controls",
            "_model_module_version": "1.5.0",
            "_model_name": "FloatProgressModel",
            "_view_count": null,
            "_view_module": "@jupyter-widgets/controls",
            "_view_module_version": "1.5.0",
            "_view_name": "ProgressView",
            "bar_style": "",
            "description": "",
            "description_tooltip": null,
            "layout": "IPY_MODEL_76c2a1f5edbe4b0db50b6e1a74b79bd4",
            "max": 1,
            "min": 0,
            "orientation": "horizontal",
            "style": "IPY_MODEL_ad6c263d33544e06ba27eaee0b73ef5a",
            "value": 1
          }
        },
        "da7762d938b4467aa18831c78f795515": {
          "model_module": "@jupyter-widgets/base",
          "model_name": "LayoutModel",
          "model_module_version": "1.2.0",
          "state": {
            "_model_module": "@jupyter-widgets/base",
            "_model_module_version": "1.2.0",
            "_model_name": "LayoutModel",
            "_view_count": null,
            "_view_module": "@jupyter-widgets/base",
            "_view_module_version": "1.2.0",
            "_view_name": "LayoutView",
            "align_content": null,
            "align_items": null,
            "align_self": null,
            "border": null,
            "bottom": null,
            "display": null,
            "flex": null,
            "flex_flow": null,
            "grid_area": null,
            "grid_auto_columns": null,
            "grid_auto_flow": null,
            "grid_auto_rows": null,
            "grid_column": null,
            "grid_gap": null,
            "grid_row": null,
            "grid_template_areas": null,
            "grid_template_columns": null,
            "grid_template_rows": null,
            "height": null,
            "justify_content": null,
            "justify_items": null,
            "left": null,
            "margin": null,
            "max_height": null,
            "max_width": null,
            "min_height": null,
            "min_width": null,
            "object_fit": null,
            "object_position": null,
            "order": null,
            "overflow": null,
            "overflow_x": null,
            "overflow_y": null,
            "padding": null,
            "right": null,
            "top": null,
            "visibility": null,
            "width": null
          }
        },
        "097cc4ab79544024a2d9a343f53151bf": {
          "model_module": "@jupyter-widgets/base",
          "model_name": "LayoutModel",
          "model_module_version": "1.2.0",
          "state": {
            "_model_module": "@jupyter-widgets/base",
            "_model_module_version": "1.2.0",
            "_model_name": "LayoutModel",
            "_view_count": null,
            "_view_module": "@jupyter-widgets/base",
            "_view_module_version": "1.2.0",
            "_view_name": "LayoutView",
            "align_content": null,
            "align_items": null,
            "align_self": null,
            "border": null,
            "bottom": null,
            "display": null,
            "flex": null,
            "flex_flow": null,
            "grid_area": null,
            "grid_auto_columns": null,
            "grid_auto_flow": null,
            "grid_auto_rows": null,
            "grid_column": null,
            "grid_gap": null,
            "grid_row": null,
            "grid_template_areas": null,
            "grid_template_columns": null,
            "grid_template_rows": null,
            "height": null,
            "justify_content": null,
            "justify_items": null,
            "left": null,
            "margin": null,
            "max_height": null,
            "max_width": null,
            "min_height": null,
            "min_width": null,
            "object_fit": null,
            "object_position": null,
            "order": null,
            "overflow": null,
            "overflow_x": null,
            "overflow_y": null,
            "padding": null,
            "right": null,
            "top": null,
            "visibility": null,
            "width": null
          }
        },
        "3df64503e6c646eebc0c5b8525ea8ace": {
          "model_module": "@jupyter-widgets/controls",
          "model_name": "DescriptionStyleModel",
          "model_module_version": "1.5.0",
          "state": {
            "_model_module": "@jupyter-widgets/controls",
            "_model_module_version": "1.5.0",
            "_model_name": "DescriptionStyleModel",
            "_view_count": null,
            "_view_module": "@jupyter-widgets/base",
            "_view_module_version": "1.2.0",
            "_view_name": "StyleView",
            "description_width": ""
          }
        },
        "76c2a1f5edbe4b0db50b6e1a74b79bd4": {
          "model_module": "@jupyter-widgets/base",
          "model_name": "LayoutModel",
          "model_module_version": "1.2.0",
          "state": {
            "_model_module": "@jupyter-widgets/base",
            "_model_module_version": "1.2.0",
            "_model_name": "LayoutModel",
            "_view_count": null,
            "_view_module": "@jupyter-widgets/base",
            "_view_module_version": "1.2.0",
            "_view_name": "LayoutView",
            "align_content": null,
            "align_items": null,
            "align_self": null,
            "border": null,
            "bottom": null,
            "display": null,
            "flex": null,
            "flex_flow": null,
            "grid_area": null,
            "grid_auto_columns": null,
            "grid_auto_flow": null,
            "grid_auto_rows": null,
            "grid_column": null,
            "grid_gap": null,
            "grid_row": null,
            "grid_template_areas": null,
            "grid_template_columns": null,
            "grid_template_rows": null,
            "height": null,
            "justify_content": null,
            "justify_items": null,
            "left": null,
            "margin": null,
            "max_height": null,
            "max_width": null,
            "min_height": null,
            "min_width": null,
            "object_fit": null,
            "object_position": null,
            "order": null,
            "overflow": null,
            "overflow_x": null,
            "overflow_y": null,
            "padding": null,
            "right": null,
            "top": null,
            "visibility": null,
            "width": null
          }
        },
        "ad6c263d33544e06ba27eaee0b73ef5a": {
          "model_module": "@jupyter-widgets/controls",
          "model_name": "ProgressStyleModel",
          "model_module_version": "1.5.0",
          "state": {
            "_model_module": "@jupyter-widgets/controls",
            "_model_module_version": "1.5.0",
            "_model_name": "ProgressStyleModel",
            "_view_count": null,
            "_view_module": "@jupyter-widgets/base",
            "_view_module_version": "1.2.0",
            "_view_name": "StyleView",
            "bar_color": null,
            "description_width": ""
          }
        },
        "c3642ce65c9e45b4b0f8aca3dbfd9f86": {
          "model_module": "@jupyter-widgets/controls",
          "model_name": "VBoxModel",
          "model_module_version": "1.5.0",
          "state": {
            "_dom_classes": [],
            "_model_module": "@jupyter-widgets/controls",
            "_model_module_version": "1.5.0",
            "_model_name": "VBoxModel",
            "_view_count": null,
            "_view_module": "@jupyter-widgets/controls",
            "_view_module_version": "1.5.0",
            "_view_name": "VBoxView",
            "box_style": "",
            "children": [
              "IPY_MODEL_a9206fb328e74e83917a1dfd3fedc6c2",
              "IPY_MODEL_d13abfc46eca4006b3276a5e31b5b776"
            ],
            "layout": "IPY_MODEL_ce0ee308c3d34dd7bb712c11a3c79ecb"
          }
        },
        "a9206fb328e74e83917a1dfd3fedc6c2": {
          "model_module": "@jupyter-widgets/controls",
          "model_name": "LabelModel",
          "model_module_version": "1.5.0",
          "state": {
            "_dom_classes": [],
            "_model_module": "@jupyter-widgets/controls",
            "_model_module_version": "1.5.0",
            "_model_name": "LabelModel",
            "_view_count": null,
            "_view_module": "@jupyter-widgets/controls",
            "_view_module_version": "1.5.0",
            "_view_name": "LabelView",
            "description": "",
            "description_tooltip": null,
            "layout": "IPY_MODEL_90f1f25e8b174b1c89faa0f1cd43149b",
            "placeholder": "​",
            "style": "IPY_MODEL_54ef56d1398741118048d072e2b2c2b6",
            "value": "0.012 MB of 0.012 MB uploaded\r"
          }
        },
        "d13abfc46eca4006b3276a5e31b5b776": {
          "model_module": "@jupyter-widgets/controls",
          "model_name": "FloatProgressModel",
          "model_module_version": "1.5.0",
          "state": {
            "_dom_classes": [],
            "_model_module": "@jupyter-widgets/controls",
            "_model_module_version": "1.5.0",
            "_model_name": "FloatProgressModel",
            "_view_count": null,
            "_view_module": "@jupyter-widgets/controls",
            "_view_module_version": "1.5.0",
            "_view_name": "ProgressView",
            "bar_style": "",
            "description": "",
            "description_tooltip": null,
            "layout": "IPY_MODEL_b3c8baef2cae4305a9c4bbd7563218da",
            "max": 1,
            "min": 0,
            "orientation": "horizontal",
            "style": "IPY_MODEL_2248825b394540789c50915b0de85a0e",
            "value": 1
          }
        },
        "ce0ee308c3d34dd7bb712c11a3c79ecb": {
          "model_module": "@jupyter-widgets/base",
          "model_name": "LayoutModel",
          "model_module_version": "1.2.0",
          "state": {
            "_model_module": "@jupyter-widgets/base",
            "_model_module_version": "1.2.0",
            "_model_name": "LayoutModel",
            "_view_count": null,
            "_view_module": "@jupyter-widgets/base",
            "_view_module_version": "1.2.0",
            "_view_name": "LayoutView",
            "align_content": null,
            "align_items": null,
            "align_self": null,
            "border": null,
            "bottom": null,
            "display": null,
            "flex": null,
            "flex_flow": null,
            "grid_area": null,
            "grid_auto_columns": null,
            "grid_auto_flow": null,
            "grid_auto_rows": null,
            "grid_column": null,
            "grid_gap": null,
            "grid_row": null,
            "grid_template_areas": null,
            "grid_template_columns": null,
            "grid_template_rows": null,
            "height": null,
            "justify_content": null,
            "justify_items": null,
            "left": null,
            "margin": null,
            "max_height": null,
            "max_width": null,
            "min_height": null,
            "min_width": null,
            "object_fit": null,
            "object_position": null,
            "order": null,
            "overflow": null,
            "overflow_x": null,
            "overflow_y": null,
            "padding": null,
            "right": null,
            "top": null,
            "visibility": null,
            "width": null
          }
        },
        "90f1f25e8b174b1c89faa0f1cd43149b": {
          "model_module": "@jupyter-widgets/base",
          "model_name": "LayoutModel",
          "model_module_version": "1.2.0",
          "state": {
            "_model_module": "@jupyter-widgets/base",
            "_model_module_version": "1.2.0",
            "_model_name": "LayoutModel",
            "_view_count": null,
            "_view_module": "@jupyter-widgets/base",
            "_view_module_version": "1.2.0",
            "_view_name": "LayoutView",
            "align_content": null,
            "align_items": null,
            "align_self": null,
            "border": null,
            "bottom": null,
            "display": null,
            "flex": null,
            "flex_flow": null,
            "grid_area": null,
            "grid_auto_columns": null,
            "grid_auto_flow": null,
            "grid_auto_rows": null,
            "grid_column": null,
            "grid_gap": null,
            "grid_row": null,
            "grid_template_areas": null,
            "grid_template_columns": null,
            "grid_template_rows": null,
            "height": null,
            "justify_content": null,
            "justify_items": null,
            "left": null,
            "margin": null,
            "max_height": null,
            "max_width": null,
            "min_height": null,
            "min_width": null,
            "object_fit": null,
            "object_position": null,
            "order": null,
            "overflow": null,
            "overflow_x": null,
            "overflow_y": null,
            "padding": null,
            "right": null,
            "top": null,
            "visibility": null,
            "width": null
          }
        },
        "54ef56d1398741118048d072e2b2c2b6": {
          "model_module": "@jupyter-widgets/controls",
          "model_name": "DescriptionStyleModel",
          "model_module_version": "1.5.0",
          "state": {
            "_model_module": "@jupyter-widgets/controls",
            "_model_module_version": "1.5.0",
            "_model_name": "DescriptionStyleModel",
            "_view_count": null,
            "_view_module": "@jupyter-widgets/base",
            "_view_module_version": "1.2.0",
            "_view_name": "StyleView",
            "description_width": ""
          }
        },
        "b3c8baef2cae4305a9c4bbd7563218da": {
          "model_module": "@jupyter-widgets/base",
          "model_name": "LayoutModel",
          "model_module_version": "1.2.0",
          "state": {
            "_model_module": "@jupyter-widgets/base",
            "_model_module_version": "1.2.0",
            "_model_name": "LayoutModel",
            "_view_count": null,
            "_view_module": "@jupyter-widgets/base",
            "_view_module_version": "1.2.0",
            "_view_name": "LayoutView",
            "align_content": null,
            "align_items": null,
            "align_self": null,
            "border": null,
            "bottom": null,
            "display": null,
            "flex": null,
            "flex_flow": null,
            "grid_area": null,
            "grid_auto_columns": null,
            "grid_auto_flow": null,
            "grid_auto_rows": null,
            "grid_column": null,
            "grid_gap": null,
            "grid_row": null,
            "grid_template_areas": null,
            "grid_template_columns": null,
            "grid_template_rows": null,
            "height": null,
            "justify_content": null,
            "justify_items": null,
            "left": null,
            "margin": null,
            "max_height": null,
            "max_width": null,
            "min_height": null,
            "min_width": null,
            "object_fit": null,
            "object_position": null,
            "order": null,
            "overflow": null,
            "overflow_x": null,
            "overflow_y": null,
            "padding": null,
            "right": null,
            "top": null,
            "visibility": null,
            "width": null
          }
        },
        "2248825b394540789c50915b0de85a0e": {
          "model_module": "@jupyter-widgets/controls",
          "model_name": "ProgressStyleModel",
          "model_module_version": "1.5.0",
          "state": {
            "_model_module": "@jupyter-widgets/controls",
            "_model_module_version": "1.5.0",
            "_model_name": "ProgressStyleModel",
            "_view_count": null,
            "_view_module": "@jupyter-widgets/base",
            "_view_module_version": "1.2.0",
            "_view_name": "StyleView",
            "bar_color": null,
            "description_width": ""
          }
        },
        "0133cc8cfe5a4412a908710ac995fd43": {
          "model_module": "@jupyter-widgets/controls",
          "model_name": "VBoxModel",
          "model_module_version": "1.5.0",
          "state": {
            "_dom_classes": [],
            "_model_module": "@jupyter-widgets/controls",
            "_model_module_version": "1.5.0",
            "_model_name": "VBoxModel",
            "_view_count": null,
            "_view_module": "@jupyter-widgets/controls",
            "_view_module_version": "1.5.0",
            "_view_name": "VBoxView",
            "box_style": "",
            "children": [
              "IPY_MODEL_91af47b015a940c6bebed132f79d2331",
              "IPY_MODEL_311036ff31d441499ba62b2cec0682fb"
            ],
            "layout": "IPY_MODEL_2de2b065ba1e45a18fb22de8d59374aa"
          }
        },
        "91af47b015a940c6bebed132f79d2331": {
          "model_module": "@jupyter-widgets/controls",
          "model_name": "LabelModel",
          "model_module_version": "1.5.0",
          "state": {
            "_dom_classes": [],
            "_model_module": "@jupyter-widgets/controls",
            "_model_module_version": "1.5.0",
            "_model_name": "LabelModel",
            "_view_count": null,
            "_view_module": "@jupyter-widgets/controls",
            "_view_module_version": "1.5.0",
            "_view_name": "LabelView",
            "description": "",
            "description_tooltip": null,
            "layout": "IPY_MODEL_ea9319b7279d4f1d99f6dea94d262b01",
            "placeholder": "​",
            "style": "IPY_MODEL_dcefb69474624507bc04da25118c8db7",
            "value": "0.012 MB of 0.012 MB uploaded\r"
          }
        },
        "311036ff31d441499ba62b2cec0682fb": {
          "model_module": "@jupyter-widgets/controls",
          "model_name": "FloatProgressModel",
          "model_module_version": "1.5.0",
          "state": {
            "_dom_classes": [],
            "_model_module": "@jupyter-widgets/controls",
            "_model_module_version": "1.5.0",
            "_model_name": "FloatProgressModel",
            "_view_count": null,
            "_view_module": "@jupyter-widgets/controls",
            "_view_module_version": "1.5.0",
            "_view_name": "ProgressView",
            "bar_style": "",
            "description": "",
            "description_tooltip": null,
            "layout": "IPY_MODEL_d5a3790d472e490fa8939e429306a87d",
            "max": 1,
            "min": 0,
            "orientation": "horizontal",
            "style": "IPY_MODEL_9a35383f176a474c946bcfe1b92bf071",
            "value": 1
          }
        },
        "2de2b065ba1e45a18fb22de8d59374aa": {
          "model_module": "@jupyter-widgets/base",
          "model_name": "LayoutModel",
          "model_module_version": "1.2.0",
          "state": {
            "_model_module": "@jupyter-widgets/base",
            "_model_module_version": "1.2.0",
            "_model_name": "LayoutModel",
            "_view_count": null,
            "_view_module": "@jupyter-widgets/base",
            "_view_module_version": "1.2.0",
            "_view_name": "LayoutView",
            "align_content": null,
            "align_items": null,
            "align_self": null,
            "border": null,
            "bottom": null,
            "display": null,
            "flex": null,
            "flex_flow": null,
            "grid_area": null,
            "grid_auto_columns": null,
            "grid_auto_flow": null,
            "grid_auto_rows": null,
            "grid_column": null,
            "grid_gap": null,
            "grid_row": null,
            "grid_template_areas": null,
            "grid_template_columns": null,
            "grid_template_rows": null,
            "height": null,
            "justify_content": null,
            "justify_items": null,
            "left": null,
            "margin": null,
            "max_height": null,
            "max_width": null,
            "min_height": null,
            "min_width": null,
            "object_fit": null,
            "object_position": null,
            "order": null,
            "overflow": null,
            "overflow_x": null,
            "overflow_y": null,
            "padding": null,
            "right": null,
            "top": null,
            "visibility": null,
            "width": null
          }
        },
        "ea9319b7279d4f1d99f6dea94d262b01": {
          "model_module": "@jupyter-widgets/base",
          "model_name": "LayoutModel",
          "model_module_version": "1.2.0",
          "state": {
            "_model_module": "@jupyter-widgets/base",
            "_model_module_version": "1.2.0",
            "_model_name": "LayoutModel",
            "_view_count": null,
            "_view_module": "@jupyter-widgets/base",
            "_view_module_version": "1.2.0",
            "_view_name": "LayoutView",
            "align_content": null,
            "align_items": null,
            "align_self": null,
            "border": null,
            "bottom": null,
            "display": null,
            "flex": null,
            "flex_flow": null,
            "grid_area": null,
            "grid_auto_columns": null,
            "grid_auto_flow": null,
            "grid_auto_rows": null,
            "grid_column": null,
            "grid_gap": null,
            "grid_row": null,
            "grid_template_areas": null,
            "grid_template_columns": null,
            "grid_template_rows": null,
            "height": null,
            "justify_content": null,
            "justify_items": null,
            "left": null,
            "margin": null,
            "max_height": null,
            "max_width": null,
            "min_height": null,
            "min_width": null,
            "object_fit": null,
            "object_position": null,
            "order": null,
            "overflow": null,
            "overflow_x": null,
            "overflow_y": null,
            "padding": null,
            "right": null,
            "top": null,
            "visibility": null,
            "width": null
          }
        },
        "dcefb69474624507bc04da25118c8db7": {
          "model_module": "@jupyter-widgets/controls",
          "model_name": "DescriptionStyleModel",
          "model_module_version": "1.5.0",
          "state": {
            "_model_module": "@jupyter-widgets/controls",
            "_model_module_version": "1.5.0",
            "_model_name": "DescriptionStyleModel",
            "_view_count": null,
            "_view_module": "@jupyter-widgets/base",
            "_view_module_version": "1.2.0",
            "_view_name": "StyleView",
            "description_width": ""
          }
        },
        "d5a3790d472e490fa8939e429306a87d": {
          "model_module": "@jupyter-widgets/base",
          "model_name": "LayoutModel",
          "model_module_version": "1.2.0",
          "state": {
            "_model_module": "@jupyter-widgets/base",
            "_model_module_version": "1.2.0",
            "_model_name": "LayoutModel",
            "_view_count": null,
            "_view_module": "@jupyter-widgets/base",
            "_view_module_version": "1.2.0",
            "_view_name": "LayoutView",
            "align_content": null,
            "align_items": null,
            "align_self": null,
            "border": null,
            "bottom": null,
            "display": null,
            "flex": null,
            "flex_flow": null,
            "grid_area": null,
            "grid_auto_columns": null,
            "grid_auto_flow": null,
            "grid_auto_rows": null,
            "grid_column": null,
            "grid_gap": null,
            "grid_row": null,
            "grid_template_areas": null,
            "grid_template_columns": null,
            "grid_template_rows": null,
            "height": null,
            "justify_content": null,
            "justify_items": null,
            "left": null,
            "margin": null,
            "max_height": null,
            "max_width": null,
            "min_height": null,
            "min_width": null,
            "object_fit": null,
            "object_position": null,
            "order": null,
            "overflow": null,
            "overflow_x": null,
            "overflow_y": null,
            "padding": null,
            "right": null,
            "top": null,
            "visibility": null,
            "width": null
          }
        },
        "9a35383f176a474c946bcfe1b92bf071": {
          "model_module": "@jupyter-widgets/controls",
          "model_name": "ProgressStyleModel",
          "model_module_version": "1.5.0",
          "state": {
            "_model_module": "@jupyter-widgets/controls",
            "_model_module_version": "1.5.0",
            "_model_name": "ProgressStyleModel",
            "_view_count": null,
            "_view_module": "@jupyter-widgets/base",
            "_view_module_version": "1.2.0",
            "_view_name": "StyleView",
            "bar_color": null,
            "description_width": ""
          }
        },
        "13dcd84ceb354f39876c40d006754800": {
          "model_module": "@jupyter-widgets/controls",
          "model_name": "VBoxModel",
          "model_module_version": "1.5.0",
          "state": {
            "_dom_classes": [],
            "_model_module": "@jupyter-widgets/controls",
            "_model_module_version": "1.5.0",
            "_model_name": "VBoxModel",
            "_view_count": null,
            "_view_module": "@jupyter-widgets/controls",
            "_view_module_version": "1.5.0",
            "_view_name": "VBoxView",
            "box_style": "",
            "children": [
              "IPY_MODEL_173c3ada35ae48b49798544916dc7467",
              "IPY_MODEL_787129384f7a49b0b8973545e35602e8"
            ],
            "layout": "IPY_MODEL_ce7275c9aa3a4d85a2fe67bfb3828279"
          }
        },
        "173c3ada35ae48b49798544916dc7467": {
          "model_module": "@jupyter-widgets/controls",
          "model_name": "LabelModel",
          "model_module_version": "1.5.0",
          "state": {
            "_dom_classes": [],
            "_model_module": "@jupyter-widgets/controls",
            "_model_module_version": "1.5.0",
            "_model_name": "LabelModel",
            "_view_count": null,
            "_view_module": "@jupyter-widgets/controls",
            "_view_module_version": "1.5.0",
            "_view_name": "LabelView",
            "description": "",
            "description_tooltip": null,
            "layout": "IPY_MODEL_d80d6fd2b95d47d48e5dfb56d152962e",
            "placeholder": "​",
            "style": "IPY_MODEL_d0c044d5af244f8ba6d9bcc72f749a75",
            "value": "0.012 MB of 0.012 MB uploaded\r"
          }
        },
        "787129384f7a49b0b8973545e35602e8": {
          "model_module": "@jupyter-widgets/controls",
          "model_name": "FloatProgressModel",
          "model_module_version": "1.5.0",
          "state": {
            "_dom_classes": [],
            "_model_module": "@jupyter-widgets/controls",
            "_model_module_version": "1.5.0",
            "_model_name": "FloatProgressModel",
            "_view_count": null,
            "_view_module": "@jupyter-widgets/controls",
            "_view_module_version": "1.5.0",
            "_view_name": "ProgressView",
            "bar_style": "",
            "description": "",
            "description_tooltip": null,
            "layout": "IPY_MODEL_45add6b8845b4562a6b59215d75bedd1",
            "max": 1,
            "min": 0,
            "orientation": "horizontal",
            "style": "IPY_MODEL_f946b74f990a4e58ab614c731430a671",
            "value": 1
          }
        },
        "ce7275c9aa3a4d85a2fe67bfb3828279": {
          "model_module": "@jupyter-widgets/base",
          "model_name": "LayoutModel",
          "model_module_version": "1.2.0",
          "state": {
            "_model_module": "@jupyter-widgets/base",
            "_model_module_version": "1.2.0",
            "_model_name": "LayoutModel",
            "_view_count": null,
            "_view_module": "@jupyter-widgets/base",
            "_view_module_version": "1.2.0",
            "_view_name": "LayoutView",
            "align_content": null,
            "align_items": null,
            "align_self": null,
            "border": null,
            "bottom": null,
            "display": null,
            "flex": null,
            "flex_flow": null,
            "grid_area": null,
            "grid_auto_columns": null,
            "grid_auto_flow": null,
            "grid_auto_rows": null,
            "grid_column": null,
            "grid_gap": null,
            "grid_row": null,
            "grid_template_areas": null,
            "grid_template_columns": null,
            "grid_template_rows": null,
            "height": null,
            "justify_content": null,
            "justify_items": null,
            "left": null,
            "margin": null,
            "max_height": null,
            "max_width": null,
            "min_height": null,
            "min_width": null,
            "object_fit": null,
            "object_position": null,
            "order": null,
            "overflow": null,
            "overflow_x": null,
            "overflow_y": null,
            "padding": null,
            "right": null,
            "top": null,
            "visibility": null,
            "width": null
          }
        },
        "d80d6fd2b95d47d48e5dfb56d152962e": {
          "model_module": "@jupyter-widgets/base",
          "model_name": "LayoutModel",
          "model_module_version": "1.2.0",
          "state": {
            "_model_module": "@jupyter-widgets/base",
            "_model_module_version": "1.2.0",
            "_model_name": "LayoutModel",
            "_view_count": null,
            "_view_module": "@jupyter-widgets/base",
            "_view_module_version": "1.2.0",
            "_view_name": "LayoutView",
            "align_content": null,
            "align_items": null,
            "align_self": null,
            "border": null,
            "bottom": null,
            "display": null,
            "flex": null,
            "flex_flow": null,
            "grid_area": null,
            "grid_auto_columns": null,
            "grid_auto_flow": null,
            "grid_auto_rows": null,
            "grid_column": null,
            "grid_gap": null,
            "grid_row": null,
            "grid_template_areas": null,
            "grid_template_columns": null,
            "grid_template_rows": null,
            "height": null,
            "justify_content": null,
            "justify_items": null,
            "left": null,
            "margin": null,
            "max_height": null,
            "max_width": null,
            "min_height": null,
            "min_width": null,
            "object_fit": null,
            "object_position": null,
            "order": null,
            "overflow": null,
            "overflow_x": null,
            "overflow_y": null,
            "padding": null,
            "right": null,
            "top": null,
            "visibility": null,
            "width": null
          }
        },
        "d0c044d5af244f8ba6d9bcc72f749a75": {
          "model_module": "@jupyter-widgets/controls",
          "model_name": "DescriptionStyleModel",
          "model_module_version": "1.5.0",
          "state": {
            "_model_module": "@jupyter-widgets/controls",
            "_model_module_version": "1.5.0",
            "_model_name": "DescriptionStyleModel",
            "_view_count": null,
            "_view_module": "@jupyter-widgets/base",
            "_view_module_version": "1.2.0",
            "_view_name": "StyleView",
            "description_width": ""
          }
        },
        "45add6b8845b4562a6b59215d75bedd1": {
          "model_module": "@jupyter-widgets/base",
          "model_name": "LayoutModel",
          "model_module_version": "1.2.0",
          "state": {
            "_model_module": "@jupyter-widgets/base",
            "_model_module_version": "1.2.0",
            "_model_name": "LayoutModel",
            "_view_count": null,
            "_view_module": "@jupyter-widgets/base",
            "_view_module_version": "1.2.0",
            "_view_name": "LayoutView",
            "align_content": null,
            "align_items": null,
            "align_self": null,
            "border": null,
            "bottom": null,
            "display": null,
            "flex": null,
            "flex_flow": null,
            "grid_area": null,
            "grid_auto_columns": null,
            "grid_auto_flow": null,
            "grid_auto_rows": null,
            "grid_column": null,
            "grid_gap": null,
            "grid_row": null,
            "grid_template_areas": null,
            "grid_template_columns": null,
            "grid_template_rows": null,
            "height": null,
            "justify_content": null,
            "justify_items": null,
            "left": null,
            "margin": null,
            "max_height": null,
            "max_width": null,
            "min_height": null,
            "min_width": null,
            "object_fit": null,
            "object_position": null,
            "order": null,
            "overflow": null,
            "overflow_x": null,
            "overflow_y": null,
            "padding": null,
            "right": null,
            "top": null,
            "visibility": null,
            "width": null
          }
        },
        "f946b74f990a4e58ab614c731430a671": {
          "model_module": "@jupyter-widgets/controls",
          "model_name": "ProgressStyleModel",
          "model_module_version": "1.5.0",
          "state": {
            "_model_module": "@jupyter-widgets/controls",
            "_model_module_version": "1.5.0",
            "_model_name": "ProgressStyleModel",
            "_view_count": null,
            "_view_module": "@jupyter-widgets/base",
            "_view_module_version": "1.2.0",
            "_view_name": "StyleView",
            "bar_color": null,
            "description_width": ""
          }
        },
        "7edf657214f949e7926244cb4b9b4413": {
          "model_module": "@jupyter-widgets/controls",
          "model_name": "VBoxModel",
          "model_module_version": "1.5.0",
          "state": {
            "_dom_classes": [],
            "_model_module": "@jupyter-widgets/controls",
            "_model_module_version": "1.5.0",
            "_model_name": "VBoxModel",
            "_view_count": null,
            "_view_module": "@jupyter-widgets/controls",
            "_view_module_version": "1.5.0",
            "_view_name": "VBoxView",
            "box_style": "",
            "children": [
              "IPY_MODEL_87db2dfa78a746f78b848d998cc7de11",
              "IPY_MODEL_dcc9599fa3ab481ea56021776cb1b2f2"
            ],
            "layout": "IPY_MODEL_dfeb2e0302d749d2958912eac14ffcf7"
          }
        },
        "87db2dfa78a746f78b848d998cc7de11": {
          "model_module": "@jupyter-widgets/controls",
          "model_name": "LabelModel",
          "model_module_version": "1.5.0",
          "state": {
            "_dom_classes": [],
            "_model_module": "@jupyter-widgets/controls",
            "_model_module_version": "1.5.0",
            "_model_name": "LabelModel",
            "_view_count": null,
            "_view_module": "@jupyter-widgets/controls",
            "_view_module_version": "1.5.0",
            "_view_name": "LabelView",
            "description": "",
            "description_tooltip": null,
            "layout": "IPY_MODEL_083e99b5624e4e48aeeb9da8a5e90ca6",
            "placeholder": "​",
            "style": "IPY_MODEL_e94335a9022049c28dc4bd15e61b96bd",
            "value": "0.012 MB of 0.012 MB uploaded\r"
          }
        },
        "dcc9599fa3ab481ea56021776cb1b2f2": {
          "model_module": "@jupyter-widgets/controls",
          "model_name": "FloatProgressModel",
          "model_module_version": "1.5.0",
          "state": {
            "_dom_classes": [],
            "_model_module": "@jupyter-widgets/controls",
            "_model_module_version": "1.5.0",
            "_model_name": "FloatProgressModel",
            "_view_count": null,
            "_view_module": "@jupyter-widgets/controls",
            "_view_module_version": "1.5.0",
            "_view_name": "ProgressView",
            "bar_style": "",
            "description": "",
            "description_tooltip": null,
            "layout": "IPY_MODEL_56cf85bb3eac46458ac7af5ee957eadb",
            "max": 1,
            "min": 0,
            "orientation": "horizontal",
            "style": "IPY_MODEL_c0311b948091461d976b802b905f3c93",
            "value": 1
          }
        },
        "dfeb2e0302d749d2958912eac14ffcf7": {
          "model_module": "@jupyter-widgets/base",
          "model_name": "LayoutModel",
          "model_module_version": "1.2.0",
          "state": {
            "_model_module": "@jupyter-widgets/base",
            "_model_module_version": "1.2.0",
            "_model_name": "LayoutModel",
            "_view_count": null,
            "_view_module": "@jupyter-widgets/base",
            "_view_module_version": "1.2.0",
            "_view_name": "LayoutView",
            "align_content": null,
            "align_items": null,
            "align_self": null,
            "border": null,
            "bottom": null,
            "display": null,
            "flex": null,
            "flex_flow": null,
            "grid_area": null,
            "grid_auto_columns": null,
            "grid_auto_flow": null,
            "grid_auto_rows": null,
            "grid_column": null,
            "grid_gap": null,
            "grid_row": null,
            "grid_template_areas": null,
            "grid_template_columns": null,
            "grid_template_rows": null,
            "height": null,
            "justify_content": null,
            "justify_items": null,
            "left": null,
            "margin": null,
            "max_height": null,
            "max_width": null,
            "min_height": null,
            "min_width": null,
            "object_fit": null,
            "object_position": null,
            "order": null,
            "overflow": null,
            "overflow_x": null,
            "overflow_y": null,
            "padding": null,
            "right": null,
            "top": null,
            "visibility": null,
            "width": null
          }
        },
        "083e99b5624e4e48aeeb9da8a5e90ca6": {
          "model_module": "@jupyter-widgets/base",
          "model_name": "LayoutModel",
          "model_module_version": "1.2.0",
          "state": {
            "_model_module": "@jupyter-widgets/base",
            "_model_module_version": "1.2.0",
            "_model_name": "LayoutModel",
            "_view_count": null,
            "_view_module": "@jupyter-widgets/base",
            "_view_module_version": "1.2.0",
            "_view_name": "LayoutView",
            "align_content": null,
            "align_items": null,
            "align_self": null,
            "border": null,
            "bottom": null,
            "display": null,
            "flex": null,
            "flex_flow": null,
            "grid_area": null,
            "grid_auto_columns": null,
            "grid_auto_flow": null,
            "grid_auto_rows": null,
            "grid_column": null,
            "grid_gap": null,
            "grid_row": null,
            "grid_template_areas": null,
            "grid_template_columns": null,
            "grid_template_rows": null,
            "height": null,
            "justify_content": null,
            "justify_items": null,
            "left": null,
            "margin": null,
            "max_height": null,
            "max_width": null,
            "min_height": null,
            "min_width": null,
            "object_fit": null,
            "object_position": null,
            "order": null,
            "overflow": null,
            "overflow_x": null,
            "overflow_y": null,
            "padding": null,
            "right": null,
            "top": null,
            "visibility": null,
            "width": null
          }
        },
        "e94335a9022049c28dc4bd15e61b96bd": {
          "model_module": "@jupyter-widgets/controls",
          "model_name": "DescriptionStyleModel",
          "model_module_version": "1.5.0",
          "state": {
            "_model_module": "@jupyter-widgets/controls",
            "_model_module_version": "1.5.0",
            "_model_name": "DescriptionStyleModel",
            "_view_count": null,
            "_view_module": "@jupyter-widgets/base",
            "_view_module_version": "1.2.0",
            "_view_name": "StyleView",
            "description_width": ""
          }
        },
        "56cf85bb3eac46458ac7af5ee957eadb": {
          "model_module": "@jupyter-widgets/base",
          "model_name": "LayoutModel",
          "model_module_version": "1.2.0",
          "state": {
            "_model_module": "@jupyter-widgets/base",
            "_model_module_version": "1.2.0",
            "_model_name": "LayoutModel",
            "_view_count": null,
            "_view_module": "@jupyter-widgets/base",
            "_view_module_version": "1.2.0",
            "_view_name": "LayoutView",
            "align_content": null,
            "align_items": null,
            "align_self": null,
            "border": null,
            "bottom": null,
            "display": null,
            "flex": null,
            "flex_flow": null,
            "grid_area": null,
            "grid_auto_columns": null,
            "grid_auto_flow": null,
            "grid_auto_rows": null,
            "grid_column": null,
            "grid_gap": null,
            "grid_row": null,
            "grid_template_areas": null,
            "grid_template_columns": null,
            "grid_template_rows": null,
            "height": null,
            "justify_content": null,
            "justify_items": null,
            "left": null,
            "margin": null,
            "max_height": null,
            "max_width": null,
            "min_height": null,
            "min_width": null,
            "object_fit": null,
            "object_position": null,
            "order": null,
            "overflow": null,
            "overflow_x": null,
            "overflow_y": null,
            "padding": null,
            "right": null,
            "top": null,
            "visibility": null,
            "width": null
          }
        },
        "c0311b948091461d976b802b905f3c93": {
          "model_module": "@jupyter-widgets/controls",
          "model_name": "ProgressStyleModel",
          "model_module_version": "1.5.0",
          "state": {
            "_model_module": "@jupyter-widgets/controls",
            "_model_module_version": "1.5.0",
            "_model_name": "ProgressStyleModel",
            "_view_count": null,
            "_view_module": "@jupyter-widgets/base",
            "_view_module_version": "1.2.0",
            "_view_name": "StyleView",
            "bar_color": null,
            "description_width": ""
          }
        },
        "30a1e603f7414b23987af64d9caf8bbd": {
          "model_module": "@jupyter-widgets/controls",
          "model_name": "VBoxModel",
          "model_module_version": "1.5.0",
          "state": {
            "_dom_classes": [],
            "_model_module": "@jupyter-widgets/controls",
            "_model_module_version": "1.5.0",
            "_model_name": "VBoxModel",
            "_view_count": null,
            "_view_module": "@jupyter-widgets/controls",
            "_view_module_version": "1.5.0",
            "_view_name": "VBoxView",
            "box_style": "",
            "children": [
              "IPY_MODEL_67ef259d149a40e6a555f281dcf323f5",
              "IPY_MODEL_8491017446604629ac817fd6fcb73ebb"
            ],
            "layout": "IPY_MODEL_e884263d99c8413e994a5b1bb92d3768"
          }
        },
        "67ef259d149a40e6a555f281dcf323f5": {
          "model_module": "@jupyter-widgets/controls",
          "model_name": "LabelModel",
          "model_module_version": "1.5.0",
          "state": {
            "_dom_classes": [],
            "_model_module": "@jupyter-widgets/controls",
            "_model_module_version": "1.5.0",
            "_model_name": "LabelModel",
            "_view_count": null,
            "_view_module": "@jupyter-widgets/controls",
            "_view_module_version": "1.5.0",
            "_view_name": "LabelView",
            "description": "",
            "description_tooltip": null,
            "layout": "IPY_MODEL_e684606d38534ef19face590deba2adc",
            "placeholder": "​",
            "style": "IPY_MODEL_78fdaaa432724e4198cc1ba5d8ffd781",
            "value": "0.013 MB of 0.013 MB uploaded\r"
          }
        },
        "8491017446604629ac817fd6fcb73ebb": {
          "model_module": "@jupyter-widgets/controls",
          "model_name": "FloatProgressModel",
          "model_module_version": "1.5.0",
          "state": {
            "_dom_classes": [],
            "_model_module": "@jupyter-widgets/controls",
            "_model_module_version": "1.5.0",
            "_model_name": "FloatProgressModel",
            "_view_count": null,
            "_view_module": "@jupyter-widgets/controls",
            "_view_module_version": "1.5.0",
            "_view_name": "ProgressView",
            "bar_style": "",
            "description": "",
            "description_tooltip": null,
            "layout": "IPY_MODEL_6e2dfdddd3f648d289750790e506cbc4",
            "max": 1,
            "min": 0,
            "orientation": "horizontal",
            "style": "IPY_MODEL_0e433888a7bf47dfbf6228a383db99dc",
            "value": 1
          }
        },
        "e884263d99c8413e994a5b1bb92d3768": {
          "model_module": "@jupyter-widgets/base",
          "model_name": "LayoutModel",
          "model_module_version": "1.2.0",
          "state": {
            "_model_module": "@jupyter-widgets/base",
            "_model_module_version": "1.2.0",
            "_model_name": "LayoutModel",
            "_view_count": null,
            "_view_module": "@jupyter-widgets/base",
            "_view_module_version": "1.2.0",
            "_view_name": "LayoutView",
            "align_content": null,
            "align_items": null,
            "align_self": null,
            "border": null,
            "bottom": null,
            "display": null,
            "flex": null,
            "flex_flow": null,
            "grid_area": null,
            "grid_auto_columns": null,
            "grid_auto_flow": null,
            "grid_auto_rows": null,
            "grid_column": null,
            "grid_gap": null,
            "grid_row": null,
            "grid_template_areas": null,
            "grid_template_columns": null,
            "grid_template_rows": null,
            "height": null,
            "justify_content": null,
            "justify_items": null,
            "left": null,
            "margin": null,
            "max_height": null,
            "max_width": null,
            "min_height": null,
            "min_width": null,
            "object_fit": null,
            "object_position": null,
            "order": null,
            "overflow": null,
            "overflow_x": null,
            "overflow_y": null,
            "padding": null,
            "right": null,
            "top": null,
            "visibility": null,
            "width": null
          }
        },
        "e684606d38534ef19face590deba2adc": {
          "model_module": "@jupyter-widgets/base",
          "model_name": "LayoutModel",
          "model_module_version": "1.2.0",
          "state": {
            "_model_module": "@jupyter-widgets/base",
            "_model_module_version": "1.2.0",
            "_model_name": "LayoutModel",
            "_view_count": null,
            "_view_module": "@jupyter-widgets/base",
            "_view_module_version": "1.2.0",
            "_view_name": "LayoutView",
            "align_content": null,
            "align_items": null,
            "align_self": null,
            "border": null,
            "bottom": null,
            "display": null,
            "flex": null,
            "flex_flow": null,
            "grid_area": null,
            "grid_auto_columns": null,
            "grid_auto_flow": null,
            "grid_auto_rows": null,
            "grid_column": null,
            "grid_gap": null,
            "grid_row": null,
            "grid_template_areas": null,
            "grid_template_columns": null,
            "grid_template_rows": null,
            "height": null,
            "justify_content": null,
            "justify_items": null,
            "left": null,
            "margin": null,
            "max_height": null,
            "max_width": null,
            "min_height": null,
            "min_width": null,
            "object_fit": null,
            "object_position": null,
            "order": null,
            "overflow": null,
            "overflow_x": null,
            "overflow_y": null,
            "padding": null,
            "right": null,
            "top": null,
            "visibility": null,
            "width": null
          }
        },
        "78fdaaa432724e4198cc1ba5d8ffd781": {
          "model_module": "@jupyter-widgets/controls",
          "model_name": "DescriptionStyleModel",
          "model_module_version": "1.5.0",
          "state": {
            "_model_module": "@jupyter-widgets/controls",
            "_model_module_version": "1.5.0",
            "_model_name": "DescriptionStyleModel",
            "_view_count": null,
            "_view_module": "@jupyter-widgets/base",
            "_view_module_version": "1.2.0",
            "_view_name": "StyleView",
            "description_width": ""
          }
        },
        "6e2dfdddd3f648d289750790e506cbc4": {
          "model_module": "@jupyter-widgets/base",
          "model_name": "LayoutModel",
          "model_module_version": "1.2.0",
          "state": {
            "_model_module": "@jupyter-widgets/base",
            "_model_module_version": "1.2.0",
            "_model_name": "LayoutModel",
            "_view_count": null,
            "_view_module": "@jupyter-widgets/base",
            "_view_module_version": "1.2.0",
            "_view_name": "LayoutView",
            "align_content": null,
            "align_items": null,
            "align_self": null,
            "border": null,
            "bottom": null,
            "display": null,
            "flex": null,
            "flex_flow": null,
            "grid_area": null,
            "grid_auto_columns": null,
            "grid_auto_flow": null,
            "grid_auto_rows": null,
            "grid_column": null,
            "grid_gap": null,
            "grid_row": null,
            "grid_template_areas": null,
            "grid_template_columns": null,
            "grid_template_rows": null,
            "height": null,
            "justify_content": null,
            "justify_items": null,
            "left": null,
            "margin": null,
            "max_height": null,
            "max_width": null,
            "min_height": null,
            "min_width": null,
            "object_fit": null,
            "object_position": null,
            "order": null,
            "overflow": null,
            "overflow_x": null,
            "overflow_y": null,
            "padding": null,
            "right": null,
            "top": null,
            "visibility": null,
            "width": null
          }
        },
        "0e433888a7bf47dfbf6228a383db99dc": {
          "model_module": "@jupyter-widgets/controls",
          "model_name": "ProgressStyleModel",
          "model_module_version": "1.5.0",
          "state": {
            "_model_module": "@jupyter-widgets/controls",
            "_model_module_version": "1.5.0",
            "_model_name": "ProgressStyleModel",
            "_view_count": null,
            "_view_module": "@jupyter-widgets/base",
            "_view_module_version": "1.2.0",
            "_view_name": "StyleView",
            "bar_color": null,
            "description_width": ""
          }
        },
        "be72cd8232874ea9bd52510a14cedc74": {
          "model_module": "@jupyter-widgets/controls",
          "model_name": "VBoxModel",
          "model_module_version": "1.5.0",
          "state": {
            "_dom_classes": [],
            "_model_module": "@jupyter-widgets/controls",
            "_model_module_version": "1.5.0",
            "_model_name": "VBoxModel",
            "_view_count": null,
            "_view_module": "@jupyter-widgets/controls",
            "_view_module_version": "1.5.0",
            "_view_name": "VBoxView",
            "box_style": "",
            "children": [
              "IPY_MODEL_0b968d8248014921bfcea4664a2421fb",
              "IPY_MODEL_ff47c220a56644eaa08fd0aa9f01a605"
            ],
            "layout": "IPY_MODEL_ca82965ec3b74eb1b130d2044c5df50b"
          }
        },
        "0b968d8248014921bfcea4664a2421fb": {
          "model_module": "@jupyter-widgets/controls",
          "model_name": "LabelModel",
          "model_module_version": "1.5.0",
          "state": {
            "_dom_classes": [],
            "_model_module": "@jupyter-widgets/controls",
            "_model_module_version": "1.5.0",
            "_model_name": "LabelModel",
            "_view_count": null,
            "_view_module": "@jupyter-widgets/controls",
            "_view_module_version": "1.5.0",
            "_view_name": "LabelView",
            "description": "",
            "description_tooltip": null,
            "layout": "IPY_MODEL_4dec804355214a83ad1abe1cc7c7c55e",
            "placeholder": "​",
            "style": "IPY_MODEL_e35c35a0fd7e49fdaa309d5930ed3c11",
            "value": "0.012 MB of 0.012 MB uploaded\r"
          }
        },
        "ff47c220a56644eaa08fd0aa9f01a605": {
          "model_module": "@jupyter-widgets/controls",
          "model_name": "FloatProgressModel",
          "model_module_version": "1.5.0",
          "state": {
            "_dom_classes": [],
            "_model_module": "@jupyter-widgets/controls",
            "_model_module_version": "1.5.0",
            "_model_name": "FloatProgressModel",
            "_view_count": null,
            "_view_module": "@jupyter-widgets/controls",
            "_view_module_version": "1.5.0",
            "_view_name": "ProgressView",
            "bar_style": "",
            "description": "",
            "description_tooltip": null,
            "layout": "IPY_MODEL_f10f1902dcf747ffa788ac8e5b0666e3",
            "max": 1,
            "min": 0,
            "orientation": "horizontal",
            "style": "IPY_MODEL_fe390d0373594a75adb9b7ed542c1bd8",
            "value": 1
          }
        },
        "ca82965ec3b74eb1b130d2044c5df50b": {
          "model_module": "@jupyter-widgets/base",
          "model_name": "LayoutModel",
          "model_module_version": "1.2.0",
          "state": {
            "_model_module": "@jupyter-widgets/base",
            "_model_module_version": "1.2.0",
            "_model_name": "LayoutModel",
            "_view_count": null,
            "_view_module": "@jupyter-widgets/base",
            "_view_module_version": "1.2.0",
            "_view_name": "LayoutView",
            "align_content": null,
            "align_items": null,
            "align_self": null,
            "border": null,
            "bottom": null,
            "display": null,
            "flex": null,
            "flex_flow": null,
            "grid_area": null,
            "grid_auto_columns": null,
            "grid_auto_flow": null,
            "grid_auto_rows": null,
            "grid_column": null,
            "grid_gap": null,
            "grid_row": null,
            "grid_template_areas": null,
            "grid_template_columns": null,
            "grid_template_rows": null,
            "height": null,
            "justify_content": null,
            "justify_items": null,
            "left": null,
            "margin": null,
            "max_height": null,
            "max_width": null,
            "min_height": null,
            "min_width": null,
            "object_fit": null,
            "object_position": null,
            "order": null,
            "overflow": null,
            "overflow_x": null,
            "overflow_y": null,
            "padding": null,
            "right": null,
            "top": null,
            "visibility": null,
            "width": null
          }
        },
        "4dec804355214a83ad1abe1cc7c7c55e": {
          "model_module": "@jupyter-widgets/base",
          "model_name": "LayoutModel",
          "model_module_version": "1.2.0",
          "state": {
            "_model_module": "@jupyter-widgets/base",
            "_model_module_version": "1.2.0",
            "_model_name": "LayoutModel",
            "_view_count": null,
            "_view_module": "@jupyter-widgets/base",
            "_view_module_version": "1.2.0",
            "_view_name": "LayoutView",
            "align_content": null,
            "align_items": null,
            "align_self": null,
            "border": null,
            "bottom": null,
            "display": null,
            "flex": null,
            "flex_flow": null,
            "grid_area": null,
            "grid_auto_columns": null,
            "grid_auto_flow": null,
            "grid_auto_rows": null,
            "grid_column": null,
            "grid_gap": null,
            "grid_row": null,
            "grid_template_areas": null,
            "grid_template_columns": null,
            "grid_template_rows": null,
            "height": null,
            "justify_content": null,
            "justify_items": null,
            "left": null,
            "margin": null,
            "max_height": null,
            "max_width": null,
            "min_height": null,
            "min_width": null,
            "object_fit": null,
            "object_position": null,
            "order": null,
            "overflow": null,
            "overflow_x": null,
            "overflow_y": null,
            "padding": null,
            "right": null,
            "top": null,
            "visibility": null,
            "width": null
          }
        },
        "e35c35a0fd7e49fdaa309d5930ed3c11": {
          "model_module": "@jupyter-widgets/controls",
          "model_name": "DescriptionStyleModel",
          "model_module_version": "1.5.0",
          "state": {
            "_model_module": "@jupyter-widgets/controls",
            "_model_module_version": "1.5.0",
            "_model_name": "DescriptionStyleModel",
            "_view_count": null,
            "_view_module": "@jupyter-widgets/base",
            "_view_module_version": "1.2.0",
            "_view_name": "StyleView",
            "description_width": ""
          }
        },
        "f10f1902dcf747ffa788ac8e5b0666e3": {
          "model_module": "@jupyter-widgets/base",
          "model_name": "LayoutModel",
          "model_module_version": "1.2.0",
          "state": {
            "_model_module": "@jupyter-widgets/base",
            "_model_module_version": "1.2.0",
            "_model_name": "LayoutModel",
            "_view_count": null,
            "_view_module": "@jupyter-widgets/base",
            "_view_module_version": "1.2.0",
            "_view_name": "LayoutView",
            "align_content": null,
            "align_items": null,
            "align_self": null,
            "border": null,
            "bottom": null,
            "display": null,
            "flex": null,
            "flex_flow": null,
            "grid_area": null,
            "grid_auto_columns": null,
            "grid_auto_flow": null,
            "grid_auto_rows": null,
            "grid_column": null,
            "grid_gap": null,
            "grid_row": null,
            "grid_template_areas": null,
            "grid_template_columns": null,
            "grid_template_rows": null,
            "height": null,
            "justify_content": null,
            "justify_items": null,
            "left": null,
            "margin": null,
            "max_height": null,
            "max_width": null,
            "min_height": null,
            "min_width": null,
            "object_fit": null,
            "object_position": null,
            "order": null,
            "overflow": null,
            "overflow_x": null,
            "overflow_y": null,
            "padding": null,
            "right": null,
            "top": null,
            "visibility": null,
            "width": null
          }
        },
        "fe390d0373594a75adb9b7ed542c1bd8": {
          "model_module": "@jupyter-widgets/controls",
          "model_name": "ProgressStyleModel",
          "model_module_version": "1.5.0",
          "state": {
            "_model_module": "@jupyter-widgets/controls",
            "_model_module_version": "1.5.0",
            "_model_name": "ProgressStyleModel",
            "_view_count": null,
            "_view_module": "@jupyter-widgets/base",
            "_view_module_version": "1.2.0",
            "_view_name": "StyleView",
            "bar_color": null,
            "description_width": ""
          }
        }
      }
    }
  },
  "nbformat": 4,
  "nbformat_minor": 0
}