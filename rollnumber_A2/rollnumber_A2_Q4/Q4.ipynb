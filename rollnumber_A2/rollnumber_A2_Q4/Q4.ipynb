{
  "cells": [
    {
      "cell_type": "markdown",
      "metadata": {
        "id": "lvpf93Fv9Hlk"
      },
      "source": [
        "# SMAI Assignment - 2\n",
        "\n",
        "## Question 4: Multi-layer Perceptrons\n",
        "\n",
        "### Digit Classification\n",
        "\n",
        "In this question, you will perform digit classification using MLP. You can use the MLPClassifier from sklearn. Train and two test sets have been provided [here](https://drive.google.com/drive/folders/1OUVrOMp2jSSBDJSqvEyXDFTrhiyZnqit?usp=sharing). Report the accuracy and any other interesting observations."
      ]
    },
    {
      "cell_type": "code",
      "execution_count": 2,
      "metadata": {
        "id": "G-MpagLl-YJp"
      },
      "outputs": [],
      "source": [
        "import numpy as np\n",
        "import h5py"
      ]
    },
    {
      "cell_type": "code",
      "execution_count": 3,
      "metadata": {
        "id": "cHAbz92352gz"
      },
      "outputs": [
        {
          "name": "stdout",
          "output_type": "stream",
          "text": [
            "(2726, 28, 28, 3)\n",
            "(2726,)\n"
          ]
        }
      ],
      "source": [
        "filename = \"training_3digits.hdf5\"\n",
        "train = h5py.File(filename,'r')\n",
        "train_images = np.array(train['images'])\n",
        "train_digits = np.array(train['digits'])\n",
        "train.close()\n",
        "\n",
        "print(train_images.shape)\n",
        "print(train_digits.shape)"
      ]
    },
    {
      "cell_type": "code",
      "execution_count": 8,
      "metadata": {},
      "outputs": [
        {
          "name": "stdout",
          "output_type": "stream",
          "text": [
            "(3147, 28, 28, 3)\n",
            "(3147,)\n"
          ]
        }
      ],
      "source": [
        "filename = \"testing_3digits_part2.hdf5\"\n",
        "test2 = h5py.File(filename,'r')\n",
        "test_images_2 = np.array(test2['images'])\n",
        "test_digits_2 = np.array(test2['digits'])\n",
        "test2.close()\n",
        "\n",
        "print(test_images_2.shape)\n",
        "print(test_digits_2.shape)"
      ]
    },
    {
      "cell_type": "markdown",
      "metadata": {},
      "source": [
        "Train images are total of 2726 , each be like 28*28*3. Since there are three channels.\n",
        "Train digits are total of 2726, each corresponding to digit in the photo.\n",
        "\n"
      ]
    },
    {
      "cell_type": "code",
      "execution_count": 4,
      "metadata": {
        "id": "5MLBdrs65woF"
      },
      "outputs": [
        {
          "name": "stdout",
          "output_type": "stream",
          "text": [
            "(3147, 28, 28, 3)\n",
            "(3147,)\n"
          ]
        }
      ],
      "source": [
        "filename = \"testing_3digits_part1.hdf5\"\n",
        "test1 = h5py.File(filename,'r')\n",
        "test_images_1 = np.array(test1['images'])\n",
        "test_digits_1 = np.array(test1['digits'])\n",
        "test1.close()\n",
        "\n",
        "print(test_images_1.shape)\n",
        "print(test_digits_1.shape)\n"
      ]
    },
    {
      "cell_type": "code",
      "execution_count": 19,
      "metadata": {},
      "outputs": [
        {
          "data": {
            "image/png": "[encoded data removed]",
            "text/plain": [
              "<Figure size 1000x500 with 2 Axes>"
            ]
          },
          "metadata": {},
          "output_type": "display_data"
        }
      ],
      "source": [
        "import matplotlib.pyplot as plt\n",
        "\n",
        "# Display the first image from each set side by side\n",
        "plt.figure(figsize=(10, 5))\n",
        "\n",
        "# Plot for train_images set\n",
        "plt.subplot(1, 2, 1)\n",
        "plt.title('Train Image set1 [1]')\n",
        "plt.imshow(test_images_1[1])\n",
        "plt.axis('off')\n",
        "\n",
        "# Plot for train_images2 set\n",
        "plt.subplot(1, 2, 2)\n",
        "plt.title('Train Image set2 [2]')\n",
        "plt.imshow(test_images_2[1])\n",
        "plt.axis('off')\n",
        "\n",
        "plt.show()\n"
      ]
    },
    {
      "cell_type": "markdown",
      "metadata": {},
      "source": [
        "Test Images are total of 3147 ,each be like 28*28*3. Since there are three channels.\n",
        "Test digits are total of 3147, each corresponding to digit in the photo."
      ]
    },
    {
      "cell_type": "markdown",
      "metadata": {},
      "source": [
        "### CASE 1 : DIRECTLY FLATTEN THE IMAGES \n"
      ]
    },
    {
      "cell_type": "code",
      "execution_count": 17,
      "metadata": {},
      "outputs": [
        {
          "name": "stdout",
          "output_type": "stream",
          "text": [
            "(2726, 2352)\n",
            "(3147, 2352)\n",
            "Accuracy Score Test1 1.0\n",
            "Accuracy Score Test2 0.0\n"
          ]
        }
      ],
      "source": [
        "from sklearn.neural_network import MLPClassifier\n",
        "from sklearn.metrics import accuracy_score\n",
        "# directly flatten the train images \n",
        "train_images_flat = train_images.reshape(train_images.shape[0],-1)\n",
        "test_images_flat_1= test_images_1.reshape(test_images_1.shape[0],-1)\n",
        "\n",
        "print(train_images_flat.shape)\n",
        "print(test_images_flat_1.shape)\n",
        "\n",
        "# here noe use MLP classifer to fit on the train images and train digits\n",
        "\n",
        "mlp_1=MLPClassifier(hidden_layer_sizes=(50,),max_iter=100,random_state=42)\n",
        "mlp_1.fit(train_images_flat,train_digits)\n",
        "\n",
        "# now use the trained model to predict the test images\n",
        "predicted_1=mlp_1.predict(test_images_flat_1)\n",
        "print(\"Accuracy Score Test1\",accuracy_score(test_digits_1,predicted_1))\n",
        "\n",
        "test_images_flat_2= test_images_2.reshape(test_images_2.shape[0],-1)\n",
        "predicted_2=mlp_1.predict(test_images_flat_2)\n",
        "print(\"Accuracy Score Test2\",accuracy_score(test_digits_2,predicted_2))\n",
        "\n",
        "\n",
        "                    "
      ]
    },
    {
      "cell_type": "markdown",
      "metadata": {},
      "source": [
        "### CASE 2: CONVERT THEM INTO THE GRAY IMAGES AND THEN FLATTEN THEM"
      ]
    },
    {
      "cell_type": "code",
      "execution_count": 24,
      "metadata": {},
      "outputs": [],
      "source": [
        "from sklearn.neural_network import MLPClassifier\n",
        "from sklearn.metrics import accuracy_score\n",
        "import matplotlib.pyplot as plt\n",
        "\n",
        "# flatten the images for input to the MLP\n",
        "# Flatten the images for MLP input\n",
        "gray_train_images = np.dot(train_images[..., :3], [0.299, 0.587, 0.114])\n",
        "gray_test_images= np.dot(test_images_1[..., :3], [0.299, 0.587, 0.114])\n",
        "\n",
        "# Flatten the images for MLP input\n",
        "gray_images_flattened = gray_train_images.reshape((gray_train_images.shape[0], -1))\n",
        "gray_test_images_flattened = gray_test_images.reshape((gray_test_images.shape[0], -1))\n",
        "\n",
        "gray_test_images_2= np.dot(test_images_2[..., :3], [0.299, 0.587, 0.114])\n",
        "gray_test_images_flattened_2 = gray_test_images_2.reshape((gray_test_images_2.shape[0], -1))\n",
        "\n",
        "\n"
      ]
    },
    {
      "cell_type": "code",
      "execution_count": 25,
      "metadata": {},
      "outputs": [
        {
          "name": "stdout",
          "output_type": "stream",
          "text": [
            "Accuracy Score test1 0.9945980298697172\n",
            "Accuracy Score test2 0.3606609469335875\n"
          ]
        }
      ],
      "source": [
        "# Train MLP Classifier\n",
        "mlp_2=MLPClassifier(hidden_layer_sizes=(50,),max_iter=300,random_state=42)\n",
        "mlp_2.fit(gray_images_flattened, train_digits)\n",
        "print(\"Accuracy Score test1\",accuracy_score(test_digits_1, mlp_2.predict(gray_test_images_flattened)))\n",
        "print(\"Accuracy Score test2\",accuracy_score(test_digits_2, mlp_2.predict(gray_test_images_flattened_2)))\n",
        "\n"
      ]
    },
    {
      "cell_type": "markdown",
      "metadata": {},
      "source": [
        "**Observation:**\n",
        "\n",
        "In the initial analysis, we noted that the accuracy for the first test set was perfect (1.0), while the accuracy for the second test set was zero. This discrepancy prompted further investigation.\n",
        "\n",
        "**Insight:**\n",
        "\n",
        "Upon closer examination, we discovered that the model was trained on color images where the digits were colored. Consequently, the model performed exceptionally well on the first test set, which also contained colored digits.\n",
        "\n",
        "However, the second test set consisted of uncolored digits, leading to a lack of recognition by the initially trained model and resulting in zero accuracy.\n",
        "\n",
        "**Solution:**\n",
        "\n",
        "To address this issue, we experimented with converting the images to grayscale. The grayscale conversion proved to be beneficial, especially for the second test set. The accuracy significantly improved to 30 percent. This enhancement highlights the importance of considering the color characteristics during training and adjusting accordingly for diverse test sets.\n",
        "\n",
        "- The decision on the number of layers and other parameters was iteratively optimized through experiments on various cases. This iterative approach is essential for adapting the model to different scenarios and ensuring robust performance across diverse datasets."
      ]
    }
  ],
  "metadata": {
    "colab": {
      "provenance": []
    },
    "kernelspec": {
      "display_name": "Python 3",
      "name": "python3"
    },
    "language_info": {
      "codemirror_mode": {
        "name": "ipython",
        "version": 3
      },
      "file_extension": ".py",
      "mimetype": "text/x-python",
      "name": "python",
      "nbconvert_exporter": "python",
      "pygments_lexer": "ipython3",
      "version": "3.11.0"
    }
  },
  "nbformat": 4,
  "nbformat_minor": 0
}
